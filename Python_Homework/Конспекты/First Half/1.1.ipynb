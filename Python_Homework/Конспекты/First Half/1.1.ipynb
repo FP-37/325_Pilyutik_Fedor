{
 "cells": [
  {
   "cell_type": "markdown",
   "source": [
    "Инициализируем переменную, в которой будем хранить обрабатываемую строку.\n",
    "Также в Python мы обязаны при инициализации переменной присваивать ей значение.\n",
    "Реализуем присваивание через ввод данных с клавиатуры с помощью стандартной функции input().\n",
    "По умолчанию input() принимает значение строчного типа."
   ],
   "metadata": {
    "collapsed": false,
    "pycharm": {
     "name": "#%% md\n"
    }
   }
  },
  {
   "cell_type": "code",
   "execution_count": null,
   "metadata": {
    "collapsed": true,
    "pycharm": {
     "name": "#%%\n"
    }
   },
   "outputs": [],
   "source": [
    "input_string = input()"
   ]
  },
  {
   "cell_type": "markdown",
   "source": [
    "Инициализируем переменную third_char, которая будет хранить значение третьего символа строки input_string.\n",
    "Чтобы поместить в third_char этот символ мы будем пользоваться способностью Python воспринимать строки как списки символов, т.е. для нас важно, что в Python для строк имеется индексация, что обычно свойственно спискам.\n",
    "Индексация в Python производится с нуля, поэтому для получения третьего символа используем индекс 2."
   ],
   "metadata": {
    "collapsed": false,
    "pycharm": {
     "name": "#%% md\n"
    }
   }
  },
  {
   "cell_type": "markdown",
   "source": [
    "Для вывода данных используем стандартную функцию print(), в параметрах которой указываем необходимые к выводу данные.\n",
    "Также в параметрах этой функции можно указать, например, сепаратор (\"sep=\"), что позволяет нам определять, каким символом будут отделены данные, если мы выводим несколько объектов, но в данной задаче это не имеет смысла."
   ],
   "metadata": {
    "collapsed": false,
    "pycharm": {
     "name": "#%% md\n"
    }
   }
  },
  {
   "cell_type": "code",
   "execution_count": null,
   "outputs": [],
   "source": [
    "third_char = input_string[2]\n",
    "print(third_char)"
   ],
   "metadata": {
    "collapsed": false,
    "pycharm": {
     "name": "#%%\n"
    }
   }
  },
  {
   "cell_type": "markdown",
   "source": [
    "Далее похожим образом выведем предпоследний символ, предварительно поместив его в переменную second_to_last.\n",
    "Единственное, что изменится - в индексе строки input_string в этот раз мы пропишем -2, что Python читает как второй с конца элемент строки."
   ],
   "metadata": {
    "collapsed": false,
    "pycharm": {
     "name": "#%% md\n"
    }
   }
  },
  {
   "cell_type": "code",
   "execution_count": null,
   "outputs": [],
   "source": [
    "second_to_last = input_string[-2]\n",
    "print(second_to_last)"
   ],
   "metadata": {
    "collapsed": false,
    "pycharm": {
     "name": "#%%\n"
    }
   }
  },
  {
   "cell_type": "markdown",
   "source": [
    "В переменную first_five ма поместим первые 5 символов строки input_string: указав в индексе \":5\" (аналогична \"0:5\" - от нуля до пяти невключительно) мы распорядились взять символы с индексами от нуля до четырёх - цифра 5 использовалась, так как синтаксис Python предполагает, что мы берём до пятого элемента невключительно - это повышает интуитивность использования языка, так как при такой записи как раз берётся пять элементов, а не шесть (что бы происходило, если бы элемент с индексом 5 тоже брался)."
   ],
   "metadata": {
    "collapsed": false,
    "pycharm": {
     "name": "#%% md\n"
    }
   }
  },
  {
   "cell_type": "code",
   "execution_count": null,
   "outputs": [],
   "source": [
    "first_five = input_string[:5]\n",
    "print(first_five)"
   ],
   "metadata": {
    "collapsed": false,
    "pycharm": {
     "name": "#%%\n"
    }
   }
  },
  {
   "cell_type": "markdown",
   "source": [
    "В строках ниже мы инициализируем переменную without_last_two, в которую поместим всю строку input_string за исключением последних двух её символов. Для этого в индексе input_string укажем значение \":-2\" - такая запись позволит нам досчитать строку до третьего с конца символа и остановиться, при этом, что важно, она будет работать при работе со строкой изначально неизвестного размера."
   ],
   "metadata": {
    "collapsed": false,
    "pycharm": {
     "name": "#%% md\n"
    }
   }
  },
  {
   "cell_type": "code",
   "execution_count": null,
   "outputs": [],
   "source": [
    "without_last_two = input_string[:-2]\n",
    "print(without_last_two)"
   ],
   "metadata": {
    "collapsed": false,
    "pycharm": {
     "name": "#%%\n"
    }
   }
  },
  {
   "cell_type": "markdown",
   "source": [
    "Реализуем вывод символов с чётными индексами. Число после второго двоеточия при индексации в Python обозначает шаг - \"2\" на этом месте обозначает, что берём каждое второе число. Так как начинаем с нулевого индекса, то наша подпрограмма заберёт все символы с чётными индексами, а с нечётными пропустит."
   ],
   "metadata": {
    "collapsed": false,
    "pycharm": {
     "name": "#%% md\n"
    }
   }
  },
  {
   "cell_type": "code",
   "execution_count": null,
   "outputs": [],
   "source": [
    "even_indices = input_string[0::2]\n",
    "print(even_indices)"
   ],
   "metadata": {
    "collapsed": false,
    "pycharm": {
     "name": "#%%\n"
    }
   }
  },
  {
   "cell_type": "markdown",
   "source": [
    "Единственное изменение - указали, что теперь начнём с элемента с индексом 1. Пропускаем чётные, нечётные записываем в odd_indices и в дальнейшем выводим на экран."
   ],
   "metadata": {
    "collapsed": false,
    "pycharm": {
     "name": "#%% md\n"
    }
   }
  },
  {
   "cell_type": "code",
   "execution_count": null,
   "outputs": [],
   "source": [
    "odd_indices = input_string[1::2]\n",
    "print(odd_indices)"
   ],
   "metadata": {
    "collapsed": false,
    "pycharm": {
     "name": "#%%\n"
    }
   }
  },
  {
   "cell_type": "markdown",
   "source": [
    "Шаг \"-1\" указывает на то, что строка будет прочитана в обратном порядке, и на выходе мы получим реверсированную строку."
   ],
   "metadata": {
    "collapsed": false,
    "pycharm": {
     "name": "#%% md\n"
    }
   }
  },
  {
   "cell_type": "code",
   "execution_count": null,
   "outputs": [],
   "source": [
    "reverse_string = input_string[::-1]\n",
    "print(reverse_string)"
   ],
   "metadata": {
    "collapsed": false,
    "pycharm": {
     "name": "#%%\n"
    }
   }
  },
  {
   "cell_type": "markdown",
   "source": [
    "\"-1\" в начале индексации указывает на начало отсчёта с последнего символа строки, \"-2\" в конце индексации указывает на то,\n",
    "что строка будет прочтена в обратном порядке с пропуском каждого второго символа."
   ],
   "metadata": {
    "collapsed": false,
    "pycharm": {
     "name": "#%% md\n"
    }
   }
  },
  {
   "cell_type": "code",
   "execution_count": null,
   "outputs": [],
   "source": [
    "reverse_every_other = input_string[-1::-2]\n",
    "print(reverse_every_other)"
   ],
   "metadata": {
    "collapsed": false,
    "pycharm": {
     "name": "#%%\n"
    }
   }
  },
  {
   "cell_type": "markdown",
   "source": [
    "Функция len() возвращает целочисленное значение количества элементов в строке или списке."
   ],
   "metadata": {
    "collapsed": false,
    "pycharm": {
     "name": "#%% md\n"
    }
   }
  },
  {
   "cell_type": "code",
   "execution_count": null,
   "outputs": [],
   "source": [
    "string_length = len(input_string)\n",
    "print(string_length)"
   ],
   "metadata": {
    "collapsed": false,
    "pycharm": {
     "name": "#%%\n"
    }
   }
  },
  {
   "cell_type": "markdown",
   "source": [
    "Выполненная задача:\n",
    "\n",
    "Входные данные\n",
    "Дана строка.\n",
    "\n",
    "Выходные данные\n",
    "Сначала выведите третий символ этой строки.\n",
    "\n",
    "Во второй строке выведите предпоследний символ этой строки.\n",
    "\n",
    "В третьей строке выведите первые пять символов этой строки.\n",
    "\n",
    "В четвертой строке выведите всю строку, кроме последних двух символов.\n",
    "\n",
    "В пятой строке выведите все символы с четными индексами (считая, что индексация начинается с 0, поэтому символы\n",
    "выводятся начиная с первого).\n",
    "\n",
    "В шестой строке выведите все символы с нечетными индексами, то есть начиная со второго символа строки.\n",
    "\n",
    "В седьмой строке выведите все символы в обратном порядке.\n",
    "\n",
    "В восьмой строке выведите все символы строки через один в обратном порядке, начиная с последнего.\n",
    "\n",
    "В девятой строке выведите длину данной строки."
   ],
   "metadata": {
    "collapsed": false,
    "pycharm": {
     "name": "#%% md\n"
    }
   }
  }
 ],
 "metadata": {
  "kernelspec": {
   "display_name": "Python 3",
   "language": "python",
   "name": "python3"
  },
  "language_info": {
   "codemirror_mode": {
    "name": "ipython",
    "version": 2
   },
   "file_extension": ".py",
   "mimetype": "text/x-python",
   "name": "python",
   "nbconvert_exporter": "python",
   "pygments_lexer": "ipython2",
   "version": "2.7.6"
  }
 },
 "nbformat": 4,
 "nbformat_minor": 0
}