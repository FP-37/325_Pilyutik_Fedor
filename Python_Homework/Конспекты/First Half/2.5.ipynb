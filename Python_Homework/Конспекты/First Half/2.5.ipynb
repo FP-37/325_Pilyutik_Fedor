{
 "cells": [
  {
   "cell_type": "markdown",
   "source": [
    "Иниициализируем функцию CaesarCipher, которая будет принимать в качестве входящих значений строку S, необходимую к шифрованию, и целое число k - значение сдвига шифра.\n",
    "Далее создадим пустую строку new_string, в которую будем записывать зашифрованную строку от первоначальной S.\n",
    "Далее проходимся по каждой букве в нашей строке:\n",
    "Если элемент оказался пробелом - добавляем пробел в новую строку и переходим к следующей итерации цикла.\n",
    "Для перехода к новой итерации используем ключевое слово continue - оно используется внутри циклов для принудительного завершения итерации и начала следующей.\n",
    "Далее мы будем определять, что указанный символ точно содержится в латинском алфавите. Для этого мы сначала узнаем, под каким номером закодирован взятый в итерации символ. Используем функцию ord(), которая возвращает номер символа в дефолтовой кодировке.\n",
    "Буквы латинского алфавита имеют номера в кодировке от 65 до 90 и от 97 до 122 (верхний и нижний регистр).\n",
    "Проверяем - если полученый номер есть среди номеров для символов латинского алфавита, то шифруем букву и добавляем в новую строку.\n",
    "Однако учитываем сдвиг - для указанного символа среди последних букв алфавита, мы через elif учитываем перенос при шифровании в начало алфавита.\n",
    "При шифровании мы также пользуемся функцией chr(), которая противоположна функции ord() - принимая соответствующий целочисленный номер, функция возвращает элемент символьного типа."
   ],
   "metadata": {
    "collapsed": false,
    "pycharm": {
     "name": "#%% md\n"
    }
   }
  },
  {
   "cell_type": "code",
   "execution_count": null,
   "metadata": {
    "collapsed": true,
    "pycharm": {
     "name": "#%%\n"
    }
   },
   "outputs": [],
   "source": [
    "def CaesarCipher(S,k):\n",
    "\n",
    "    new_string = \"\"\n",
    "\n",
    "    for letter in S:\n",
    "\n",
    "        if letter == \" \":\n",
    "            new_string += letter\n",
    "            continue\n",
    "\n",
    "        num_of_l = ord(letter)\n",
    "\n",
    "        if (num_of_l >= 97 and num_of_l <= 119) or (num_of_l >= 65 and num_of_l <= 87):\n",
    "            letter = chr(num_of_l+k)\n",
    "        elif (num_of_l >= 123-k and num_of_l <= 122) or (num_of_l >= 90-k and num_of_l <= 90):\n",
    "            if letter.isupper():\n",
    "                letter = chr(64+(num_of_l%(89-k)))\n",
    "            else:\n",
    "                letter = chr(96+(num_of_l%(122-k)))\n",
    "        new_string += letter\n",
    "\n",
    "    return new_string"
   ]
  },
  {
   "cell_type": "markdown",
   "source": [
    "Инициализируем и заполняем строку our_string, а на экран выводим значение функции CaesarCipher с вошедшими в неё строкой our_string и переменной k равной 3 (в соответствии с условием задачи, т.к. сдвиг должен быть равен трём)."
   ],
   "metadata": {
    "collapsed": false,
    "pycharm": {
     "name": "#%% md\n"
    }
   }
  },
  {
   "cell_type": "code",
   "execution_count": null,
   "outputs": [],
   "source": [
    "our_string = input()\n",
    "print(CaesarCipher(our_string,3))"
   ],
   "metadata": {
    "collapsed": false,
    "pycharm": {
     "name": "#%%\n"
    }
   }
  }
 ],
 "metadata": {
  "kernelspec": {
   "display_name": "Python 3",
   "language": "python",
   "name": "python3"
  },
  "language_info": {
   "codemirror_mode": {
    "name": "ipython",
    "version": 2
   },
   "file_extension": ".py",
   "mimetype": "text/x-python",
   "name": "python",
   "nbconvert_exporter": "python",
   "pygments_lexer": "ipython2",
   "version": "2.7.6"
  }
 },
 "nbformat": 4,
 "nbformat_minor": 0
}