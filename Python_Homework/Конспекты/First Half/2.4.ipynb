{
 "cells": [
  {
   "cell_type": "markdown",
   "source": [
    "Реализуем функцию Eval со входящим значением в виде строки S.\n",
    "Так как наша задача предполагает строку с обязательным содержанием одного из трёх арифметических знаков, проверим S на содержание плюса или минуса и в случае их отсутствия будем предполагать, что в строке указано умножение.\n",
    "Примечание: <элемент> in <список/строка> возвращает значение True/False в зависимости от наличия элемента в списке.\n",
    "При определении математического знака мы сначала находим индекс этого знака в строке путём использования функции find(), а дальше в новую переменную result помещаем результат указанного действия между элементами справа и слева от индекса знака.\n",
    "Переменную result используем как выходящее значение из функции."
   ],
   "metadata": {
    "collapsed": false,
    "pycharm": {
     "name": "#%% md\n"
    }
   }
  },
  {
   "cell_type": "code",
   "execution_count": null,
   "metadata": {
    "collapsed": true,
    "pycharm": {
     "name": "#%%\n"
    }
   },
   "outputs": [],
   "source": [
    "def Eval(S):\n",
    "\n",
    "    if \"+\" in S:\n",
    "        plus_index = S.find(\"+\")\n",
    "        result = int(S[:plus_index]) + int(S[plus_index+1:])\n",
    "    elif \"-\" in S:\n",
    "        minus_index = S.find(\"-\")\n",
    "        result = int(S[:minus_index]) - int(S[minus_index+1:])\n",
    "    else:\n",
    "        multi_index = S.find(\"*\")\n",
    "        result = int(S[:multi_index]) * int(S[multi_index+1:])\n",
    "\n",
    "    return result"
   ]
  },
  {
   "cell_type": "markdown",
   "source": [
    "За пределами инициализации функции инициализируем новую строку our_string и присвоим ей значение, введённое с клавиатуры. Далее выведем на экран выходящее значение из функции Eval(our_string)."
   ],
   "metadata": {
    "collapsed": false,
    "pycharm": {
     "name": "#%% md\n"
    }
   }
  },
  {
   "cell_type": "code",
   "execution_count": null,
   "outputs": [],
   "source": [
    "our_string = input()\n",
    "print(Eval(our_string))"
   ],
   "metadata": {
    "collapsed": false,
    "pycharm": {
     "name": "#%%\n"
    }
   }
  },
  {
   "cell_type": "markdown",
   "source": [
    "Выполненная задача:\n",
    "\n",
    "Дано выражение одно из следующих видов: “A+B”, “A-B” или “A*B”, где A и B - целые числа от 0 до 10^9.\n",
    "Определите значение этого выражения.\n",
    "\n",
    "Решение оформите в виде функции Eval(S)."
   ],
   "metadata": {
    "collapsed": false,
    "pycharm": {
     "name": "#%% md\n"
    }
   }
  }
 ],
 "metadata": {
  "kernelspec": {
   "display_name": "Python 3",
   "language": "python",
   "name": "python3"
  },
  "language_info": {
   "codemirror_mode": {
    "name": "ipython",
    "version": 2
   },
   "file_extension": ".py",
   "mimetype": "text/x-python",
   "name": "python",
   "nbconvert_exporter": "python",
   "pygments_lexer": "ipython2",
   "version": "2.7.6"
  }
 },
 "nbformat": 4,
 "nbformat_minor": 0
}