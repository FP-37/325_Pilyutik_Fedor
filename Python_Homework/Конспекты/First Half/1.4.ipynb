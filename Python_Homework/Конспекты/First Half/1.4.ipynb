{
 "cells": [
  {
   "cell_type": "markdown",
   "source": [
    "Да, опять инициализируем переменную input_string и помещаем в неё значение строки, введённой с клавиатуры."
   ],
   "metadata": {
    "collapsed": false,
    "pycharm": {
     "name": "#%% md\n"
    }
   }
  },
  {
   "cell_type": "code",
   "execution_count": null,
   "metadata": {
    "collapsed": true,
    "pycharm": {
     "name": "#%%\n"
    }
   },
   "outputs": [],
   "source": [
    "input_string = input()"
   ]
  },
  {
   "cell_type": "markdown",
   "source": [
    "Для поиска индекса - места в строке, где заканчивается первое слово - используем функцию find() - она позволяет реализовать поиск индекса элемента, указанного в параметрах функции (берёт только первое совпадение). Первое слово заканчивается появлением пробела => в параметры find() поместим ' ' (пробел).\n",
    "Второе слово начинается после пробела => берём уже найденный индекс для первого слова и прибавляем к нему единицу."
   ],
   "metadata": {
    "collapsed": false,
    "pycharm": {
     "name": "#%% md\n"
    }
   }
  },
  {
   "cell_type": "code",
   "execution_count": null,
   "outputs": [],
   "source": [
    "first_word_index = input_string.find(' ')\n",
    "second_word_index = first_word_index + 1"
   ],
   "metadata": {
    "collapsed": false,
    "pycharm": {
     "name": "#%%\n"
    }
   }
  },
  {
   "cell_type": "markdown",
   "source": [
    "Создадим строку, в которой, используя конкатенацию, соединим второе и первое слово строки input_string (то есть та же строка, но со словами в обратном порядке), разделив их пробелом.\n",
    "Второе слово - первоначальная строка от индекса second_word_index до конца строки.\n",
    "Первое слово - первоначальная строка от начала строки до индекса first_word_index (мы учли, что first_word_index указывает на пробел - при индексации, указывая на него, он включён не будет)."
   ],
   "metadata": {
    "collapsed": false,
    "pycharm": {
     "name": "#%% md\n"
    }
   }
  },
  {
   "cell_type": "code",
   "execution_count": null,
   "outputs": [],
   "source": [
    "reversed_string = input_string[second_word_index:] + \" \" +input_string[:first_word_index]"
   ],
   "metadata": {
    "collapsed": false,
    "pycharm": {
     "name": "#%%\n"
    }
   }
  },
  {
   "cell_type": "markdown",
   "source": [
    "Выведем результат на экран."
   ],
   "metadata": {
    "collapsed": false,
    "pycharm": {
     "name": "#%% md\n"
    }
   }
  },
  {
   "cell_type": "code",
   "execution_count": null,
   "outputs": [],
   "source": [
    "print(reversed_string)"
   ],
   "metadata": {
    "collapsed": false,
    "pycharm": {
     "name": "#%%\n"
    }
   }
  },
  {
   "cell_type": "markdown",
   "source": [
    "Выполненная задача:\n",
    "\n",
    "Дана строка, состоящая ровно из двух слов, разделенных пробелом. Переставьте эти слова местами. Результат запишите в строку и выведите получившуюся строку.\n",
    "\n",
    "При решении этой задачи нельзя пользоваться циклами и инструкцией if.\n",
    "\n",
    "Входные данные\n",
    "Вводится строка.\n",
    "\n",
    "Выходные данные\n",
    "Выведите ответ на задачу."
   ],
   "metadata": {
    "collapsed": false,
    "pycharm": {
     "name": "#%% md\n"
    }
   }
  },
  {
   "cell_type": "markdown",
   "source": [],
   "metadata": {
    "collapsed": false,
    "pycharm": {
     "name": "#%% md\n"
    }
   }
  }
 ],
 "metadata": {
  "kernelspec": {
   "display_name": "Python 3",
   "language": "python",
   "name": "python3"
  },
  "language_info": {
   "codemirror_mode": {
    "name": "ipython",
    "version": 2
   },
   "file_extension": ".py",
   "mimetype": "text/x-python",
   "name": "python",
   "nbconvert_exporter": "python",
   "pygments_lexer": "ipython2",
   "version": "2.7.6"
  }
 },
 "nbformat": 4,
 "nbformat_minor": 0
}