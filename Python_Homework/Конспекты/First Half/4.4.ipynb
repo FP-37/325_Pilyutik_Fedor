{
 "cells": [
  {
   "cell_type": "markdown",
   "source": [
    "Ещё один более гибкий способ задать двумерный список - создать функцию, которая будет наполнять каждый вложенный список в соответствии с определённым правилом и возвращать этот список во внешний. Таким образом реализуем функцию arr_zeros, заполнив массивы внутри нулями."
   ],
   "metadata": {
    "collapsed": false,
    "pycharm": {
     "name": "#%% md\n"
    }
   }
  },
  {
   "cell_type": "code",
   "execution_count": null,
   "metadata": {
    "collapsed": true,
    "pycharm": {
     "name": "#%%\n"
    }
   },
   "outputs": [],
   "source": [
    "def arr_zeros(how_big):\n",
    "    row = []\n",
    "    for _ in range(how_big):\n",
    "        row.append(0)\n",
    "    return row"
   ]
  },
  {
   "cell_type": "markdown",
   "source": [
    "Логику самой задачи реализуем следующим образом:\n",
    "Каждому элементу будем присваивать значение в зависимости его удалённости от главной диагонали. Для этого будем использовать модуль разности его индексов.\n",
    "Далее выводим на экран распакованные вложенные списки."
   ],
   "metadata": {
    "collapsed": false,
    "pycharm": {
     "name": "#%% md\n"
    }
   }
  },
  {
   "cell_type": "code",
   "execution_count": null,
   "outputs": [],
   "source": [
    "def main():\n",
    "    # Ввод размера списка и добавление пустого массива\n",
    "    n = int(input().strip())\n",
    "    array = []\n",
    "    # Создание двумерного списка\n",
    "    for _ in range(n):\n",
    "        array.append(arr_zeros(n))\n",
    "    # Реализация логики заполнения ячеек и вывод результата\n",
    "    for index_1, row in enumerate(array):\n",
    "        for index_2, column in enumerate(row):\n",
    "            column = abs(index_2-index_1)\n",
    "            row[index_2] = column\n",
    "        print(*row)"
   ],
   "metadata": {
    "collapsed": false,
    "pycharm": {
     "name": "#%%\n"
    }
   }
  },
  {
   "cell_type": "markdown",
   "source": [
    "Пропишем проверку на то, что наш скрипт выполняется напрямую (подробнее см. 3.1)."
   ],
   "metadata": {
    "collapsed": false,
    "pycharm": {
     "name": "#%% md\n"
    }
   }
  },
  {
   "cell_type": "code",
   "execution_count": null,
   "outputs": [],
   "source": [
    "if __name__ == \"__main__\":\n",
    "    main()"
   ],
   "metadata": {
    "collapsed": false,
    "pycharm": {
     "name": "#%%\n"
    }
   }
  },
  {
   "cell_type": "markdown",
   "source": [
    "Выполненная задача:\n",
    "\n",
    "Дано число n. Создайте массив размером n×n и заполните его по следующему правилу.\n",
    "На главной диагонали должны быть записаны числа 0. На двух диагоналях, прилегающих к главной, числа 1.\n",
    "На следующих двух диагоналях числа 2, и т.д."
   ],
   "metadata": {
    "collapsed": false,
    "pycharm": {
     "name": "#%% md\n"
    }
   }
  }
 ],
 "metadata": {
  "kernelspec": {
   "display_name": "Python 3",
   "language": "python",
   "name": "python3"
  },
  "language_info": {
   "codemirror_mode": {
    "name": "ipython",
    "version": 2
   },
   "file_extension": ".py",
   "mimetype": "text/x-python",
   "name": "python",
   "nbconvert_exporter": "python",
   "pygments_lexer": "ipython2",
   "version": "2.7.6"
  }
 },
 "nbformat": 4,
 "nbformat_minor": 0
}