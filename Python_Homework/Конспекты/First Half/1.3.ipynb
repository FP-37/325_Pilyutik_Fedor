{
 "cells": [
  {
   "cell_type": "markdown",
   "source": [
    "Инициализируем переменную input_string и присвоим ей строку, введённую с клавиатуры."
   ],
   "metadata": {
    "collapsed": false,
    "pycharm": {
     "name": "#%% md\n"
    }
   }
  },
  {
   "cell_type": "code",
   "execution_count": null,
   "metadata": {
    "collapsed": true,
    "pycharm": {
     "name": "#%%\n"
    }
   },
   "outputs": [],
   "source": [
    "input_string = input()"
   ]
  },
  {
   "cell_type": "markdown",
   "source": [
    "Новая переменная mid будет хранить целое число, обозначающее индекс-медиану нашей строки.\n",
    "Используем \"//\" - целочисленное деление. В таком случае при чётном количестве символов в строке мы получим символ перед серединой строки, а при нечётном - символ, расположенный перед центральным символом.\n",
    "Чтобы в случае нечётности взять индекс центрального символа мы добавим остаток от деления на 2 - при чётности значение переменной mid не изменится, а при нечётности произойдёт то, что нам нужно."
   ],
   "metadata": {
    "collapsed": false,
    "pycharm": {
     "name": "#%% md\n"
    }
   }
  },
  {
   "cell_type": "code",
   "execution_count": null,
   "outputs": [],
   "source": [
    "mid = len(input_string) // 2\n",
    "mid += (len(input_string) % 2)"
   ],
   "metadata": {
    "collapsed": false,
    "pycharm": {
     "name": "#%%\n"
    }
   }
  },
  {
   "cell_type": "markdown",
   "source": [
    "Переменной first_part будет присвоена строка со всеми символами input_string до середины невключительно.\n",
    "Переменной second_part - все символы input_string с середины до конца включительно."
   ],
   "metadata": {
    "collapsed": false,
    "pycharm": {
     "name": "#%% md\n"
    }
   }
  },
  {
   "cell_type": "code",
   "execution_count": null,
   "outputs": [],
   "source": [
    "first_part = input_string[:mid]\n",
    "second_part = input_string[mid:]"
   ],
   "metadata": {
    "collapsed": false,
    "pycharm": {
     "name": "#%%\n"
    }
   }
  },
  {
   "cell_type": "markdown",
   "source": [
    "Реализуем конкатенацию наших строк в обратном порядке. То есть производим сложение второй и первой строки в одну - Python предусматривает такую возможность."
   ],
   "metadata": {
    "collapsed": false,
    "pycharm": {
     "name": "#%% md\n"
    }
   }
  },
  {
   "cell_type": "code",
   "execution_count": null,
   "outputs": [],
   "source": [
    "reversed_string = second_part + first_part"
   ],
   "metadata": {
    "collapsed": false,
    "pycharm": {
     "name": "#%%\n"
    }
   }
  },
  {
   "cell_type": "markdown",
   "source": [
    "Вывод результата на экран"
   ],
   "metadata": {
    "collapsed": false,
    "pycharm": {
     "name": "#%% md\n"
    }
   }
  },
  {
   "cell_type": "code",
   "execution_count": null,
   "outputs": [],
   "source": [
    "print(reversed_string)"
   ],
   "metadata": {
    "collapsed": false,
    "pycharm": {
     "name": "#%%\n"
    }
   }
  },
  {
   "cell_type": "markdown",
   "source": [
    "Выполненная задача:\n",
    "\n",
    "Дана строка. Разрежьте ее на две равные части (если длина строки — четная, а если длина строки нечетная,\n",
    "то длина первой части должна быть на один символ больше). Переставьте эти две части местами,\n",
    "результат запишите в новую строку и выведите на экран.\n",
    "\n",
    "Важно: При решении этой задачи нельзя пользоваться инструкцией if.\n",
    "\n",
    "Входные данные\n",
    "Вводится строка.\n",
    "\n",
    "Выходные данные\n",
    "Выведите ответ на задачу."
   ],
   "metadata": {
    "collapsed": false,
    "pycharm": {
     "name": "#%% md\n"
    }
   }
  }
 ],
 "metadata": {
  "kernelspec": {
   "display_name": "Python 3",
   "language": "python",
   "name": "python3"
  },
  "language_info": {
   "codemirror_mode": {
    "name": "ipython",
    "version": 2
   },
   "file_extension": ".py",
   "mimetype": "text/x-python",
   "name": "python",
   "nbconvert_exporter": "python",
   "pygments_lexer": "ipython2",
   "version": "2.7.6"
  }
 },
 "nbformat": 4,
 "nbformat_minor": 0
}