{
 "cells": [
  {
   "cell_type": "markdown",
   "source": [
    "Реализуем задачу аналогично предыдущей, но матрица не будет квадратной. Основное различие - теперь в двумерном списке, заполненного \"*\", проверим сумму индексов на чётность, и в случае их чётности заменим значение на \".\" - это обеспечит шахматный рисунок."
   ],
   "metadata": {
    "collapsed": false,
    "pycharm": {
     "name": "#%% md\n"
    }
   }
  },
  {
   "cell_type": "code",
   "execution_count": null,
   "metadata": {
    "collapsed": true,
    "pycharm": {
     "name": "#%%\n"
    }
   },
   "outputs": [],
   "source": [
    "def main():\n",
    "    n, m = map(int, input().strip().split())\n",
    "    chessboard = [[\"*\" for j in range(m)] for i in range(n)]\n",
    "    for i in range(n):\n",
    "        for j in range(m):\n",
    "            if (i + j) % 2 == 0:\n",
    "                chessboard[i][j] = \".\"\n",
    "    for row in chessboard:\n",
    "        print(\" \".join(row))"
   ]
  },
  {
   "cell_type": "markdown",
   "source": [
    "Пропишем проверку на то, что наш скрипт выполняется напрямую (подробнее см. 3.1)."
   ],
   "metadata": {
    "collapsed": false,
    "pycharm": {
     "name": "#%% md\n"
    }
   }
  },
  {
   "cell_type": "code",
   "execution_count": null,
   "outputs": [],
   "source": [
    "if __name__ == \"__main__\":\n",
    "    main()"
   ],
   "metadata": {
    "collapsed": false,
    "pycharm": {
     "name": "#%%\n"
    }
   }
  },
  {
   "cell_type": "markdown",
   "source": [
    "Выполненная задача:\n",
    "\n",
    "Даны два числа n и m. Создайте двумерный массив размером n×m и заполните его символами \".\" и \"*\" в шахматном порядке.\n",
    "В левом верхнем углу должна стоять точка."
   ],
   "metadata": {
    "collapsed": false,
    "pycharm": {
     "name": "#%% md\n"
    }
   }
  }
 ],
 "metadata": {
  "kernelspec": {
   "display_name": "Python 3",
   "language": "python",
   "name": "python3"
  },
  "language_info": {
   "codemirror_mode": {
    "name": "ipython",
    "version": 2
   },
   "file_extension": ".py",
   "mimetype": "text/x-python",
   "name": "python",
   "nbconvert_exporter": "python",
   "pygments_lexer": "ipython2",
   "version": "2.7.6"
  }
 },
 "nbformat": 4,
 "nbformat_minor": 0
}