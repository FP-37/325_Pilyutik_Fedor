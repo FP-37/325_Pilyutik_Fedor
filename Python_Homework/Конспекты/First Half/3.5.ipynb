{
 "cells": [
  {
   "cell_type": "markdown",
   "source": [
    "Ввод данных аналогичен предыдущим задачам, но в данном случае нам нужен только массив.\n",
    "В четвёртой строке используем встроенную функцию max() для поиска максимального элемента массива.\n",
    "Выведем результат на экран."
   ],
   "metadata": {
    "collapsed": false,
    "pycharm": {
     "name": "#%% md\n"
    }
   }
  },
  {
   "cell_type": "code",
   "execution_count": null,
   "metadata": {
    "collapsed": true,
    "pycharm": {
     "name": "#%%\n"
    }
   },
   "outputs": [],
   "source": [
    "def main():\n",
    "    N = int(input().strip())\n",
    "    array = list(map(int, input().strip().split()))\n",
    "    max_element = max(array)\n",
    "    print(max_element)"
   ]
  },
  {
   "cell_type": "markdown",
   "source": [
    "Пропишем проверку на то, что наш скрипт выполняется напрямую (подробнее см. 3.1)."
   ],
   "metadata": {
    "collapsed": false,
    "pycharm": {
     "name": "#%% md\n"
    }
   }
  },
  {
   "cell_type": "code",
   "execution_count": null,
   "outputs": [],
   "source": [
    "if __name__ == \"__main__\":\n",
    "    main()"
   ],
   "metadata": {
    "collapsed": false,
    "pycharm": {
     "name": "#%%\n"
    }
   }
  },
  {
   "cell_type": "markdown",
   "source": [
    "Выполненная задача:\n",
    "\n",
    "Напишите программу, которая находит значение максимального элемента массива.\n",
    "\n",
    "Входные данные\n",
    "В первой строке задается одно натуральное число N, не превосходящее 1000 – размер массива.\n",
    "\n",
    "Во второй строке вводятся N чисел – элементы массива (целые числа, не превосходящие по модулю 1000).\n",
    "\n",
    "Выходные данные\n",
    "Вывести одно число – значение максимального элемента в массиве."
   ],
   "metadata": {
    "collapsed": false,
    "pycharm": {
     "name": "#%% md\n"
    }
   }
  }
 ],
 "metadata": {
  "kernelspec": {
   "display_name": "Python 3",
   "language": "python",
   "name": "python3"
  },
  "language_info": {
   "codemirror_mode": {
    "name": "ipython",
    "version": 2
   },
   "file_extension": ".py",
   "mimetype": "text/x-python",
   "name": "python",
   "nbconvert_exporter": "python",
   "pygments_lexer": "ipython2",
   "version": "2.7.6"
  }
 },
 "nbformat": 4,
 "nbformat_minor": 0
}