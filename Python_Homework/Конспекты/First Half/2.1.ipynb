{
 "cells": [
  {
   "cell_type": "markdown",
   "source": [
    "Функции в Python определяются при помощи ключевого слова \"def\" -\n",
    "def <название функции>(<входящие переменные>):\n",
    "Определив функцию IsPalindrome создадим два счётчика - первый будет реализовывать проход по строке от нулевого символа, второй - в обратном порядке от последнего символа.\n",
    "Далее до тех пор, пока не дойдём до середины слова, сравниваем симметрию символов. Если хотя бы один раз равенство символов не выполняется - функция выводит False, иначе - True.\n",
    "Возвращение значений из функций реализуется с помощью ключевого слова return. В рамках Python тип выходящего значения определяется автоматически - его не нужно задавать при создании функции."
   ],
   "metadata": {
    "collapsed": false,
    "pycharm": {
     "name": "#%% md\n"
    }
   }
  },
  {
   "cell_type": "code",
   "execution_count": null,
   "metadata": {
    "collapsed": true,
    "pycharm": {
     "name": "#%%\n"
    }
   },
   "outputs": [],
   "source": [
    "def IsPalindrome(S):\n",
    "    counter1 = 0\n",
    "    counter2 = len(S)-1\n",
    "    while counter1 < counter2:\n",
    "        if S[counter1] != S[counter2]:\n",
    "            return False\n",
    "        counter1 += 1\n",
    "        counter2 -= 1\n",
    "    return True"
   ]
  },
  {
   "cell_type": "markdown",
   "source": [
    "Инициализируем переменную input_string, присваивая ей значение строки, вводимой с клавиатуры.\n",
    "Функция strip() добавлена для удаления случайных (всех) пробелов из строки. При наличии параметра символьного типа эта функция удаляет указанный символ.\n",
    "Функция lower() меняет все символы, указанные в верхнем регистре, на аналогичные символы в нижнем. Функция upper() наоборот."
   ],
   "metadata": {
    "collapsed": false,
    "pycharm": {
     "name": "#%% md\n"
    }
   }
  },
  {
   "cell_type": "code",
   "execution_count": null,
   "outputs": [],
   "source": [
    "input_string = input().strip().lower()"
   ],
   "metadata": {
    "collapsed": false,
    "pycharm": {
     "name": "#%%\n"
    }
   }
  },
  {
   "cell_type": "markdown",
   "source": [
    "Если функция вернула нам значение True - печатаем YES. Иначе - NO."
   ],
   "metadata": {
    "collapsed": false,
    "pycharm": {
     "name": "#%% md\n"
    }
   }
  },
  {
   "cell_type": "code",
   "execution_count": null,
   "outputs": [],
   "source": [
    "if IsPalindrome(input_string):\n",
    "    print(\"YES\")\n",
    "else:\n",
    "    print(\"NO\")"
   ],
   "metadata": {
    "collapsed": false,
    "pycharm": {
     "name": "#%%\n"
    }
   }
  },
  {
   "cell_type": "markdown",
   "source": [
    "Выполненная задача:\n",
    "\n",
    "Дано слово, состоящее только из заглавных и строчных латинских букв. Проверьте, верно ли что это слово читается\n",
    "одинаково как справа налево, так и слева направо (то есть является палиндромом), если считать заглавные\n",
    "и строчные буквы не различающимися. Выведите слово YES, если слово является палиндромом и слово NO, если не является.\n",
    "\n",
    "Решение оформите в виде функции IsPalindrome (S), возвращающей значение типа bool.\n",
    "При решении этой задачи нельзя пользоваться вспомогательными массивами или строками."
   ],
   "metadata": {
    "collapsed": false,
    "pycharm": {
     "name": "#%% md\n"
    }
   }
  }
 ],
 "metadata": {
  "kernelspec": {
   "display_name": "Python 3",
   "language": "python",
   "name": "python3"
  },
  "language_info": {
   "codemirror_mode": {
    "name": "ipython",
    "version": 2
   },
   "file_extension": ".py",
   "mimetype": "text/x-python",
   "name": "python",
   "nbconvert_exporter": "python",
   "pygments_lexer": "ipython2",
   "version": "2.7.6"
  }
 },
 "nbformat": 4,
 "nbformat_minor": 0
}