{
 "cells": [
  {
   "cell_type": "markdown",
   "source": [
    "Создаём двумерный список с нулями, далее заполним побочную диагональ единицами, а если элемент расположен правее - заполняем двойками. Выведем полученные из двумерного списка строки на экран."
   ],
   "metadata": {
    "collapsed": false,
    "pycharm": {
     "name": "#%% md\n"
    }
   }
  },
  {
   "cell_type": "code",
   "execution_count": null,
   "metadata": {
    "collapsed": true,
    "pycharm": {
     "name": "#%%\n"
    }
   },
   "outputs": [],
   "source": [
    "def main():\n",
    "    n = int(input())\n",
    "\n",
    "    # Создаем и инициализируем список\n",
    "    a = [[0] * n for _ in range(n)]\n",
    "\n",
    "    # Заполнение массива по заданным правилам\n",
    "    for i in range(n):\n",
    "        for j in range(n):\n",
    "            if i + j == n - 1:\n",
    "                a[i][j] = 1\n",
    "            elif i + j > n - 1:\n",
    "                a[i][j] = 2\n",
    "\n",
    "    # Вывод массива\n",
    "    for row in a:\n",
    "        print(*row)"
   ]
  },
  {
   "cell_type": "markdown",
   "source": [
    "Пропишем проверку на то, что наш скрипт выполняется напрямую (подробнее см. 3.1)."
   ],
   "metadata": {
    "collapsed": false,
    "pycharm": {
     "name": "#%% md\n"
    }
   }
  },
  {
   "cell_type": "code",
   "execution_count": null,
   "outputs": [],
   "source": [
    "if __name__ == \"__main__\":\n",
    "    main()"
   ],
   "metadata": {
    "collapsed": false,
    "pycharm": {
     "name": "#%%\n"
    }
   }
  },
  {
   "cell_type": "markdown",
   "source": [
    "Выполненная задача:\n",
    "\n",
    "Дано число n. Создайте массив размером n×n и заполните его по следующему правилу:\n",
    "Числа на диагонали, идущей из правого верхнего в левый нижний угол равны 1.\n",
    "Числа, стоящие выше этой диагонали, равны 0.\n",
    "Числа, стоящие ниже этой диагонали, равны 2.\n",
    "Полученный массив выведите на экран. Числа в строке разделяйте одним пробелом."
   ],
   "metadata": {
    "collapsed": false,
    "pycharm": {
     "name": "#%% md\n"
    }
   }
  }
 ],
 "metadata": {
  "kernelspec": {
   "display_name": "Python 3",
   "language": "python",
   "name": "python3"
  },
  "language_info": {
   "codemirror_mode": {
    "name": "ipython",
    "version": 2
   },
   "file_extension": ".py",
   "mimetype": "text/x-python",
   "name": "python",
   "nbconvert_exporter": "python",
   "pygments_lexer": "ipython2",
   "version": "2.7.6"
  }
 },
 "nbformat": 4,
 "nbformat_minor": 0
}