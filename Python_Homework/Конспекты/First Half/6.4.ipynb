{
 "cells": [
  {
   "cell_type": "markdown",
   "source": [
    "Эту задачу можно также решить в одну строку, но для улучшения читаемости реализуем код в несколько строк.\n",
    "Создадим два множества, объединим их уже знакомым оператором \"&\", отсортируем с помощью функции sorted() и выведем на экран распакованное множество."
   ],
   "metadata": {
    "collapsed": false,
    "pycharm": {
     "name": "#%% md\n"
    }
   }
  },
  {
   "cell_type": "code",
   "execution_count": null,
   "metadata": {
    "collapsed": true,
    "pycharm": {
     "name": "#%%\n"
    }
   },
   "outputs": [],
   "source": [
    "def main():\n",
    "    first_list = set(map(int, input().strip().split()))\n",
    "    second_list = set(map(int, input().strip().split()))\n",
    "\n",
    "    result = sorted(first_list & second_list)\n",
    "    print(*result)\n",
    "\n",
    "if __name__ == \"__main__\":\n",
    "    main()"
   ]
  },
  {
   "cell_type": "markdown",
   "source": [
    "Выполненная задача:\n",
    "\n",
    "Даны два списка чисел, которые могут содержать до 10000 чисел каждый. Выведите все числа, которые входят как в первый,\n",
    "так и во второй список в порядке возрастания.\n",
    "\n",
    "Примечание. И даже эту задачу на Питоне можно решить в одну строчку.\n",
    "\n",
    "Входные данные\n",
    "Вводятся два списка целых чисел. Все числа каждого списка находятся на отдельной строке.\n",
    "\n",
    "Выходные данные\n",
    "Выведите ответ на задачу."
   ],
   "metadata": {
    "collapsed": false,
    "pycharm": {
     "name": "#%% md\n"
    }
   }
  }
 ],
 "metadata": {
  "kernelspec": {
   "display_name": "Python 3",
   "language": "python",
   "name": "python3"
  },
  "language_info": {
   "codemirror_mode": {
    "name": "ipython",
    "version": 2
   },
   "file_extension": ".py",
   "mimetype": "text/x-python",
   "name": "python",
   "nbconvert_exporter": "python",
   "pygments_lexer": "ipython2",
   "version": "2.7.6"
  }
 },
 "nbformat": 4,
 "nbformat_minor": 0
}