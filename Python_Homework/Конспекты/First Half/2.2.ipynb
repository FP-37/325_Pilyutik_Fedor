{
 "cells": [
  {
   "cell_type": "markdown",
   "source": [
    "Определяем функцию ExtractDigits, принимающую в качестве входящей переменной строку S.\n",
    "Также внутри функции создаём новую строку new_string, которую будем заполнять исключительно цифрами.\n",
    "Для этого реализуем цикл for:\n",
    "В Python для реализации такого цикла достаточно следующего синтаксиса -\n",
    "for <новая переменная, обозначающая элемент в указанном списке> in <список или строка>:\n",
    "С помощью двух циклов for мы проверим содержание каждого элемента данной строки на соответствие цифре - все цифры будут указаны во второй строке, по ним проходимся во вложенном цикле.\n",
    "В случае соответствия символа цифре запишем этот символ в новую строку.\n",
    "После полного прохождения по циклу реализуем вывод из нашей функции новой строки.\n",
    "Нужно упомянуть, что такое решение не самое оптимальное, так как его сложность составляет O(N^2), но всё же реализует решение задачи."
   ],
   "metadata": {
    "collapsed": false,
    "pycharm": {
     "name": "#%% md\n"
    }
   }
  },
  {
   "cell_type": "code",
   "execution_count": null,
   "metadata": {
    "collapsed": true,
    "pycharm": {
     "name": "#%%\n"
    }
   },
   "outputs": [],
   "source": [
    "def ExtractDigits(S):\n",
    "    new_string = \"\"\n",
    "    for sim in S:\n",
    "        for digit in \"0123456789\":\n",
    "            if sim == digit:\n",
    "                new_string += sim\n",
    "    return new_string"
   ]
  },
  {
   "cell_type": "markdown",
   "source": [
    "Далее просто инициализируем новую строку our_string и присвоим значение, введённое с клавиатуры, после чего выведем на экран выходящее значение функции, принявшей в качестве входящего значения our_string."
   ],
   "metadata": {
    "collapsed": false,
    "pycharm": {
     "name": "#%% md\n"
    }
   }
  },
  {
   "cell_type": "code",
   "execution_count": null,
   "outputs": [],
   "source": [
    "our_string = input()\n",
    "print(ExtractDigits(our_string))"
   ],
   "metadata": {
    "collapsed": false,
    "pycharm": {
     "name": "#%%\n"
    }
   }
  },
  {
   "cell_type": "markdown",
   "source": [
    "Выполненная задача:\n",
    "\n",
    "Дана строка, возможно, содержащая пробелы. Извлеките из этой строки все символы, являющиеся цифрами и составьте\n",
    "из них новую строку. Решение оформите в виде функции ExtractDigits (S)\n",
    "\n",
    "Входные данные\n",
    "Программа получает на вход исходную строку S\n",
    "\n",
    "Выходные данные\n",
    "Требуется вывести новую строку, содержащую только цифры данной строки."
   ],
   "metadata": {
    "collapsed": false,
    "pycharm": {
     "name": "#%% md\n"
    }
   }
  }
 ],
 "metadata": {
  "kernelspec": {
   "display_name": "Python 3",
   "language": "python",
   "name": "python3"
  },
  "language_info": {
   "codemirror_mode": {
    "name": "ipython",
    "version": 2
   },
   "file_extension": ".py",
   "mimetype": "text/x-python",
   "name": "python",
   "nbconvert_exporter": "python",
   "pygments_lexer": "ipython2",
   "version": "2.7.6"
  }
 },
 "nbformat": 4,
 "nbformat_minor": 0
}