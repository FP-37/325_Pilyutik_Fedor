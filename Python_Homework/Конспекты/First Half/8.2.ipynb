{
 "cells": [
  {
   "cell_type": "markdown",
   "source": [
    "В данном случае осуществляем рекурсивную функцию, которая будет увеличивать число a на единицу b количество раз (увеличиваем a на единицу пока b не станет равно нулю). Таким образом осуществим расчёт суммы без использования каких-либо арифметических операций кроме +1 и -1."
   ],
   "metadata": {
    "collapsed": false,
    "pycharm": {
     "name": "#%% md\n"
    }
   }
  },
  {
   "cell_type": "code",
   "execution_count": null,
   "metadata": {
    "collapsed": true,
    "pycharm": {
     "name": "#%%\n"
    }
   },
   "outputs": [],
   "source": [
    "def summa(a, b):\n",
    "    if b == 0:\n",
    "        return a\n",
    "    else:\n",
    "        return summa(a + 1, b - 1)"
   ]
  },
  {
   "cell_type": "markdown",
   "source": [
    "Введём целые числа a и b, разместим их внутри функции summa и выведем результат расчёта в консоль."
   ],
   "metadata": {
    "collapsed": false,
    "pycharm": {
     "name": "#%% md\n"
    }
   }
  },
  {
   "cell_type": "code",
   "execution_count": null,
   "outputs": [],
   "source": [
    "def main():\n",
    "    a = int(input().strip())\n",
    "    b = int(input().strip())\n",
    "    print(summa(a, b))\n",
    "\n",
    "if __name__ == \"__main__\":\n",
    "    main()"
   ],
   "metadata": {
    "collapsed": false,
    "pycharm": {
     "name": "#%%\n"
    }
   }
  },
  {
   "cell_type": "markdown",
   "source": [
    "Выполненная задача:\n",
    "\n",
    "Напишите рекурсивную функцию sum(a, b), возвращающую сумму двух целых неотрицательных чисел.\n",
    "Из всех арифметических операций допускаются только +1 и -1. Также нельзя использовать циклы.\n",
    "\n",
    "Входные данные\n",
    "Вводятся два целых числа.\n",
    "\n",
    "Выходные данные\n",
    "Выведите ответ на задачу."
   ],
   "metadata": {
    "collapsed": false,
    "pycharm": {
     "name": "#%% md\n"
    }
   }
  }
 ],
 "metadata": {
  "kernelspec": {
   "display_name": "Python 3",
   "language": "python",
   "name": "python3"
  },
  "language_info": {
   "codemirror_mode": {
    "name": "ipython",
    "version": 2
   },
   "file_extension": ".py",
   "mimetype": "text/x-python",
   "name": "python",
   "nbconvert_exporter": "python",
   "pygments_lexer": "ipython2",
   "version": "2.7.6"
  }
 },
 "nbformat": 4,
 "nbformat_minor": 0
}