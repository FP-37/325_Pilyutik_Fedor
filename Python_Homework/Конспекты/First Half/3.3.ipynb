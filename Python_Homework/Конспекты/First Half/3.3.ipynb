{
 "cells": [
  {
   "cell_type": "markdown",
   "source": [
    "Аналогично предыдущим двум программам (см. 3.1 и 3.2) реализуем ввод данных.\n",
    "В пятой строке инициализируем переменную closest_element, в которую поместим первый элемент списка, предполагая, что если каждый следующий элемент будет дальше от введённого x, оставим для вывода в качестве результата первый.\n",
    "Дальше реализуем цикл, в котором будем сравнивать разность между предполагаемым на данный момент ближайшим элементом и x с разностью каждого последующего элемента списка с x. Если разность между новым элементом и x меньше closest_element-x, то обновляем значение closest_element.\n",
    "Функция abs() возвращает модуль указанного в параметре числа.\n",
    "После полного прохода цикла выводим на экран closest_element."
   ],
   "metadata": {
    "collapsed": false,
    "pycharm": {
     "name": "#%% md\n"
    }
   }
  },
  {
   "cell_type": "code",
   "execution_count": null,
   "metadata": {
    "collapsed": true,
    "pycharm": {
     "name": "#%%\n"
    }
   },
   "outputs": [],
   "source": [
    "def main():\n",
    "    N = int(input().strip())\n",
    "    array = list(map(int, input().strip().split()))\n",
    "    x = int(input().strip())\n",
    "    closest_element = array[0]\n",
    "    for num in array:\n",
    "        if abs(num - x) < abs(closest_element - x):\n",
    "            closest_element = num\n",
    "    print(closest_element)"
   ]
  },
  {
   "cell_type": "markdown",
   "source": [
    "Пропишем проверку на то, что наш скрипт выполняется напрямую (подробнее см. 3.1)."
   ],
   "metadata": {
    "collapsed": false,
    "pycharm": {
     "name": "#%% md\n"
    }
   }
  },
  {
   "cell_type": "code",
   "execution_count": null,
   "outputs": [],
   "source": [
    "if __name__ == \"__main__\":\n",
    "    main()"
   ],
   "metadata": {
    "collapsed": false,
    "pycharm": {
     "name": "#%%\n"
    }
   }
  },
  {
   "cell_type": "markdown",
   "source": [
    "Выполненная задача:\n",
    "\n",
    "Напишите программу, которая находит в массиве элемент, самый близкий по величине к данному числу.\n",
    "\n",
    "Входные данные\n",
    "В первой строке задается одно натуральное число N, не превосходящее 1000 – размер массива.\n",
    "\n",
    "Во второй строке содержатся N чисел – элементы массива (целые числа, не превосходящие по модулю 1000).\n",
    "\n",
    "В третьей строке вводится одно целое число x, не превосходящее по модулю 1000.\n",
    "\n",
    "Выходные данные\n",
    "Вывести значение элемента массива, ближайшее к x. Если таких чисел несколько, выведите любое из них."
   ],
   "metadata": {
    "collapsed": false,
    "pycharm": {
     "name": "#%% md\n"
    }
   }
  }
 ],
 "metadata": {
  "kernelspec": {
   "display_name": "Python 3",
   "language": "python",
   "name": "python3"
  },
  "language_info": {
   "codemirror_mode": {
    "name": "ipython",
    "version": 2
   },
   "file_extension": ".py",
   "mimetype": "text/x-python",
   "name": "python",
   "nbconvert_exporter": "python",
   "pygments_lexer": "ipython2",
   "version": "2.7.6"
  }
 },
 "nbformat": 4,
 "nbformat_minor": 0
}