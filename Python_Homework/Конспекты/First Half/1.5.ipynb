{
 "cells": [
  {
   "cell_type": "markdown",
   "source": [
    "Инициализируем переменную input_string и присвоим ей значение, введённое с клавиатуры."
   ],
   "metadata": {
    "collapsed": false,
    "pycharm": {
     "name": "#%% md\n"
    }
   }
  },
  {
   "cell_type": "code",
   "execution_count": null,
   "metadata": {
    "collapsed": true,
    "pycharm": {
     "name": "#%%\n"
    }
   },
   "outputs": [],
   "source": [
    "input_string = input()"
   ]
  },
  {
   "cell_type": "markdown",
   "source": [
    "Создадим переменные, в которые будем записывать значения индексов первого и последнего вхождения символа 'f'.\n",
    "Приваивая им первоначально значение \"-1\" мы предусматриваем, что возможно этих символов у нас не появится - при ненахождении символа в строке функция find() сработает так, что выведет \"-1\" как указку на отсутствие символа."
   ],
   "metadata": {
    "collapsed": false,
    "pycharm": {
     "name": "#%% md\n"
    }
   }
  },
  {
   "cell_type": "code",
   "execution_count": null,
   "outputs": [],
   "source": [
    "first_index = -1\n",
    "last_index = -1"
   ],
   "metadata": {
    "collapsed": false,
    "pycharm": {
     "name": "#%%\n"
    }
   }
  },
  {
   "cell_type": "markdown",
   "source": [
    "С помощью \"if\" через find() проверяем, есть ли в нашей строке нужный символ, и при его наличии присваиваем переменной first_index значение индекса первого найденного совпадающего элемента, определённого функцией find().\n",
    "Далее переворачиваем первоначальную строку - таким образом мы можем ещё раз применить find() и найти последнее вхождение (первое вхождение перевёрнутой).\n",
    "Действительный индекс последнего вхождения первоначальной строки определим через формулу \"длина перевёрнутой строки - первое вхождение символа в перевёрнутой строке - 1\"."
   ],
   "metadata": {
    "collapsed": false,
    "pycharm": {
     "name": "#%% md\n"
    }
   }
  },
  {
   "cell_type": "code",
   "execution_count": null,
   "outputs": [],
   "source": [
    "if input_string.find('f') != -1:\n",
    "    first_index = input_string.find('f')\n",
    "    input_string = input_string[::-1]\n",
    "    last_index = len(input_string) - input_string.find('f') - 1"
   ],
   "metadata": {
    "collapsed": false,
    "pycharm": {
     "name": "#%%\n"
    }
   }
  },
  {
   "cell_type": "markdown",
   "source": [
    "Предусматриваем возможность того, что символ 'f' встретился только единожды - если индексы равны и при этом они не соответствуют первоначальному значению \"-1\" (т.е. find() нашла в строке символ), то выводим индекс найденного символа на экран."
   ],
   "metadata": {
    "collapsed": false,
    "pycharm": {
     "name": "#%% md\n"
    }
   }
  },
  {
   "cell_type": "code",
   "execution_count": null,
   "outputs": [],
   "source": [
    "if first_index != -1 and last_index == first_index:\n",
    "    print(first_index)"
   ],
   "metadata": {
    "collapsed": false,
    "pycharm": {
     "name": "#%%\n"
    }
   }
  },
  {
   "cell_type": "markdown",
   "source": [
    "В противном случае смотрим, что оба символа опять же найдены, и их индексы не совпадают (т.е. это разные 'f').\n",
    "В таком случае выводим на экран сначала индекс первого 'f', а затем второго."
   ],
   "metadata": {
    "collapsed": false,
    "pycharm": {
     "name": "#%% md\n"
    }
   }
  },
  {
   "cell_type": "code",
   "execution_count": null,
   "outputs": [],
   "source": [
    "elif first_index != -1 and last_index != -1 and first_index != last_index:\n",
    "    print(first_index, last_index)"
   ],
   "metadata": {
    "collapsed": false,
    "pycharm": {
     "name": "#%%\n"
    }
   }
  },
  {
   "cell_type": "markdown",
   "source": [
    "В противном случае (при отсутствии 'f' в строке) выходим из программы без вывода."
   ],
   "metadata": {
    "collapsed": false,
    "pycharm": {
     "name": "#%% md\n"
    }
   }
  },
  {
   "cell_type": "code",
   "execution_count": null,
   "outputs": [],
   "source": [
    "else:\n",
    "    pass"
   ],
   "metadata": {
    "collapsed": false,
    "pycharm": {
     "name": "#%%\n"
    }
   }
  },
  {
   "cell_type": "markdown",
   "source": [
    "Выполненная задача:\n",
    "\n",
    "Дана строка. Если в этой строке буква f встречается только один раз, выведите её индекс. Если она встречается\n",
    "два и более раза, выведите индекс её первого и последнего появления. Если буква f в данной строке не встречается,\n",
    "ничего не выводите.\n",
    "\n",
    "При решении этой задачи нельзя использовать метод count и циклы.\n",
    "\n",
    "Входные данные\n",
    "Вводится строка.\n",
    "\n",
    "Выходные данные\n",
    "Выведите ответ на задачу."
   ],
   "metadata": {
    "collapsed": false,
    "pycharm": {
     "name": "#%% md\n"
    }
   }
  }
 ],
 "metadata": {
  "kernelspec": {
   "display_name": "Python 3",
   "language": "python",
   "name": "python3"
  },
  "language_info": {
   "codemirror_mode": {
    "name": "ipython",
    "version": 2
   },
   "file_extension": ".py",
   "mimetype": "text/x-python",
   "name": "python",
   "nbconvert_exporter": "python",
   "pygments_lexer": "ipython2",
   "version": "2.7.6"
  }
 },
 "nbformat": 4,
 "nbformat_minor": 0
}