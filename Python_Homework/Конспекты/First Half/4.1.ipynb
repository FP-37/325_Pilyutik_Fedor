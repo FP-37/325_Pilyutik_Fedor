{
 "cells": [
  {
   "cell_type": "markdown",
   "source": [
    "Сначала реализуем указание размеров списка - это будут два числа(n и m), вводимые с клавиатуры и разделяемые пробелом.\n",
    "Далее создадим пустой список и сделаем его двумерным, добавляя n пользовательских строк путём повторения ввода через цикл for. В Python двумерные массивы реализуются как одномерный список, содержащий вложенные одномерные списки.\n",
    "Максимальный элемент списка будем находить следующим образом:\n",
    "Создадим три переменные - одну для хранения максимального значения списка (max_element - понадобится для сравнения с последующими элементами списка), две последующие для хранения индексов элемента с максимальным значением(max_row, max_col). Максимальным элементом изначально будем считать первый элемент массива, дальше - сравниваем с последующими. В случае нахождения большего элемента присваиваем max_element найденное большее значение, а max_row и max_col обновляем до текущего индекса.\n",
    "Выводим на экран полученные индексы максимального элемента."
   ],
   "metadata": {
    "collapsed": false,
    "pycharm": {
     "name": "#%% md\n"
    }
   }
  },
  {
   "cell_type": "code",
   "execution_count": null,
   "metadata": {
    "collapsed": true,
    "pycharm": {
     "name": "#%%\n"
    }
   },
   "outputs": [],
   "source": [
    "def main():\n",
    "    n, m = map(int, input().strip().split())\n",
    "    array = []\n",
    "    for _ in range(n):\n",
    "        array.append(list(map(int, input().strip().split())))\n",
    "    max_element = array[0][0]\n",
    "    max_row = 0\n",
    "    max_col = 0\n",
    "    for i in range(n):\n",
    "        for j in range(m):\n",
    "            if array[i][j] > max_element:\n",
    "                max_element = array[i][j]\n",
    "                max_row = i\n",
    "                max_col = j\n",
    "    print(max_row, max_col)"
   ]
  },
  {
   "cell_type": "markdown",
   "source": [
    "Пропишем проверку на то, что наш скрипт выполняется напрямую (подробнее см. 3.1)."
   ],
   "metadata": {
    "collapsed": false,
    "pycharm": {
     "name": "#%% md\n"
    }
   }
  },
  {
   "cell_type": "code",
   "execution_count": null,
   "outputs": [],
   "source": [
    "if __name__ == \"__main__\":\n",
    "    main()"
   ],
   "metadata": {
    "collapsed": false,
    "pycharm": {
     "name": "#%%\n"
    }
   }
  },
  {
   "cell_type": "markdown",
   "source": [
    "Выполненная задача:\n",
    "\n",
    "Найдите индексы первого вхождения максимального элемента.\n",
    "\n",
    "Входные данные\n",
    "Программа получает на вход размеры массива n и m, затем n строк по m целых чисел в каждой.\n",
    "\n",
    "Выходные данные\n",
    "Выведите два числа: номер строки и номер столбца, в которых стоит наибольший элемент в двумерном массиве.\n",
    "Если таких элементов несколько, то выводится тот, у которого меньше номер строки, а если номера строк равны, то тот,\n",
    "у которого меньше номер столбца."
   ],
   "metadata": {
    "collapsed": false,
    "pycharm": {
     "name": "#%% md\n"
    }
   }
  }
 ],
 "metadata": {
  "kernelspec": {
   "display_name": "Python 3",
   "language": "python",
   "name": "python3"
  },
  "language_info": {
   "codemirror_mode": {
    "name": "ipython",
    "version": 2
   },
   "file_extension": ".py",
   "mimetype": "text/x-python",
   "name": "python",
   "nbconvert_exporter": "python",
   "pygments_lexer": "ipython2",
   "version": "2.7.6"
  }
 },
 "nbformat": 4,
 "nbformat_minor": 0
}