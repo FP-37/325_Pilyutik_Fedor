{
 "cells": [
  {
   "cell_type": "markdown",
   "source": [
    "Реализуем функцию Evaluate, принимающую строку с алгебраическим выражением и выводящую алгебраическую сумму цифр этого выражения. В качестве входящего значения указываем строку S, в качестве выходящего - целочисленное значение alg_sum.\n",
    "Внутри функции инициализируем две переменные:\n",
    "counter - счётчик индекса строки S, присваиваем ему 0 по умолчанию.\n",
    "alg_sum - переменная для алгебраической суммы выражения, присваиваем также 0 изначально.\n",
    "Далее внутри функции запускаем цикл while:\n",
    "while <условие>:\n",
    "Такой цикл будет работать, пока указанное условие имеет значение True. В качестве условия укажем \"пока счётчик меньше длины строки минус один\" - это позволит счётчику пройти по всем индексам строки. После каждой итерации будем увеличивать счётчик на единицу.\n",
    "Сам же цикл реализует проверку, что взятый элемент строки не является знаком сложения или вычитания, и если это так, то мы складываем его с alg_sum, если перед элементом не стоит минус, если всё же стоит - вычитаем.\n",
    "Также для реализации алгоритма мы использовали стандартную функцию int() - эта функция преобразует строковое значение в целочисленное, что нам и нужно для подсчёта суммы, когда первоначально выражение записано в виде строки."
   ],
   "metadata": {
    "collapsed": false,
    "pycharm": {
     "name": "#%% md\n"
    }
   }
  },
  {
   "cell_type": "code",
   "execution_count": null,
   "metadata": {
    "collapsed": true,
    "pycharm": {
     "name": "#%%\n"
    }
   },
   "outputs": [],
   "source": [
    "def Evaluate(S):\n",
    "    counter = 0\n",
    "    alg_sum = 0\n",
    "    while counter <= len(S)-1:\n",
    "        if S[counter] != \"+\" and S[counter] != \"-\":\n",
    "            if S[counter-1] != \"-\":\n",
    "                alg_sum += int(S[counter])\n",
    "            else:\n",
    "                alg_sum -= int(S[counter])\n",
    "        counter += 1\n",
    "    return alg_sum"
   ]
  },
  {
   "cell_type": "markdown",
   "source": [
    "Далее инициализируем строку our_string, присваиваем ей значение, введённое с клавиатуры, и после этого выводим на экран выходящее значение функции Evaluate(our_string)."
   ],
   "metadata": {
    "collapsed": false,
    "pycharm": {
     "name": "#%% md\n"
    }
   }
  },
  {
   "cell_type": "code",
   "execution_count": null,
   "outputs": [],
   "source": [
    "our_string = input()\n",
    "print(Evaluate(our_string))"
   ],
   "metadata": {
    "collapsed": false,
    "pycharm": {
     "name": "#%%\n"
    }
   }
  },
  {
   "cell_type": "markdown",
   "source": [
    "Выполненная задача:\n",
    "\n",
    "Дана строка, состоящая из n цифр (т.е. однозначных чисел), между которыми стоит n−1 знак операции, каждый из которых\n",
    "может быть либо +, либо -. Вычислите значение данного выражения.\n",
    "\n",
    "Решение оформите в виде функции Evaluate(S), где S - строка с выражением, а возвращаемое значение функции - результат\n",
    "вычисления этого выражения."
   ],
   "metadata": {
    "collapsed": false,
    "pycharm": {
     "name": "#%% md\n"
    }
   }
  }
 ],
 "metadata": {
  "kernelspec": {
   "display_name": "Python 3",
   "language": "python",
   "name": "python3"
  },
  "language_info": {
   "codemirror_mode": {
    "name": "ipython",
    "version": 2
   },
   "file_extension": ".py",
   "mimetype": "text/x-python",
   "name": "python",
   "nbconvert_exporter": "python",
   "pygments_lexer": "ipython2",
   "version": "2.7.6"
  }
 },
 "nbformat": 4,
 "nbformat_minor": 0
}