{
 "cells": [
  {
   "cell_type": "markdown",
   "source": [
    "В данном случае внутри рекурсивной функции будем реализовать увеличение количество выполняемых ффункций до момента, пока число k либо не станет равно нулю, либо n и k уравняются."
   ],
   "metadata": {
    "collapsed": false,
    "pycharm": {
     "name": "#%% md\n"
    }
   }
  },
  {
   "cell_type": "code",
   "execution_count": null,
   "metadata": {
    "collapsed": true,
    "pycharm": {
     "name": "#%%\n"
    }
   },
   "outputs": [],
   "source": [
    "def C(n, k):\n",
    "    if k == 0 or k == n:\n",
    "        return 1\n",
    "    else:\n",
    "        return C(n-1, k-1) + C(n-1, k)"
   ]
  },
  {
   "cell_type": "markdown",
   "source": [
    "Введём два целочисленных числа, разместим их внутри функции и выведем результат её выполнения на экран. Получим сумму чисел от n до k."
   ],
   "metadata": {
    "collapsed": false,
    "pycharm": {
     "name": "#%% md\n"
    }
   }
  },
  {
   "cell_type": "code",
   "execution_count": null,
   "outputs": [],
   "source": [
    "def main():\n",
    "    n = int(input().strip())\n",
    "    k = int(input().strip())\n",
    "    print(C(n, k))\n",
    "\n",
    "if __name__ == \"__main__\":\n",
    "    main()"
   ],
   "metadata": {
    "collapsed": false,
    "pycharm": {
     "name": "#%%\n"
    }
   }
  },
  {
   "cell_type": "markdown",
   "source": [
    "Выполненная задача:\n",
    "\n",
    "По данным числам n и k (0≤k≤n) вычислите С (от n до k).\n",
    "Для решения используйте рекуррентное соотношение C(от n до k)=C(от n-1 до k-1)+C(от n-1 до k).\n",
    "\n",
    "Решение оформите в виде функции C(n, k).\n",
    "\n",
    "Входные данные\n",
    "Вводятся целые числа n и k.\n",
    "\n",
    "Выходные данные\n",
    "Выведите ответ на задачу."
   ],
   "metadata": {
    "collapsed": false,
    "pycharm": {
     "name": "#%% md\n"
    }
   }
  }
 ],
 "metadata": {
  "kernelspec": {
   "display_name": "Python 3",
   "language": "python",
   "name": "python3"
  },
  "language_info": {
   "codemirror_mode": {
    "name": "ipython",
    "version": 2
   },
   "file_extension": ".py",
   "mimetype": "text/x-python",
   "name": "python",
   "nbconvert_exporter": "python",
   "pygments_lexer": "ipython2",
   "version": "2.7.6"
  }
 },
 "nbformat": 4,
 "nbformat_minor": 0
}