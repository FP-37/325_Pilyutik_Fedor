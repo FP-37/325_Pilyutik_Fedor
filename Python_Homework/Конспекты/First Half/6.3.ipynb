{
 "cells": [
  {
   "cell_type": "markdown",
   "source": [
    "По примечанию задачи - решим её в одну строку, не учитывая обёртку функцией main.\n",
    "\n",
    "В представленном случае мы исследуем свойства взаимодействий множеств. Укажем некоторые из них и, в том числе, то, которое мы использовали:\n",
    "\n",
    "Объединение - используется оператор \"|\" или функция union().\n",
    "Пример: A = {1, 2, 3}; B = {2, 3, 4}; C = A | B; print(C) # {1, 2, 3, 4}\n",
    "\n",
    "Пересечение - используется оператор \"&\" или функция intersection().\n",
    "Пример: A = {1, 2, 3, 4}; B = {3, 4, 5, 6}; C = A & B; print(C) # {3, 4}\n",
    "\n",
    "Разность - используется оператор \"-\" или функция difference().\n",
    "Пример: A = {1, 2, 3, 4}; B = {3, 4, 5, 6}; C = A - B; print(C) # {1, 2}\n",
    "\n",
    "Симметричная разность - используется оператор \"^\" или функция symmetric_difference().\n",
    "Пример: A = {1, 2, 3, 4}; B = {3, 4, 5, 6}; C = A ^ B; print(C) # {1, 2, 5, 6}"
   ],
   "metadata": {
    "collapsed": false,
    "pycharm": {
     "name": "#%% md\n"
    }
   }
  },
  {
   "cell_type": "code",
   "execution_count": null,
   "metadata": {
    "collapsed": true,
    "pycharm": {
     "name": "#%%\n"
    }
   },
   "outputs": [],
   "source": [
    "def main():\n",
    "    print(len(set(input().split()) & set(input().split())))\n",
    "\n",
    "if __name__ == \"__main__\":\n",
    "    main()"
   ]
  },
  {
   "cell_type": "markdown",
   "source": [
    "Выполненная задача:\n",
    "\n",
    "Даны два списка чисел, которые могут содержать до 100000 чисел каждый. Посчитайте,\n",
    "сколько чисел содержится одновременно как в первом списке, так и во втором.\n",
    "\n",
    "Примечание. Эту задачу на Питоне можно решить в одну строчку.\n",
    "\n",
    "Входные данные\n",
    "Вводятся два списка чисел. Все числа каждого списка находятся на отдельной строке.\n",
    "\n",
    "Выходные данные\n",
    "Выведите ответ на задачу."
   ],
   "metadata": {
    "collapsed": false,
    "pycharm": {
     "name": "#%% md\n"
    }
   }
  }
 ],
 "metadata": {
  "kernelspec": {
   "display_name": "Python 3",
   "language": "python",
   "name": "python3"
  },
  "language_info": {
   "codemirror_mode": {
    "name": "ipython",
    "version": 2
   },
   "file_extension": ".py",
   "mimetype": "text/x-python",
   "name": "python",
   "nbconvert_exporter": "python",
   "pygments_lexer": "ipython2",
   "version": "2.7.6"
  }
 },
 "nbformat": 4,
 "nbformat_minor": 0
}