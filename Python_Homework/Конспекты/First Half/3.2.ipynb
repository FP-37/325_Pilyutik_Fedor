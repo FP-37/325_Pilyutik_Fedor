{
 "cells": [
  {
   "cell_type": "markdown",
   "source": [
    "Реализация ввода данных для программы полностью совпадёт с предыдущей задачей (см. 3.1),\n",
    "Отличие - вместо функции для поиска количества совпадений в этот раз напишем проверку через if на наличие элемента x внутри списка array. В случае наличия x в array выводим на экран \"YES\", иначе \"NO\"."
   ],
   "metadata": {
    "collapsed": false,
    "pycharm": {
     "name": "#%% md\n"
    }
   }
  },
  {
   "cell_type": "code",
   "execution_count": null,
   "metadata": {
    "collapsed": true,
    "pycharm": {
     "name": "#%%\n"
    }
   },
   "outputs": [],
   "source": [
    "def main():\n",
    "    N = int(input().strip())\n",
    "    array = list(map(int, input().strip().split()))\n",
    "    x = int(input().strip())\n",
    "    if x in array:\n",
    "        print(\"YES\")\n",
    "    else:\n",
    "        print(\"NO\")"
   ]
  },
  {
   "cell_type": "markdown",
   "source": [
    "Также пропишем проверку на то, что наш скрипт выполняется напрямую."
   ],
   "metadata": {
    "collapsed": false,
    "pycharm": {
     "name": "#%% md\n"
    }
   }
  },
  {
   "cell_type": "code",
   "execution_count": null,
   "outputs": [],
   "source": [
    "if __name__ == \"__main__\":\n",
    "    main()"
   ],
   "metadata": {
    "collapsed": false,
    "pycharm": {
     "name": "#%%\n"
    }
   }
  },
  {
   "cell_type": "markdown",
   "source": [
    "Выполненная программа:\n",
    "\n",
    "Напишите программу, которая определяет, встречается ли заданное число x в данном массиве.\n",
    "\n",
    "Входные данные\n",
    "В первой строке задается одно натуральное число N, не превосходящее 1000 – размер массива.\n",
    "\n",
    "Во второй строке вводятся N чисел – элементы массива (целые числа, не превосходящие по модулю 1000).\n",
    "\n",
    "В третьей строке содержится одно целое число x, не превосходящее по модулю 1000.\n",
    "\n",
    "Выходные данные\n",
    "Вывести YES, если число x встречается в данном массиве, и NO в противном случае."
   ],
   "metadata": {
    "collapsed": false,
    "pycharm": {
     "name": "#%% md\n"
    }
   }
  }
 ],
 "metadata": {
  "kernelspec": {
   "display_name": "Python 3",
   "language": "python",
   "name": "python3"
  },
  "language_info": {
   "codemirror_mode": {
    "name": "ipython",
    "version": 2
   },
   "file_extension": ".py",
   "mimetype": "text/x-python",
   "name": "python",
   "nbconvert_exporter": "python",
   "pygments_lexer": "ipython2",
   "version": "2.7.6"
  }
 },
 "nbformat": 4,
 "nbformat_minor": 0
}