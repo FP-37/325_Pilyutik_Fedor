{
 "cells": [
  {
   "cell_type": "markdown",
   "source": [
    "В коде ниже реализуем ввод набора чисел через пробел, и в случае, если число уже встречалось в этом наборе будем выводить \"YES\", иначе \"NO\". Логика решения такова, что первоначальную строку мы преобразуем в список, а далее будем проверять, встречается ли элемент списка в множестве seen, куда мы будем переносить оригинальные элементы списка. Если не состоит - добавляем элемент в множество."
   ],
   "metadata": {
    "collapsed": false,
    "pycharm": {
     "name": "#%% md\n"
    }
   }
  },
  {
   "cell_type": "code",
   "execution_count": null,
   "metadata": {
    "collapsed": true,
    "pycharm": {
     "name": "#%%\n"
    }
   },
   "outputs": [],
   "source": [
    "def main():\n",
    "    # Считываем строку с числами и преобразуем в список\n",
    "    numbers_str = input().split()\n",
    "\n",
    "    # Создаем множество для отслеживания уже встретившихся чисел\n",
    "    seen = set()\n",
    "\n",
    "    # Проходимся по каждому числу и выводим YES или NO\n",
    "    for number in numbers_str:\n",
    "        if number in seen:\n",
    "            print(\"YES\")\n",
    "        else:\n",
    "            print(\"NO\")\n",
    "            # Добавляем число в множество\n",
    "            seen.add(number)\n",
    "\n",
    "if __name__ == \"__main__\":\n",
    "    main()"
   ]
  },
  {
   "cell_type": "markdown",
   "source": [
    "Выполненная задача:\n",
    "\n",
    "Во входной строке записана последовательность чисел через пробел.\n",
    "Для каждого числа выведите слово YES (в отдельной строке), если это число ранее встречалось в последовательности или NO,\n",
    "если не встречалось.\n",
    "\n",
    "Входные данные\n",
    "Вводится список чисел. Все числа списка находятся на одной строке.\n",
    "\n",
    "Выходные данные\n",
    "Выведите ответ на задачу."
   ],
   "metadata": {
    "collapsed": false,
    "pycharm": {
     "name": "#%% md\n"
    }
   }
  }
 ],
 "metadata": {
  "kernelspec": {
   "display_name": "Python 3",
   "language": "python",
   "name": "python3"
  },
  "language_info": {
   "codemirror_mode": {
    "name": "ipython",
    "version": 2
   },
   "file_extension": ".py",
   "mimetype": "text/x-python",
   "name": "python",
   "nbconvert_exporter": "python",
   "pygments_lexer": "ipython2",
   "version": "2.7.6"
  }
 },
 "nbformat": 4,
 "nbformat_minor": 0
}