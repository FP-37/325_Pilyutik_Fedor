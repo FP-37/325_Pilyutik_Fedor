{
 "cells": [
  {
   "cell_type": "markdown",
   "source": [
    "В данном блоке мы рассматриваем рекурсивные функции - они не имеют особого синтаксиса помимо того, что в качестве возвращаемого значения для такой функции мы размещаем ту же самую функцию - она будет выполняться до момента, пока не сработает другой return по нашему условию, содержащий уже конкретное значение.\n",
    "Как в указанном случае, функция power будет работать до тех пор, пока n не уменьшится до нуля, иначе выполняем умножение числа a на a."
   ],
   "metadata": {
    "collapsed": false,
    "pycharm": {
     "name": "#%% md\n"
    }
   }
  },
  {
   "cell_type": "code",
   "execution_count": null,
   "metadata": {
    "collapsed": true,
    "pycharm": {
     "name": "#%%\n"
    }
   },
   "outputs": [],
   "source": [
    "def power(a, n):\n",
    "    if n == 0:\n",
    "        return 1\n",
    "    else:\n",
    "        return a * power(a, n-1)"
   ]
  },
  {
   "cell_type": "markdown",
   "source": [
    "Выполним условие ввода двух значений - вещественного a и целочисленного n.\n",
    "Далее выведем в консоль результат выполнения функции power, принимающей в качестве входящих значений наши переменные."
   ],
   "metadata": {
    "collapsed": false,
    "pycharm": {
     "name": "#%% md\n"
    }
   }
  },
  {
   "cell_type": "code",
   "execution_count": null,
   "outputs": [],
   "source": [
    "def main():\n",
    "    a = float(input().strip())\n",
    "    n = int(input().strip())\n",
    "    print(power(a, n))\n",
    "\n",
    "if __name__ == \"__main__\":\n",
    "    main()"
   ],
   "metadata": {
    "collapsed": false,
    "pycharm": {
     "name": "#%%\n"
    }
   }
  },
  {
   "cell_type": "markdown",
   "source": [
    "Дано действительное положительное число a и целое неотрицательное число n.\n",
    "Вычислите a^n, не используя циклы и стандартную функцию pow, а используя рекуррентное соотношение a^n=a⋅a^(n−1).\n",
    "Решение оформите в виде функции power(a, n).\n",
    "\n",
    "Входные данные\n",
    "Вводятся действительное положительное число a и целое неотрицательное число n.\n",
    "\n",
    "Выходные данные\n",
    "Выведите ответ на задачу."
   ],
   "metadata": {
    "collapsed": false,
    "pycharm": {
     "name": "#%% md\n"
    }
   }
  }
 ],
 "metadata": {
  "kernelspec": {
   "display_name": "Python 3",
   "language": "python",
   "name": "python3"
  },
  "language_info": {
   "codemirror_mode": {
    "name": "ipython",
    "version": 2
   },
   "file_extension": ".py",
   "mimetype": "text/x-python",
   "name": "python",
   "nbconvert_exporter": "python",
   "pygments_lexer": "ipython2",
   "version": "2.7.6"
  }
 },
 "nbformat": 4,
 "nbformat_minor": 0
}