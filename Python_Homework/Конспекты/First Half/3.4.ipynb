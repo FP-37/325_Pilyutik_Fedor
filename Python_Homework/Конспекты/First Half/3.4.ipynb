{
 "cells": [
  {
   "cell_type": "markdown",
   "source": [
    "Ввод элементов будет совпадать с предыдущими программами.\n",
    "Далее в пятой строке создадим пустой список, поместив его в переменную result.\n",
    "Далее реализуем цикл for, в котором, указав две переменные, будем перебирать индексы элементов списка как i и сами значения элементов как num - в этом помогает функция enumerate, добавляющая к списку счётчик. При совпадении num с x добавляем индекс i+1 в список result - добавляем единицу, чтобы отсчёт элементов был реализован не с нуля, а по-человечески.\n",
    "Для добавления в список пользуемся встроенной функцией append для списков - добавление нового элемента в конец списка.\n",
    "Далее if result: срабатывает, если полученный список не пустой. Внутри функции print() располагаем полученный список result - обернём его в функцию sorted(), которая сортирует наборы элементов в Python по умолчанию по возрастанию.\n",
    "Тем временем знак * перед функцией sorted() используется для распаковки списка - возвращения самих элементов, а не списка."
   ],
   "metadata": {
    "collapsed": false,
    "pycharm": {
     "name": "#%% md\n"
    }
   }
  },
  {
   "cell_type": "code",
   "execution_count": null,
   "metadata": {
    "collapsed": true,
    "pycharm": {
     "name": "#%%\n"
    }
   },
   "outputs": [],
   "source": [
    "def main():\n",
    "    N = int(input().strip())\n",
    "    array = list(map(int, input().strip().split()))\n",
    "    x = int(input().strip())\n",
    "    result = []\n",
    "    for i, num in enumerate(array):\n",
    "        if num == x:\n",
    "            result.append(i + 1)\n",
    "    if result:\n",
    "        print(*sorted(result))"
   ]
  },
  {
   "cell_type": "markdown",
   "source": [
    "Пропишем проверку на то, что наш скрипт выполняется напрямую (подробнее см. 3.1)."
   ],
   "metadata": {
    "collapsed": false,
    "pycharm": {
     "name": "#%% md\n"
    }
   }
  },
  {
   "cell_type": "code",
   "execution_count": null,
   "outputs": [],
   "source": [
    "if __name__ == \"__main__\":\n",
    "    main()"
   ],
   "metadata": {
    "collapsed": false,
    "pycharm": {
     "name": "#%%\n"
    }
   }
  },
  {
   "cell_type": "markdown",
   "source": [
    "Выполненная задача:\n",
    "\n",
    "Напишите программу, которая находит значение максимального элемента массива.\n",
    "\n",
    "Входные данные\n",
    "В первой строке задается одно натуральное число N, не превосходящее 1000 – размер массива.\n",
    "\n",
    "Во второй строке вводятся N чисел – элементы массива (целые числа, не превосходящие по модулю 1000).\n",
    "\n",
    "Выходные данные\n",
    "Вывести одно число – значение максимального элемента в массиве."
   ],
   "metadata": {
    "collapsed": false,
    "pycharm": {
     "name": "#%% md\n"
    }
   }
  }
 ],
 "metadata": {
  "kernelspec": {
   "display_name": "Python 3",
   "language": "python",
   "name": "python3"
  },
  "language_info": {
   "codemirror_mode": {
    "name": "ipython",
    "version": 2
   },
   "file_extension": ".py",
   "mimetype": "text/x-python",
   "name": "python",
   "nbconvert_exporter": "python",
   "pygments_lexer": "ipython2",
   "version": "2.7.6"
  }
 },
 "nbformat": 4,
 "nbformat_minor": 0
}