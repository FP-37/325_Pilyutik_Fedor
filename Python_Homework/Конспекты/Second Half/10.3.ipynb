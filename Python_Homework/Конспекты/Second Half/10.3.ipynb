{
 "cells": [
  {
   "cell_type": "markdown",
   "source": [
    "Класс Point реализуем аналогично первой задаче."
   ],
   "metadata": {
    "collapsed": false,
    "pycharm": {
     "name": "#%% md\n"
    }
   }
  },
  {
   "cell_type": "code",
   "execution_count": null,
   "metadata": {
    "collapsed": true,
    "pycharm": {
     "name": "#%%\n"
    }
   },
   "outputs": [],
   "source": [
    "class Point:\n",
    "    def __init__(self, x, y):\n",
    "        self.x = x\n",
    "        self.y = y\n",
    "\n",
    "    def get_distance(self, other_point):\n",
    "        return ((self.x - other_point.x) ** 2 + (self.y - other_point.y) ** 2) ** 0.5"
   ]
  },
  {
   "cell_type": "markdown",
   "source": [
    "Опять же, реализуем класс PointSet, но теперь в качестве одного из методов укажем calculate_diameter, который будет возвращать диаметр указанного множества точек. Диаметр множества точек — это наибольшее расстояние между любыми двумя точками в этом множестве. Начиная с первых двух точек, ищем расстояние между ними и в дальнейшем через цикл for сравниваем указанное max_dist с последующими расстояниями. При возникновении большего значения обновляем значение переменной."
   ],
   "metadata": {
    "collapsed": false,
    "pycharm": {
     "name": "#%% md\n"
    }
   }
  },
  {
   "cell_type": "code",
   "execution_count": null,
   "outputs": [],
   "source": [
    "class PointSet:\n",
    "    def __init__(self, n):\n",
    "        self.points = []\n",
    "        self.n = n\n",
    "        for _ in range(n):\n",
    "            x, y = map(int, input().strip().split())\n",
    "            self.points.append(Point(x, y))\n",
    "\n",
    "    def calculate_diameter(self):\n",
    "        max_dist = self.points[0].get_distance(self.points[1])\n",
    "        for i, p1 in enumerate(self.points):\n",
    "            for p2 in self.points[i+1:]:\n",
    "                dist = p1.get_distance(p2)\n",
    "                if dist > max_dist:\n",
    "                    max_dist = dist\n",
    "\n",
    "        return max_dist"
   ],
   "metadata": {
    "collapsed": false,
    "pycharm": {
     "name": "#%%\n"
    }
   }
  },
  {
   "cell_type": "markdown",
   "source": [
    "Опять же, вводим количество точек n через клавиатуру, создаём экземпляр класса PointSet, указываем n в параметры объекта, далее после реализации точек в point_set осуществляем поиск диаметра для него и выводим результат на экран."
   ],
   "metadata": {
    "collapsed": false,
    "pycharm": {
     "name": "#%% md\n"
    }
   }
  },
  {
   "cell_type": "code",
   "execution_count": null,
   "outputs": [],
   "source": [
    "def main():\n",
    "    n = int(input().strip())\n",
    "    point_set = PointSet(n)\n",
    "    diameter = point_set.calculate_diameter()\n",
    "    print(diameter)\n",
    "\n",
    "if __name__ == \"__main__\":\n",
    "    main()"
   ],
   "metadata": {
    "collapsed": false,
    "pycharm": {
     "name": "#%%\n"
    }
   }
  },
  {
   "cell_type": "markdown",
   "source": [
    "Выполненная задача:\n",
    "\n",
    "Выведите диаметр данного множества – максимальное расстояние между любыми двумя точками.\n",
    "\n",
    "Создайте структуру Point и сохраните исходные данные в массиве структур Point.\n",
    "\n",
    "Входные данные\n",
    "Программа получает на вход набор точек на плоскости. Сначала задано количество точек n,\n",
    "затем идет последовательность из n строк, каждая из которых содержит два числа: координаты точки.\n",
    "Величина n не превосходит 100, все исходные координаты – целые числа, не превосходящие 10^3.\n",
    "\n",
    "Выходные данные\n",
    "Необходимо вывести диаметр данного множества с точностью в 15 значащих цифр."
   ],
   "metadata": {
    "collapsed": false,
    "pycharm": {
     "name": "#%% md\n"
    }
   }
  }
 ],
 "metadata": {
  "kernelspec": {
   "display_name": "Python 3",
   "language": "python",
   "name": "python3"
  },
  "language_info": {
   "codemirror_mode": {
    "name": "ipython",
    "version": 2
   },
   "file_extension": ".py",
   "mimetype": "text/x-python",
   "name": "python",
   "nbconvert_exporter": "python",
   "pygments_lexer": "ipython2",
   "version": "2.7.6"
  }
 },
 "nbformat": 4,
 "nbformat_minor": 0
}