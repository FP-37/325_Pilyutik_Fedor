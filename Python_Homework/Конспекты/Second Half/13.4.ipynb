{
 "cells": [
  {
   "cell_type": "markdown",
   "source": [
    "В функции binary_search_first мы инициализируем границы поиска low и high, а также переменную first_index, хранящую индекс первого вхождения, значением -1. Затем мы используем бинарный поиск: пока low меньше или равно high, мы вычисляем средний индекс mid. Если элемент arr[mid] меньше целевого значения x, мы сдвигаем нижнюю границу low вправо. Если arr[mid] больше x, мы сдвигаем верхнюю границу high влево. Если arr[mid] равно x, мы нашли первое вхождение (или одно из первых, если таких несколько), сохраняем индекс mid в first_index и продолжаем поиск в левой половине, чтобы убедиться, что найден именно первый индекс. В конце мы возвращаем значение first_index."
   ],
   "metadata": {
    "collapsed": false,
    "pycharm": {
     "name": "#%% md\n"
    }
   }
  },
  {
   "cell_type": "code",
   "execution_count": null,
   "metadata": {
    "collapsed": true,
    "pycharm": {
     "name": "#%%\n"
    }
   },
   "outputs": [],
   "source": [
    "def binary_search_first(arr, x):\n",
    "    low, high = 0, len(arr) - 1\n",
    "    first_index = -1\n",
    "    while low <= high:\n",
    "        mid = (low + high) // 2\n",
    "        if arr[mid] < x:\n",
    "            low = mid + 1\n",
    "        elif arr[mid] > x:\n",
    "            high = mid - 1\n",
    "        else:\n",
    "            first_index = mid\n",
    "            high = mid - 1\n",
    "    return first_index"
   ]
  },
  {
   "cell_type": "markdown",
   "source": [
    "Следующая функция аналогична, но мы возвращаем значение last_index, содержащее индекс последнего найденного элемента, равного x."
   ],
   "metadata": {
    "collapsed": false,
    "pycharm": {
     "name": "#%% md\n"
    }
   }
  },
  {
   "cell_type": "code",
   "execution_count": null,
   "outputs": [],
   "source": [
    "def binary_search_last(arr, x):\n",
    "    low, high = 0, len(arr) - 1\n",
    "    last_index = -1\n",
    "    while low <= high:\n",
    "        mid = (low + high) // 2\n",
    "        if arr[mid] <= x:\n",
    "            low = mid + 1\n",
    "            last_index = mid\n",
    "        else:\n",
    "            high = mid - 1\n",
    "    return last_index"
   ],
   "metadata": {
    "collapsed": false,
    "pycharm": {
     "name": "#%%\n"
    }
   }
  },
  {
   "cell_type": "markdown",
   "source": [
    "Используя предыдущие вспомогательные функции, мы обращаемся к функции count_occurrences. Эта функция подсчитывает количество вхождений элемента x в отсортированном списке arr с помощью модифицированного бинарного поиска."
   ],
   "metadata": {
    "collapsed": false,
    "pycharm": {
     "name": "#%% md\n"
    }
   }
  },
  {
   "cell_type": "code",
   "execution_count": null,
   "outputs": [],
   "source": [
    "def count_occurrences(arr, x):\n",
    "    first_index = binary_search_first(arr, x)\n",
    "    if first_index == -1:\n",
    "        return 0\n",
    "    last_index = binary_search_last(arr, x)\n",
    "    return last_index - first_index + 1"
   ],
   "metadata": {
    "collapsed": false,
    "pycharm": {
     "name": "#%%\n"
    }
   }
  },
  {
   "cell_type": "markdown",
   "source": [
    "Далее реализуем основную функцию нашей программы."
   ],
   "metadata": {
    "collapsed": false,
    "pycharm": {
     "name": "#%% md\n"
    }
   }
  },
  {
   "cell_type": "code",
   "execution_count": null,
   "outputs": [],
   "source": [
    "def main():\n",
    "    N = int(input())\n",
    "    first_array = list(map(int, input().split()))\n",
    "    M = int(input())\n",
    "    second_array = list(map(int, input().split()))\n",
    "\n",
    "    first_array.sort()\n",
    "\n",
    "    result = []\n",
    "    for x in second_array:\n",
    "        result.append(count_occurrences(first_array, x))\n",
    "\n",
    "    print(*result)\n",
    "\n",
    "if __name__ == \"__main__\":\n",
    "    main()"
   ],
   "metadata": {
    "collapsed": false,
    "pycharm": {
     "name": "#%%\n"
    }
   }
  },
  {
   "cell_type": "markdown",
   "source": [
    "Выполненная задача:\n",
    "\n",
    "Дано два массива. Для каждого элемента второго массива определите, сколько раз он встречается в первом массиве.\n",
    "\n",
    "Входные данные\n",
    "Первая строка входных данных содержит одно число N (1 ≤ N ≤ 10^5) – количество элементов в первом массиве.\n",
    "Далее идет N целых чисел, не превосходящих по модулю 10^9 – элементы первого массива.\n",
    "Далее идет количество элементов M во втором массиве и M элементов второго массива с такими же ограничениями.\n",
    "\n",
    "Выходные данные\n",
    "Выведите M чисел: для каждого элемента второго массива выведите,\n",
    "сколько раз такое значение встречается в первом массиве."
   ],
   "metadata": {
    "collapsed": false,
    "pycharm": {
     "name": "#%% md\n"
    }
   }
  }
 ],
 "metadata": {
  "kernelspec": {
   "display_name": "Python 3",
   "language": "python",
   "name": "python3"
  },
  "language_info": {
   "codemirror_mode": {
    "name": "ipython",
    "version": 2
   },
   "file_extension": ".py",
   "mimetype": "text/x-python",
   "name": "python",
   "nbconvert_exporter": "python",
   "pygments_lexer": "ipython2",
   "version": "2.7.6"
  }
 },
 "nbformat": 4,
 "nbformat_minor": 0
}