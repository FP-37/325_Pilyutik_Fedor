{
 "cells": [
  {
   "cell_type": "markdown",
   "source": [
    "Сначала я не понял, что задача уже встречалась нам в блоке множеств, поэтому подумал \"можно же реализовать это через set!\", и сделал это второй раз. Но потом подумал и понял, что нужно попробовать решить её через сортировку.\n",
    "Реализацию таких условий можно осуществить в Python сначала отсортировав список функцией sort(), а далее перебериаем список numbers, и если он пустой или элемент numbers больше последнего элемента в unique_numbers, то однозначно добавляем элемент в unique_numbers. На экран выведем длину полученного unique numbers, разместив значение длины в переменную distinct_numbers."
   ],
   "metadata": {
    "collapsed": false,
    "pycharm": {
     "name": "#%% md\n"
    }
   }
  },
  {
   "cell_type": "code",
   "execution_count": null,
   "metadata": {
    "collapsed": true,
    "pycharm": {
     "name": "#%%\n"
    }
   },
   "outputs": [],
   "source": [
    "def main():\n",
    "    N = int(input().strip())\n",
    "    numbers = list(map(int, input().strip().split()))\n",
    "    numbers.sort()\n",
    "    unique_numbers = []\n",
    "    for num in numbers:\n",
    "        if not unique_numbers or num > unique_numbers[-1]:\n",
    "            unique_numbers.append(num)\n",
    "    distinct_numbers = len(unique_numbers)\n",
    "    print(distinct_numbers)\n",
    "\n",
    "if __name__ == \"__main__\":\n",
    "    main()"
   ]
  },
  {
   "cell_type": "markdown",
   "source": [
    "Выполненная задача:\n",
    "\n",
    "Дано N чисел, требуется выяснить, сколько среди них различных.\n",
    "\n",
    "Входные данные\n",
    "В первой строке дано число N – количество чисел. (1 <= N <= 100000)\n",
    "Во второй строке даны через пробел N чисел, каждое не превышает 2*10^9 по модулю.\n",
    "\n",
    "Выходные данные\n",
    "Выведите число, равное количеству различных чисел среди данных."
   ],
   "metadata": {
    "collapsed": false,
    "pycharm": {
     "name": "#%% md\n"
    }
   }
  }
 ],
 "metadata": {
  "kernelspec": {
   "display_name": "Python 3",
   "language": "python",
   "name": "python3"
  },
  "language_info": {
   "codemirror_mode": {
    "name": "ipython",
    "version": 2
   },
   "file_extension": ".py",
   "mimetype": "text/x-python",
   "name": "python",
   "nbconvert_exporter": "python",
   "pygments_lexer": "ipython2",
   "version": "2.7.6"
  }
 },
 "nbformat": 4,
 "nbformat_minor": 0
}