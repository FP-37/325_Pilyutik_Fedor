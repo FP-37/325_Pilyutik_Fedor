{
 "cells": [
  {
   "cell_type": "markdown",
   "source": [
    "В функции nth_root(a, n) мы реализовали бинарный поиск для приближенного вычисления n-го корня числа a, инициализировав нижнюю границу low как 0.0 и верхнюю границу high как максимум из 1.0 и a. Цикл продолжается до тех пор, пока разница между high и low не станет меньше заданной точности (0.000001). На каждой итерации мы вычисляем середину интервала mid, затем приближение n-го корня как mid**n. Если приближение меньше a, мы обновляем low как mid, иначе обновляем high как mid, тем самым сужая интервал поиска. В конце мы возвращаем среднее значение между low и high как окончательное приближение, используя бинарный поиск для нахождения решения с заданной точностью."
   ],
   "metadata": {
    "collapsed": false,
    "pycharm": {
     "name": "#%% md\n"
    }
   }
  },
  {
   "cell_type": "code",
   "execution_count": null,
   "metadata": {
    "collapsed": true,
    "pycharm": {
     "name": "#%%\n"
    }
   },
   "outputs": [],
   "source": [
    "def nth_root(a, n):\n",
    "    low = 0.0\n",
    "    high = max(1.0, a)\n",
    "\n",
    "    while high - low > 0.000001:\n",
    "        mid = (low + high) / 2\n",
    "        approximation = mid**n\n",
    "\n",
    "        if approximation < a:\n",
    "            low = mid\n",
    "        else:\n",
    "            high = mid\n",
    "\n",
    "    return (low + high) / 2"
   ]
  },
  {
   "cell_type": "markdown",
   "source": [
    "Введём переменные a и n для использования в функции и далее выведем результирующее значение nth_root."
   ],
   "metadata": {
    "collapsed": false,
    "pycharm": {
     "name": "#%% md\n"
    }
   }
  },
  {
   "cell_type": "code",
   "execution_count": null,
   "outputs": [],
   "source": [
    "def main():\n",
    "    a = float(input().strip())\n",
    "    n = int(input().strip())\n",
    "    result = nth_root(a, n)\n",
    "    print(result)\n",
    "\n",
    "if __name__ == \"__main__\":\n",
    "    main()"
   ],
   "metadata": {
    "collapsed": false,
    "pycharm": {
     "name": "#%%\n"
    }
   }
  },
  {
   "cell_type": "markdown",
   "source": [
    "Выполненная задача:\n",
    "\n",
    "Дано действительное число a и натуральное n. Вычислите корень n-й степени из числа\n",
    "\n",
    "Для решения используйте метод деления отрезка пополам.\n",
    "\n",
    "Входные данные\n",
    "Число a – действительное, неотрицательное, не превосходит 1000, задано с точностью до 6 знаков после запятой.\n",
    "Число n – натуральное, не превосходящее 10.\n",
    "\n",
    "Выходные данные\n",
    "Программа должна вывести единственное число: ответ на задачу с точностью не менее 6 знаков после запятой."
   ],
   "metadata": {
    "collapsed": false,
    "pycharm": {
     "name": "#%% md\n"
    }
   }
  }
 ],
 "metadata": {
  "kernelspec": {
   "display_name": "Python 3",
   "language": "python",
   "name": "python3"
  },
  "language_info": {
   "codemirror_mode": {
    "name": "ipython",
    "version": 2
   },
   "file_extension": ".py",
   "mimetype": "text/x-python",
   "name": "python",
   "nbconvert_exporter": "python",
   "pygments_lexer": "ipython2",
   "version": "2.7.6"
  }
 },
 "nbformat": 4,
 "nbformat_minor": 0
}