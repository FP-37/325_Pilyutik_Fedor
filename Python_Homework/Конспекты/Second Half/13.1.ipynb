{
 "cells": [
  {
   "cell_type": "markdown",
   "source": [
    "Создадим функцию binary_search(n, k, arr), которая будет реализовать бинарный поиск.\n",
    "Мы устанавливаем левую границу left в 0 и правую границу right в n-1, где n — длина массива arr. Далее на каждой итерации мы вычисляем среднюю позицию mid как left+(right-left)//2. Использование целочисленного деления гарантирует, что mid будет целым числом. Далее мы сравниваем элемент массива arr[mid] со значением k. Предусматриваем три случая:\n",
    "Случай 1: arr[mid] == k: Если элемент в середине равен целевому значению, мы нашли искомый элемент, и функция возвращает True.\n",
    "Случай 2: arr[mid] < k: Если элемент в середине меньше целевого значения, это значит, что искомый элемент (если он есть) находится в правой половине массива. Поэтому мы обновляем левую границу: left = mid+1.\n",
    "Случай 3: arr[mid] > k: Если элемент в середине больше целевого значения, искомый элемент (если он есть) находится в левой половине массива. Мы обновляем правую границу: right = mid-1."
   ],
   "metadata": {
    "collapsed": false,
    "pycharm": {
     "name": "#%% md\n"
    }
   }
  },
  {
   "cell_type": "code",
   "execution_count": null,
   "metadata": {
    "collapsed": true,
    "pycharm": {
     "name": "#%%\n"
    }
   },
   "outputs": [],
   "source": [
    "def binary_search(n, k, arr):\n",
    "\n",
    "    left, right = 0, n - 1\n",
    "\n",
    "    while left <= right:\n",
    "        mid = left + (right - left) // 2\n",
    "\n",
    "        if arr[mid] == k:\n",
    "            return True\n",
    "        elif arr[mid] < k:\n",
    "            left = mid + 1\n",
    "        else:\n",
    "            right = mid - 1\n",
    "\n",
    "    return False"
   ]
  },
  {
   "cell_type": "markdown",
   "source": [
    "Введём все необходимые данные и при реализации нашей функции получим True или False, что приведёт к ответу на вопрос, встречается ли указанное число в первом списке."
   ],
   "metadata": {
    "collapsed": false,
    "pycharm": {
     "name": "#%% md\n"
    }
   }
  },
  {
   "cell_type": "code",
   "execution_count": null,
   "outputs": [],
   "source": [
    "def main():\n",
    "    n, k = map(int, input().strip().split())\n",
    "    arr = list(map(int, input().strip().split()))\n",
    "\n",
    "    for query in map(int, input().strip().split()):\n",
    "        if binary_search(n, query, arr):\n",
    "            print(\"YES\")\n",
    "        else:\n",
    "            print(\"NO\")\n",
    "\n",
    "if __name__ == \"__main__\":\n",
    "    main()"
   ],
   "metadata": {
    "collapsed": false,
    "pycharm": {
     "name": "#%%\n"
    }
   }
  },
  {
   "cell_type": "markdown",
   "source": [
    "Выполненная задача:\n",
    "\n",
    "Реализуйте алгоритм бинарного поиска.\n",
    "\n",
    "Входные данные\n",
    "В первой строке входных данных содержатся натуральные числа N и K (0<N,K≤100000).\n",
    "Во второй строке задаются N элементов первого массива, отсортированного по возрастанию,\n",
    "а в третьей строке – K элементов второго массива. Элементы обоих массивов - целые числа, каждое из которых\n",
    "по модулю не превосходит 10^9.\n",
    "\n",
    "Выходные данные\n",
    "Требуется для каждого из K чисел вывести в отдельную строку \"YES\", если это число встречается в первом массиве,\n",
    "и \"NO\" в противном случае."
   ],
   "metadata": {
    "collapsed": false,
    "pycharm": {
     "name": "#%% md\n"
    }
   }
  }
 ],
 "metadata": {
  "kernelspec": {
   "display_name": "Python 3",
   "language": "python",
   "name": "python3"
  },
  "language_info": {
   "codemirror_mode": {
    "name": "ipython",
    "version": 2
   },
   "file_extension": ".py",
   "mimetype": "text/x-python",
   "name": "python",
   "nbconvert_exporter": "python",
   "pygments_lexer": "ipython2",
   "version": "2.7.6"
  }
 },
 "nbformat": 4,
 "nbformat_minor": 0
}