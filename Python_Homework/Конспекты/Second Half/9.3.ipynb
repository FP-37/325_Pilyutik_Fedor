{
 "cells": [
  {
   "cell_type": "markdown",
   "source": [
    "На языке Python для вставки элемента в список по индексу достаточно воспользоваться функцией insert(). Думаю, что так как это не противоречит условию задачи, то можно воспользоваться этой функцией. Если же гипотетически эта функция запрещена, то мы с помощью цикла будем доходить до нужного индекса и далее каждый раз забирать прошлое значение в новую переменную, подставлять на место прошлого новое, а в следующей итерации повторять процесс."
   ],
   "metadata": {
    "collapsed": false,
    "pycharm": {
     "name": "#%% md\n"
    }
   }
  },
  {
   "cell_type": "code",
   "execution_count": null,
   "metadata": {
    "collapsed": true,
    "pycharm": {
     "name": "#%%\n"
    }
   },
   "outputs": [],
   "source": [
    "def main():\n",
    "\n",
    "    n = int(input().strip())\n",
    "    array = list(map(int, input().strip().split()))\n",
    "    x, i = map(int, input().strip().split())\n",
    "\n",
    "    array.insert(i-1, x)\n",
    "\n",
    "    print(*array)\n",
    "\n",
    "if __name__ == \"__main__\":\n",
    "    main()"
   ]
  },
  {
   "cell_type": "markdown",
   "source": [
    "Выполненная задача:\n",
    "\n",
    "Требуется вставить в данный массив на данное место данный элемент, сдвинув остальные элементы вправо.\n",
    "\n",
    "Входные данные\n",
    "В первой строке вводится одно натуральное число, не превосходящее 1000 – размер массива.\n",
    "Во второй строке задаются N чисел – элементы массива (целые числа, не превосходящие по модулю 1000).\n",
    "В третьей строке вводится число, которое необходимо вставить, и номер места, на которое его нужно вставить.\n",
    "\n",
    "Выходные данные\n",
    "Вывести получившийся массив."
   ],
   "metadata": {
    "collapsed": false,
    "pycharm": {
     "name": "#%% md\n"
    }
   }
  },
  {
   "cell_type": "markdown",
   "source": [],
   "metadata": {
    "collapsed": false,
    "pycharm": {
     "name": "#%% md\n"
    }
   }
  }
 ],
 "metadata": {
  "kernelspec": {
   "display_name": "Python 3",
   "language": "python",
   "name": "python3"
  },
  "language_info": {
   "codemirror_mode": {
    "name": "ipython",
    "version": 2
   },
   "file_extension": ".py",
   "mimetype": "text/x-python",
   "name": "python",
   "nbconvert_exporter": "python",
   "pygments_lexer": "ipython2",
   "version": "2.7.6"
  }
 },
 "nbformat": 4,
 "nbformat_minor": 0
}