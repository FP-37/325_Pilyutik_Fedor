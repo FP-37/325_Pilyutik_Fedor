{
 "cells": [
  {
   "cell_type": "markdown",
   "source": [
    "В функции solve(n, votes) мы подсчитываем количество голосов для каждого участник и определяем победителей. Сначала создаём массив vote_counts длиной n + 1 для хранения количества голосов, где индекс соответствует номеру участника. Затем проходим по списку votes, увеличивая счётчик для каждого действительного голоса (в пределах от 1 до n). После этого находим максимальное количество голосов, проходя по массиву vote_counts, и сохраняем его в переменной max_votes. В заключительном цикле мы собираем всех участников, получивших максимальное количество голосов, в список winners. Функция возвращает этот список победителей. Сложность функции составляет O(n + m), где n — количество участников, а m — количество голосов, так как мы проходим по массиву голосов и массиву подсчёта голосов линейно."
   ],
   "metadata": {
    "collapsed": false,
    "pycharm": {
     "name": "#%% md\n"
    }
   }
  },
  {
   "cell_type": "code",
   "execution_count": null,
   "metadata": {
    "collapsed": true,
    "pycharm": {
     "name": "#%%\n"
    }
   },
   "outputs": [],
   "source": [
    "def solve(n, votes):\n",
    "    vote_counts = [0] * (n + 1)\n",
    "    for vote in votes:\n",
    "        if 1 <= vote <= n:\n",
    "            vote_counts[vote] += 1\n",
    "    max_votes = 0\n",
    "    for count in vote_counts:\n",
    "        max_votes = max(max_votes, count)\n",
    "    winners = []\n",
    "    for i in range(1, n + 1):\n",
    "        if vote_counts[i] == max_votes:\n",
    "            winners.append(i)\n",
    "\n",
    "    return winners"
   ]
  },
  {
   "cell_type": "markdown",
   "source": [
    "Функцию main реализуем аналогично предыдущим задачам."
   ],
   "metadata": {
    "collapsed": false,
    "pycharm": {
     "name": "#%% md\n"
    }
   }
  },
  {
   "cell_type": "code",
   "execution_count": null,
   "outputs": [],
   "source": [
    "def main():\n",
    "    n = int(input().strip())\n",
    "    votes = list(map(int, input().strip().split()))\n",
    "    result = solve(n, votes)\n",
    "    print(*result)\n",
    "\n",
    "if __name__ == \"__main__\":\n",
    "    main()"
   ],
   "metadata": {
    "collapsed": false,
    "pycharm": {
     "name": "#%%\n"
    }
   }
  },
  {
   "cell_type": "markdown",
   "source": [
    "Выполненная задача:\n",
    "\n",
    "На телевизионном шоу зрители голосуют за участников шоу, отправляя SMS-сообщение с номером участника\n",
    "Определите победителя шоу на основе присланных SMS-сообщений.\n",
    "\n",
    "Входные данные\n",
    "Первая строка входных данных содержит количество участников шоу N≤10^6.\n",
    "Во второй строке содержится список номеров, присланных телезрителями, через пробел.\n",
    "\n",
    "Выходные данные\n",
    "Программа должна вывести номер участника, набравшего наибольшее число голосов.\n",
    "Если таких несколько, то программа должна вывести номера всех победителей шоу в порядке возрастания.\n",
    "\n",
    "Неверные номера, присланные телезрителями (то есть большие, чем N) необходимо игнорировать.\n",
    "\n",
    "Примечание\n",
    "\n",
    "Сложность работы программы должна быть O(n). Использование встроенной сортировки(sort, sorted),\n",
    "алгоритмов сортировки пузырёк/quick sort/merge sort и других запрещено!"
   ],
   "metadata": {
    "collapsed": false,
    "pycharm": {
     "name": "#%% md\n"
    }
   }
  }
 ],
 "metadata": {
  "kernelspec": {
   "display_name": "Python 3",
   "language": "python",
   "name": "python3"
  },
  "language_info": {
   "codemirror_mode": {
    "name": "ipython",
    "version": 2
   },
   "file_extension": ".py",
   "mimetype": "text/x-python",
   "name": "python",
   "nbconvert_exporter": "python",
   "pygments_lexer": "ipython2",
   "version": "2.7.6"
  }
 },
 "nbformat": 4,
 "nbformat_minor": 0
}