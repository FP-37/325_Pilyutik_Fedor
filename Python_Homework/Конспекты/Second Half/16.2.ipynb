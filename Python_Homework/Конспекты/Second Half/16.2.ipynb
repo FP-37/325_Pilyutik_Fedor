{
 "cells": [
  {
   "cell_type": "markdown",
   "source": [
    "В функции count_sort(arr) мы реализуем сортировку подсчётом, используя массив count длиной 20001 для учёта вхождений элементов из массива arr, который может содержать значения в диапазоне от -10000 до 10000; для этого мы смещаем значения на 10000, чтобы избежать отрицательных индексов. Сначала мы проходим по массиву arr, увеличивая соответствующий индекс в массиве count. Затем выполняем суммирование в массиве count, чтобы определить позиции элементов в отсортированном массиве. В последнем проходе мы помещаем элементы в массив output на основе значений в count, проходя по массиву arr в обратном порядке. Сложность этой функции составляет O(n), так как основные операции выполняются за O(n) для подсчёта и формирования выходного массива."
   ],
   "metadata": {
    "collapsed": false,
    "pycharm": {
     "name": "#%% md\n"
    }
   }
  },
  {
   "cell_type": "code",
   "execution_count": null,
   "metadata": {
    "collapsed": true,
    "pycharm": {
     "name": "#%%\n"
    }
   },
   "outputs": [],
   "source": [
    "def count_sort(arr):\n",
    "    k = 20001  # Диапазон значений от -10000 до 10000\n",
    "    count = [0] * k\n",
    "    output = [0] * len(arr)\n",
    "    for x in arr:\n",
    "        count[x + 10000] += 1\n",
    "    for i in range(1, k):\n",
    "        count[i] += count[i - 1]\n",
    "    for i in range(len(arr) - 1, -1, -1):\n",
    "        output[count[arr[i] + 10000] - 1] = arr[i]\n",
    "        count[arr[i] + 10000] -= 1\n",
    "    return output"
   ]
  },
  {
   "cell_type": "markdown",
   "source": [
    "Реализуем ввод длины списка и самого списка, далее пропустим список через функцию для получения отсортированного варианта. Распакуем его и выведем на экран."
   ],
   "metadata": {
    "collapsed": false,
    "pycharm": {
     "name": "#%% md\n"
    }
   }
  },
  {
   "cell_type": "code",
   "execution_count": null,
   "outputs": [],
   "source": [
    "def main():\n",
    "    n = int(input())\n",
    "    arr = list(map(int, input().split()))\n",
    "    arr = count_sort(arr)\n",
    "    print(*arr)\n",
    "\n",
    "if __name__ == \"__main__\":\n",
    "    main()"
   ],
   "metadata": {
    "collapsed": false,
    "pycharm": {
     "name": "#%%\n"
    }
   }
  },
  {
   "cell_type": "markdown",
   "source": [
    "Выполненная задача:\n",
    "\n",
    "Реализуйте алгоритм сортировки подсчетом для произвольных чисел, по модулю не превосходящих 10000.\n",
    "\n",
    "\n",
    "Входные данные\n",
    "На вход программе сначала подается значение n ≤ 100000 – количество элементов в массиве.\n",
    "В следующей строке входных данных расположены сами элементы массива – целые числа, по модулю не превосходящие 10000.\n",
    "\n",
    "Выходные данные\n",
    "Распечатайте отсортированный по неубыванию массив.\n",
    "\n",
    "Примечание\n",
    "\n",
    "Сложность работы программы должна быть O(n). Использование встроенной сортировки(sort, sorted),\n",
    "алгоритмов сортировки пузырёк/quick sort/merge sort и других запрещено!"
   ],
   "metadata": {
    "collapsed": false,
    "pycharm": {
     "name": "#%% md\n"
    }
   }
  }
 ],
 "metadata": {
  "kernelspec": {
   "display_name": "Python 3",
   "language": "python",
   "name": "python3"
  },
  "language_info": {
   "codemirror_mode": {
    "name": "ipython",
    "version": 2
   },
   "file_extension": ".py",
   "mimetype": "text/x-python",
   "name": "python",
   "nbconvert_exporter": "python",
   "pygments_lexer": "ipython2",
   "version": "2.7.6"
  }
 },
 "nbformat": 4,
 "nbformat_minor": 0
}