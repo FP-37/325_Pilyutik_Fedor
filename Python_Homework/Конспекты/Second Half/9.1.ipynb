{
 "cells": [
  {
   "cell_type": "markdown",
   "source": [
    "В поставленной задаче нет задания провести полноценную сортировку, но на ней мы можем познакомиться с общим принципом, согласно которому её реализуем - в 9 и 10 строке мы частично выполняем его. С помощью функции max() узнаём максимальное значение в массиве и с помощью функции index() вернём индекс элемента, содержащего это значение.\n",
    "Далее в десятой строке просто поменяем местами нулевой элемент списка и тот, который содержит максимальное значение.\n",
    "Изменённый список выведем на экран."
   ],
   "metadata": {
    "collapsed": false,
    "pycharm": {
     "name": "#%% md\n"
    }
   }
  },
  {
   "cell_type": "code",
   "execution_count": null,
   "metadata": {
    "collapsed": true,
    "pycharm": {
     "name": "#%%\n"
    }
   },
   "outputs": [],
   "source": [
    "def main():\n",
    "\n",
    "    n = int(input().strip())\n",
    "    array = list(map(int, input().strip().split()))\n",
    "\n",
    "    max_element_index = array.index(max(array))\n",
    "    array[0], array[max_element_index] = array[max_element_index], array[0]\n",
    "\n",
    "    print(*array)\n",
    "\n",
    "if __name__ == \"__main__\":\n",
    "    main()"
   ]
  },
  {
   "cell_type": "markdown",
   "source": [
    "Выполненная задача:\n",
    "\n",
    "Требуется поменять местами первый элемент массива с максимальным.\n",
    "\n",
    "Входные данные\n",
    "В первой строке вводится одно натуральное число, не превосходящее 1000 – размер массива.\n",
    "Во второй строке задаются N чисел – элементы массива (целые числа, не превосходящие по модулю 1000).\n",
    "\n",
    "Выходные данные\n",
    "Вывести получившийся массив. Если максимальных элементов несколько, требуется поменять первый из них."
   ],
   "metadata": {
    "collapsed": false,
    "pycharm": {
     "name": "#%% md\n"
    }
   }
  }
 ],
 "metadata": {
  "kernelspec": {
   "display_name": "Python 3",
   "language": "python",
   "name": "python3"
  },
  "language_info": {
   "codemirror_mode": {
    "name": "ipython",
    "version": 2
   },
   "file_extension": ".py",
   "mimetype": "text/x-python",
   "name": "python",
   "nbconvert_exporter": "python",
   "pygments_lexer": "ipython2",
   "version": "2.7.6"
  }
 },
 "nbformat": 4,
 "nbformat_minor": 0
}