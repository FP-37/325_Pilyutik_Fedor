{
 "cells": [
  {
   "cell_type": "markdown",
   "source": [
    "В данном блоке задач мы рассматриваем тему классов, поэтому реализуем нашу программу с их использованием.\n",
    "Классы в Python представляют собой пользовательские типы данных, которые могут содержать атрибуты и методы.\n",
    "В первую очередь создадим для нашей программы класс Point, реализовав через встроенный метод __init__ инициализацию атрибутов x и y, которые будут осуществлять хранение координат точки в объекте класса. Такой объект мы и будем считать заданной точкой. Также внутри класса мы прописываем функцию (также называемую методом) get_distance, которая будет применима исключительно к объектам класса Point. Метод get_distance вычисляет расстояние от этой точки до начала координат с использованием теоремы Пифагора.\n",
    "Также стоит подметить, что внутри классов мы используем ключевое слово self. Оно используется для обозначения экземпляра класса внутри методов этого класса и позволяет методам обращаться к атрибутам и другим методам данного экземпляра. self является неявным первым параметром всех методов класса и автоматически передается при вызове метода. Это соглашение позволяет методам внутри класса взаимодействовать с атрибутами и методами этого же класса без необходимости явного указания объекта, который вызывает метод."
   ],
   "metadata": {
    "collapsed": false,
    "pycharm": {
     "name": "#%% md\n"
    }
   }
  },
  {
   "cell_type": "code",
   "execution_count": null,
   "metadata": {
    "collapsed": true,
    "pycharm": {
     "name": "#%%\n"
    }
   },
   "outputs": [],
   "source": [
    "class Point:\n",
    "    def __init__(self, x, y):\n",
    "        self.x = x\n",
    "        self.y = y\n",
    "\n",
    "    def get_distance(self):\n",
    "        return (self.x ** 2 + self.y ** 2) ** 0.5"
   ]
  },
  {
   "cell_type": "markdown",
   "source": [
    "Класс PointSet мы создали для хранения набора точек и добавили метод find_furthest_point для нахождения точки с наибольшим расстоянием от начала координат среди всех точек, хранящихся в списке points."
   ],
   "metadata": {
    "collapsed": false,
    "pycharm": {
     "name": "#%% md\n"
    }
   }
  },
  {
   "cell_type": "code",
   "execution_count": null,
   "outputs": [],
   "source": [
    "class PointSet:\n",
    "    def __init__(self, n):\n",
    "        self.points = []\n",
    "        self.n = n\n",
    "        for _ in range(n):\n",
    "            x, y = map(int, input().strip().split())\n",
    "            self.points.append(Point(x, y))\n",
    "\n",
    "    def find_furthest_point(self):\n",
    "        furthest_point = self.points[0]\n",
    "        for point in self.points:\n",
    "            if point.get_distance() > furthest_point.get_distance():\n",
    "                furthest_point = point\n",
    "        return furthest_point"
   ],
   "metadata": {
    "collapsed": false,
    "pycharm": {
     "name": "#%%\n"
    }
   }
  },
  {
   "cell_type": "markdown",
   "source": [
    "В функции main мы просто запишем, сколько точек нужно добавить, создадим объект класса PointSet с указанным количеством необходимых точек, найдём самую удалённую точку с помощью функции find_furthest_point и выведем её координаты на экран."
   ],
   "metadata": {
    "collapsed": false,
    "pycharm": {
     "name": "#%% md\n"
    }
   }
  },
  {
   "cell_type": "code",
   "execution_count": null,
   "outputs": [],
   "source": [
    "def main():\n",
    "    n = int(input().strip())\n",
    "    point_set = PointSet(n)\n",
    "    furthest_point = point_set.find_furthest_point()\n",
    "    print(furthest_point.x, furthest_point.y)\n",
    "\n",
    "if __name__ == \"__main__\":\n",
    "    main()"
   ],
   "metadata": {
    "collapsed": false,
    "pycharm": {
     "name": "#%%\n"
    }
   }
  },
  {
   "cell_type": "markdown",
   "source": [
    "Выполненная задача:\n",
    "\n",
    "Выведите координаты наиболее удаленной от начала координат точки.\n",
    "\n",
    "Входные данные\n",
    "Программа получает на вход набор точек на плоскости.\n",
    "Сначала задано количество точек n, затем идет последовательность из n строк,\n",
    "каждая из которых содержит два числа: координаты точки. Величина n не превосходит 100,\n",
    "все исходные координаты – целые числа, не превосходящие 10^3 по абсолютной величине.\n",
    "\n",
    "Выходные данные\n",
    "Выведите  координаты точки, наиболее удаленной от начала координат."
   ],
   "metadata": {
    "collapsed": false,
    "pycharm": {
     "name": "#%% md\n"
    }
   }
  }
 ],
 "metadata": {
  "kernelspec": {
   "display_name": "Python 3",
   "language": "python",
   "name": "python3"
  },
  "language_info": {
   "codemirror_mode": {
    "name": "ipython",
    "version": 2
   },
   "file_extension": ".py",
   "mimetype": "text/x-python",
   "name": "python",
   "nbconvert_exporter": "python",
   "pygments_lexer": "ipython2",
   "version": "2.7.6"
  }
 },
 "nbformat": 4,
 "nbformat_minor": 0
}