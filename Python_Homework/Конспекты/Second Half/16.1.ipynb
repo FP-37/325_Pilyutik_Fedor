{
 "cells": [
  {
   "cell_type": "markdown",
   "source": [
    "В функции CountSort(A) мы реализуем сортировку подсчётом, начиная с инициализации массива count длиной 101 (100+1). Он будет хранить количество вхождений каждого элемента из массива A, и массива output, который будет содержать отсортированные элементы. Затем мы проходим по каждому элементу A, увеличивая соответствующий индекс в массиве count. После этого мы выполняем суммирование в массиве count, чтобы определить позиции каждого элемента в отсортированном массиве. Наконец, мы проходим по массиву A в обратном порядке, помещая элементы в массив output на основе значений в count, и уменьшаем счётчик для каждого элемента. В результате мы получаем отсортированный массив, который возвращаем из функции.\n",
    "Функция сортировки подсчётом CountSort(A) имеет временную сложность O(n) благодаря тому, что основной объём работы выполняется в трёх проходах: первый проход по массиву A для подсчёта вхождений элементов занимает O(n), второй проход для кумулятивного суммирования в массиве count занимает O(k), где k — константа (101), и третий проход по массиву A для формирования отсортированного массива output также занимает O(n). Поскольку k является фиксированным, общая сложность сводится к O(n)."
   ],
   "metadata": {
    "collapsed": false,
    "pycharm": {
     "name": "#%% md\n"
    }
   }
  },
  {
   "cell_type": "code",
   "execution_count": null,
   "metadata": {
    "collapsed": true,
    "pycharm": {
     "name": "#%%\n"
    }
   },
   "outputs": [],
   "source": [
    "def CountSort(A):\n",
    "    k = 101\n",
    "    count = [0] * k\n",
    "    output = [0] * len(A)\n",
    "    for x in A:\n",
    "        count[x] += 1\n",
    "    for i in range(1, k):\n",
    "        count[i] += count[i - 1]\n",
    "\n",
    "    for i in range(len(A) - 1, -1, -1):\n",
    "        output[count[A[i]] - 1] = A[i]\n",
    "        count[A[i]] -= 1\n",
    "\n",
    "    return output"
   ]
  },
  {
   "cell_type": "markdown",
   "source": [
    "В функции main() введём с клавиатуры массив, отсортируем через функцию CountSort, распакуем и выведем на экран."
   ],
   "metadata": {
    "collapsed": false,
    "pycharm": {
     "name": "#%% md\n"
    }
   }
  },
  {
   "cell_type": "code",
   "execution_count": null,
   "outputs": [],
   "source": [
    "def main():\n",
    "    A = list(map(int, input().strip().split()))\n",
    "    print(*CountSort(A))\n",
    "\n",
    "if __name__ == \"__main__\":\n",
    "    main()"
   ],
   "metadata": {
    "collapsed": false,
    "pycharm": {
     "name": "#%%\n"
    }
   }
  },
  {
   "cell_type": "markdown",
   "source": [
    "Выполненная задача:\n",
    "\n",
    "Дан список из N (N≤2∗10^5) элементов, которые принимают целые значения от 0 до 100.\n",
    "Отсортируйте этот список в порядке неубывания элементов. Выведите полученный список.\\\n",
    "Решение оформите в виде функции CountSort(A), которая модифицирует передаваемый ей список.\n",
    "\n",
    "Примечание\n",
    "Сложность работы программы должна быть O(n). Использование встроенной сортировки(sort, sorted),\n",
    "алгоритмов сортировки пузырёк/quick sort/merge sort и других запрещено!"
   ],
   "metadata": {
    "collapsed": false,
    "pycharm": {
     "name": "#%% md\n"
    }
   }
  }
 ],
 "metadata": {
  "kernelspec": {
   "display_name": "Python 3",
   "language": "python",
   "name": "python3"
  },
  "language_info": {
   "codemirror_mode": {
    "name": "ipython",
    "version": 2
   },
   "file_extension": ".py",
   "mimetype": "text/x-python",
   "name": "python",
   "nbconvert_exporter": "python",
   "pygments_lexer": "ipython2",
   "version": "2.7.6"
  }
 },
 "nbformat": 4,
 "nbformat_minor": 0
}