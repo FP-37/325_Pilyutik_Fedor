{
 "cells": [
  {
   "cell_type": "markdown",
   "source": [
    "Реализуем функцию min_parents_to_add(n, k), которая будет определять минимальное количество родителей k к добавлению, чтобы удовлетворить условие. Общее количество членов совета n должно быть таким, что количество родителей составляли не меньше, чем треть от общего числа членов совета. Мы используем бинарный поиск в диапазоне от 0 до n, чтобы найти минимальное количество родителей. В каждой итерации мы вычисляем общее количество членов совета и необходимое количество родителей. Если текущее количество родителей (k + добавленные) больше или равно необходимому, мы уменьшаем верхнюю границу поиска, иначе увеличиваем нижнюю. В конце функция возвращает минимальное количество родителей low, которое нужно добавить."
   ],
   "metadata": {
    "collapsed": false,
    "pycharm": {
     "name": "#%% md\n"
    }
   }
  },
  {
   "cell_type": "code",
   "execution_count": null,
   "metadata": {
    "collapsed": true,
    "pycharm": {
     "name": "#%%\n"
    }
   },
   "outputs": [],
   "source": [
    "def min_parents_to_add(n, k):\n",
    "    low = 0\n",
    "    high = n\n",
    "\n",
    "    while low <= high:\n",
    "        mid = (low + high) // 2\n",
    "        total_members = n + mid\n",
    "        required_parents = (total_members + 2) // 3\n",
    "\n",
    "        if k + mid >= required_parents:\n",
    "            high = mid - 1\n",
    "        else:\n",
    "            low = mid + 1\n",
    "\n",
    "    return low"
   ]
  },
  {
   "cell_type": "markdown",
   "source": [
    "В функции main() реализуем ввод данных, работу функции min_parents_to_add с этими данными и вывод результата на экран."
   ],
   "metadata": {
    "collapsed": false,
    "pycharm": {
     "name": "#%% md\n"
    }
   }
  },
  {
   "cell_type": "code",
   "execution_count": null,
   "outputs": [],
   "source": [
    "def main():\n",
    "    n = int(input().strip())\n",
    "    k = int(input().strip())\n",
    "    result = min_parents_to_add(n, k)\n",
    "    print(result)\n",
    "\n",
    "if __name__ == \"__main__\":\n",
    "    main()"
   ],
   "metadata": {
    "collapsed": false,
    "pycharm": {
     "name": "#%%\n"
    }
   }
  },
  {
   "cell_type": "markdown",
   "source": [
    "Выполненная задача:\n",
    "\n",
    "В управляющий совет школы входят родители, учителя и учащиеся школы, причём родителей должно быть не менее одной трети\n",
    "от общего числа членов совета. В настоящий момент в совет входит N человек, из них K родителей.\n",
    "Определите, сколько родителей нужно дополнительно ввести в совет, чтобы их число стало составлять\n",
    "не менее трети от числа членов совета.\n",
    "\n",
    "Формат входного файла\n",
    "Программа получает на вход два целых числа N и K (N > 0, 0 ≤ K ≤ N ≤ 2∗10^9),\n",
    "записанные в отдельных строках, — текущее число членов совета и число родителей в совете.\n",
    "\n",
    "Формат выходного файла\n",
    "Программа должна вывести единственное число — минимальное число родителей, которое необходимо ввести в совет.\n",
    "\n",
    "Примечание\n",
    "В примере совет состоит из 27 человек, из которых родители составляют 7 человек. Если в совет ввести ещё 3 родителей,\n",
    "то в совете станет 30 человек, из которых родителей будет 10."
   ],
   "metadata": {
    "collapsed": false,
    "pycharm": {
     "name": "#%% md\n"
    }
   }
  }
 ],
 "metadata": {
  "kernelspec": {
   "display_name": "Python 3",
   "language": "python",
   "name": "python3"
  },
  "language_info": {
   "codemirror_mode": {
    "name": "ipython",
    "version": 2
   },
   "file_extension": ".py",
   "mimetype": "text/x-python",
   "name": "python",
   "nbconvert_exporter": "python",
   "pygments_lexer": "ipython2",
   "version": "2.7.6"
  }
 },
 "nbformat": 4,
 "nbformat_minor": 0
}