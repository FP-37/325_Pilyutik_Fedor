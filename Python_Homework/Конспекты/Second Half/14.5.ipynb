{
 "cells": [
  {
   "cell_type": "markdown",
   "source": [
    "Реализуем функцию can_make_copies_in_time(n, x, y, time_limit), которая будет проверять, можно ли сделать n копий за заданное время time_limit, используя два ксерокса со скоростями x и y секунд на копию. На каждой итерации она вычисляет максимальное количество копий, которые можно сделать на каждом ксероксе за оставшееся время, и добавляет их к общему количеству сделанных копий. Затем она вычитает затраченное время из time_limit. Цикл продолжается до тех пор, пока время не закончится. В конце функция возвращает True, если общее количество сделанных копий больше или равно n, и False в противном случае."
   ],
   "metadata": {
    "collapsed": false,
    "pycharm": {
     "name": "#%% md\n"
    }
   }
  },
  {
   "cell_type": "code",
   "execution_count": null,
   "metadata": {
    "collapsed": true,
    "pycharm": {
     "name": "#%%\n"
    }
   },
   "outputs": [],
   "source": [
    "def can_make_copies_in_time(n, x, y, time_limit):\n",
    "    copies = 0\n",
    "    while time_limit > 0:\n",
    "        copies_x = time_limit // x\n",
    "        copies_y = time_limit // y\n",
    "        copies += copies_x + copies_y\n",
    "        time_limit -= copies_x * x + copies_y * y\n",
    "        if copies >= n:\n",
    "            return True\n",
    "    return copies >= n"
   ]
  },
  {
   "cell_type": "markdown",
   "source": [
    "Создадим функцию min_time(n, x, y) для определения минимального времени, необходимого для создания n копий задачи, используя два ксерокса со скоростями x и y копий в секунду. Мы применяем бинарный поиск в диапазоне от 1 до n * min(x, y) (максимальное время, необходимое, если используется только самый медленный ксерокс). В каждой итерации мы вызываем вспомогательную функцию can_make_copies_in_time(n, x, y, mid), которая проверяет, достаточно ли времени mid для создания n копий. Если достаточно, мы уменьшаем правую границу поиска, предполагая, что может существовать меньшее время, достаточное для выполнения задачи. В противном случае - увеличиваем левую границу. В конце мы возвращаем left, представляющее минимальное время, необходимое для создания n копий. Таким образом мы реализуем нахождение минимального времени с помощью бинарного поиска."
   ],
   "metadata": {
    "collapsed": false,
    "pycharm": {
     "name": "#%% md\n"
    }
   }
  },
  {
   "cell_type": "code",
   "execution_count": null,
   "outputs": [],
   "source": [
    "def min_time(n, x, y):\n",
    "    left, right = 1, n * min(x, y)\n",
    "    while left < right:\n",
    "        mid = (left + right) // 2\n",
    "        if can_make_copies_in_time(n, x, y, mid):\n",
    "            right = mid\n",
    "        else:\n",
    "            left = mid + 1\n",
    "    return left"
   ],
   "metadata": {
    "collapsed": false,
    "pycharm": {
     "name": "#%%\n"
    }
   }
  },
  {
   "cell_type": "markdown",
   "source": [
    "В функцию main поместим ввод наших значений и далее разместим их в функции min_time, вернув результат её работы на экран."
   ],
   "metadata": {
    "collapsed": false,
    "pycharm": {
     "name": "#%% md\n"
    }
   }
  },
  {
   "cell_type": "code",
   "execution_count": null,
   "outputs": [],
   "source": [
    "def main():\n",
    "    n, x, y = map(int, input().strip().split())\n",
    "    print(min_time(n, x, y))\n",
    "\n",
    "if __name__ == \"__main__\":\n",
    "    main()"
   ],
   "metadata": {
    "collapsed": false,
    "pycharm": {
     "name": "#%%\n"
    }
   }
  },
  {
   "cell_type": "markdown",
   "source": [
    "Выполненная задача:\n",
    "\n",
    "Сегодня утром жюри решило добавить в вариант олимпиады еще одну, Очень Легкую Задачу.\n",
    "Ответственный секретарь Оргкомитета напечатал ее условие в одном экземпляре,\n",
    "и теперь ему нужно до начала олимпиады успеть сделать еще N копий. В его распоряжении имеются два ксерокса,\n",
    "один из которых копирует лист за х секунд, а другой – за y.\n",
    "(Разрешается использовать как один ксерокс, так и оба одновременно.\n",
    "Можно копировать не только с оригинала, но и с копии.)\n",
    "Помогите ему выяснить, какое минимальное время для этого потребуется.\n",
    "\n",
    "Входные данные\n",
    "На вход программы поступают три натуральных числа N, x и y, разделенные пробелом (1 ≤ N ≤ 2∙10^8, 1 ≤ x, y ≤ 10).\n",
    "\n",
    "Выходные данные\n",
    "Выведите одно число – минимальное время в секундах, необходимое для получения N копий."
   ],
   "metadata": {
    "collapsed": false,
    "pycharm": {
     "name": "#%% md\n"
    }
   }
  }
 ],
 "metadata": {
  "kernelspec": {
   "display_name": "Python 3",
   "language": "python",
   "name": "python3"
  },
  "language_info": {
   "codemirror_mode": {
    "name": "ipython",
    "version": 2
   },
   "file_extension": ".py",
   "mimetype": "text/x-python",
   "name": "python",
   "nbconvert_exporter": "python",
   "pygments_lexer": "ipython2",
   "version": "2.7.6"
  }
 },
 "nbformat": 4,
 "nbformat_minor": 0
}