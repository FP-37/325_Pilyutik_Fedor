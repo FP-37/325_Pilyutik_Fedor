{
 "cells": [
  {
   "cell_type": "markdown",
   "source": [
    "Создадим функцию find_substring - она будет реализовывать поиск методом двух указателей для нахождения подстроки с максимальным количеством вхождений символа, не превышающим заданное значение k.\n",
    "В начале работы функция определяет длину строки n и значение k, затем инициализирует два указателя left и right, которые будут перемещаться по строке, создает словарь count для подсчета количества вхождений каждого символа и переменные max_length для хранения длины максимальной подстроки и start для начального индекса найденной подстроки.\n",
    "В основном цикле правый указатель right перемещается по строке, обновляя счетчик символов в словаре count. Если количество вхождений текущего символа превышает k, начинается корректировка левого указателя путем уменьшения значения count для символов слева, пока количество вхождений не станет меньше или равно k.\n",
    "На каждом шаге цикла проверяется, превышает ли текущая длина подстроки max_length, и если да, обновляются значения max_length и start. В конце работы функция возвращает длину максимальной подстроки и ее начальный индекс."
   ],
   "metadata": {
    "collapsed": false,
    "pycharm": {
     "name": "#%% md\n"
    }
   }
  },
  {
   "cell_type": "code",
   "execution_count": null,
   "metadata": {
    "collapsed": true,
    "pycharm": {
     "name": "#%%\n"
    }
   },
   "outputs": [],
   "source": [
    "def find_substring(s, k):\n",
    "    n, k = len(s), int(k)\n",
    "\n",
    "    left, right = 0, 0\n",
    "    count = {}\n",
    "    max_length = 0\n",
    "    start = 0\n",
    "\n",
    "    while right < n:\n",
    "\n",
    "        right += 1\n",
    "\n",
    "        if s[right - 1] in count:\n",
    "            count[s[right - 1]] += 1\n",
    "        else:\n",
    "            count[s[right - 1]] = 1\n",
    "\n",
    "        while count[s[right - 1]] > k:\n",
    "            if s[left] in count:\n",
    "                count[s[left]] -= 1\n",
    "            left += 1\n",
    "\n",
    "        if right - left > max_length:\n",
    "            max_length = right - left\n",
    "            start = left\n",
    "\n",
    "    return max_length, start+1"
   ]
  },
  {
   "cell_type": "markdown",
   "source": [
    "В функции main реализуем ввод наших переменных и строки, а далее разместим данные в функции find_substring и выведем результат на экран."
   ],
   "metadata": {
    "collapsed": false,
    "pycharm": {
     "name": "#%% md\n"
    }
   }
  },
  {
   "cell_type": "code",
   "execution_count": null,
   "outputs": [],
   "source": [
    "def main():\n",
    "    n, k = map(int, input().strip().split())\n",
    "    s = input().strip()\n",
    "    result = find_substring(s, k)\n",
    "    print(*result)\n",
    "\n",
    "if __name__ == \"__main__\":\n",
    "    main()"
   ],
   "metadata": {
    "collapsed": false,
    "pycharm": {
     "name": "#%%\n"
    }
   }
  },
  {
   "cell_type": "markdown",
   "source": [
    "Выполненная задача:\n",
    "\n",
    "В этой задаче Вам требуется найти максимальную по длине подстроку данной строки,\n",
    "такую что каждый символ встречается в ней не более k раз.\n",
    "\n",
    "Входные данные\n",
    "\n",
    "В первой строке даны два целых числа n и k (1≤n≤100000, 1≤k≤n), где n – количество символов в строке.\n",
    "Во второй строке n символов – данная строка, состоящая только из строчных латинских букв.\n",
    "\n",
    "Выходные данные\n",
    "\n",
    "В выходной файл выведите два числа – длину искомой подстроки и номер её первого символа.\n",
    "Если решений несколько, выведите любое."
   ],
   "metadata": {
    "collapsed": false,
    "pycharm": {
     "name": "#%% md\n"
    }
   }
  }
 ],
 "metadata": {
  "kernelspec": {
   "display_name": "Python 3",
   "language": "python",
   "name": "python3"
  },
  "language_info": {
   "codemirror_mode": {
    "name": "ipython",
    "version": 2
   },
   "file_extension": ".py",
   "mimetype": "text/x-python",
   "name": "python",
   "nbconvert_exporter": "python",
   "pygments_lexer": "ipython2",
   "version": "2.7.6"
  }
 },
 "nbformat": 4,
 "nbformat_minor": 0
}