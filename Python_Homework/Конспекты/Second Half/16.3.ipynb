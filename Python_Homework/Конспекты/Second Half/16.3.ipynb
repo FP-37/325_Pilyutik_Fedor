{
 "cells": [
  {
   "cell_type": "markdown",
   "source": [
    "В функции count_sort_limited_range(arr) мы реализуем сортировку подсчётом, создавая массив count размером range_size, который равен 10^7 + 1, чтобы учесть все возможные значения элементов массива arr, начиная с минимального значения min_val. Сначала мы проходим по массиву arr, увеличивая соответствующий индекс в массиве count для каждого элемента, смещая его на min_val. Затем мы формируем отсортированный массив result, добавляя каждый элемент, умноженный на количество его вхождений из массива count. Сложность этой функции составляет O(n), так как основной объём работы выполняется в одном проходе по массиву arr для подсчёта вхождений и в одном проходе по массиву count для формирования результата, что делает её эффективной для сортировки в пределах ограниченного диапазона значений."
   ],
   "metadata": {
    "collapsed": false,
    "pycharm": {
     "name": "#%% md\n"
    }
   }
  },
  {
   "cell_type": "code",
   "execution_count": null,
   "metadata": {
    "collapsed": true,
    "pycharm": {
     "name": "#%%\n"
    }
   },
   "outputs": [],
   "source": [
    "def count_sort_limited_range(arr):\n",
    "    min_val = min(arr)\n",
    "    range_size = 10**7 + 1\n",
    "    count = [0] * range_size\n",
    "\n",
    "    for num in arr:\n",
    "        count[num - min_val] += 1\n",
    "\n",
    "    result = []\n",
    "    for i in range(range_size):\n",
    "        result.extend([min_val + i] * count[i])\n",
    "    return result"
   ]
  },
  {
   "cell_type": "markdown",
   "source": [
    "Реализуем функцию main аналогично предыдущим задачам."
   ],
   "metadata": {
    "collapsed": false,
    "pycharm": {
     "name": "#%% md\n"
    }
   }
  },
  {
   "cell_type": "code",
   "execution_count": null,
   "outputs": [],
   "source": [
    "def main():\n",
    "    n = int(input().strip())\n",
    "    arr = list(map(int, input().strip().split()))\n",
    "    arr = count_sort_limited_range(arr)\n",
    "    print(*arr)\n",
    "\n",
    "if __name__ == \"__main__\":\n",
    "    main()"
   ],
   "metadata": {
    "collapsed": false,
    "pycharm": {
     "name": "#%%\n"
    }
   }
  },
  {
   "cell_type": "markdown",
   "source": [
    "Выполненная задача:\n",
    "\n",
    "Дано N целых чисел, которые требуется отсортировать в порядке неубывания.\n",
    "В связи с нормами СЭС среди чисел не будет двух, разница между которыми превышает 10^7.\n",
    "\n",
    "Входные данные\n",
    "Первая строка входного файла содержит целое число N. (1 <= N <= 100000),\n",
    "вторая строка – N целых чисел, не превышающих по модулю 2*10^9. Никакие два не различаются более, чем на 10^7.\n",
    "\n",
    "Выходные данные\n",
    "Выведите данные числа в порядке неубывания.\n",
    "\n",
    "Примечание\n",
    "Сложность работы программы должна быть O(n). Использование встроенной сортировки(sort, sorted),\n",
    "алгоритмов сортировки пузырёк/quick sort/merge sort и других запрещено!"
   ],
   "metadata": {
    "collapsed": false,
    "pycharm": {
     "name": "#%% md\n"
    }
   }
  }
 ],
 "metadata": {
  "kernelspec": {
   "display_name": "Python 3",
   "language": "python",
   "name": "python3"
  },
  "language_info": {
   "codemirror_mode": {
    "name": "ipython",
    "version": 2
   },
   "file_extension": ".py",
   "mimetype": "text/x-python",
   "name": "python",
   "nbconvert_exporter": "python",
   "pygments_lexer": "ipython2",
   "version": "2.7.6"
  }
 },
 "nbformat": 4,
 "nbformat_minor": 0
}