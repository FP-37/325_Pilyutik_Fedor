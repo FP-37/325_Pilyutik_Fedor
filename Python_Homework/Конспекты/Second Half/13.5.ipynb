{
 "cells": [
  {
   "cell_type": "markdown",
   "source": [
    "Функция binary_search реализует бинарный поиск слова word в отсортированном списке dictionary. Инициализируются границы поиска low и high. В цикле while, пока low меньше или равно high, вычисляется средний индекс mid. Если слово в dictionary[mid] совпадает с word, функция возвращает \"YES\". Если dictionary[mid] лексикографически меньше word, нижняя граница low сдвигается вправо. В противном случае (если dictionary[mid] больше word), верхняя граница high сдвигается влево. Если цикл завершается без нахождения слова, функция возвращает \"NO\"."
   ],
   "metadata": {
    "collapsed": false,
    "pycharm": {
     "name": "#%% md\n"
    }
   }
  },
  {
   "cell_type": "code",
   "execution_count": null,
   "metadata": {
    "collapsed": true,
    "pycharm": {
     "name": "#%%\n"
    }
   },
   "outputs": [],
   "source": [
    "def binary_search(word, dictionary):\n",
    "    low = 0\n",
    "    high = len(dictionary) - 1\n",
    "\n",
    "    while low <= high:\n",
    "        mid = (low + high) // 2\n",
    "        if dictionary[mid] == word:\n",
    "            return \"YES\"\n",
    "        elif dictionary[mid] < word:\n",
    "            low = mid + 1\n",
    "        else:\n",
    "            high = mid - 1\n",
    "\n",
    "    return \"NO\""
   ]
  },
  {
   "cell_type": "markdown",
   "source": [
    "Реализуем основную функцию. Из примечательного - реализуем ввод словаря через генератор."
   ],
   "metadata": {
    "collapsed": false,
    "pycharm": {
     "name": "#%% md\n"
    }
   }
  },
  {
   "cell_type": "code",
   "execution_count": null,
   "outputs": [],
   "source": [
    "def main():\n",
    "    word_to_find = input()\n",
    "    n = int(input())\n",
    "    dictionary = [input() for _ in range(n)]\n",
    "\n",
    "    result = binary_search(word_to_find, dictionary)\n",
    "    print(result)\n",
    "\n",
    "if __name__ == \"__main__\":\n",
    "    main()"
   ],
   "metadata": {
    "collapsed": false,
    "pycharm": {
     "name": "#%%\n"
    }
   }
  },
  {
   "cell_type": "markdown",
   "source": [
    "Выполненная задача:\n",
    "\n",
    "Словарь задан массивом отсортированных в лексикографическом порядке строк.\n",
    "Напишите программу эффективного поиска слова в словаре.\n",
    "\n",
    "Входные данные\n",
    "На вход программе сначала подается искомое слово, во второй строке — число n (1 <= n <= 100000) — количество слов\n",
    "в словаре. В следующих n строках расположены слова словаря, по одному слову в строке.\n",
    "Все слова состоят только из строчных латинских букв, слова упорядочены по алфавиту\n",
    "(расположены в лексикографическом порядке).\n",
    "\n",
    "Длина слов не превосходит 20. Пустых слов нет.\n",
    "\n",
    "Выходные данные\n",
    "Выведите YES или NO в зависимости от того, есть искомое слово в словаре или нет."
   ],
   "metadata": {
    "collapsed": false,
    "pycharm": {
     "name": "#%% md\n"
    }
   }
  }
 ],
 "metadata": {
  "kernelspec": {
   "display_name": "Python 3",
   "language": "python",
   "name": "python3"
  },
  "language_info": {
   "codemirror_mode": {
    "name": "ipython",
    "version": 2
   },
   "file_extension": ".py",
   "mimetype": "text/x-python",
   "name": "python",
   "nbconvert_exporter": "python",
   "pygments_lexer": "ipython2",
   "version": "2.7.6"
  }
 },
 "nbformat": 4,
 "nbformat_minor": 0
}