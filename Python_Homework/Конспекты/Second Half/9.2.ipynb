{
 "cells": [
  {
   "cell_type": "markdown",
   "source": [
    "Реализуем сортировку \"выбором максимума\". Сортировка массива методом \"выбора максимума\" заключается в последовательном выборе максимального элемента из неотсортированной части массива и его вставке на правильную позицию.\n",
    "Для каждого элемента на позиции i внутренний цикл проходит по элементам от начала (0) до i-1. Находится индекс max_index, который содержит индекс текущего максимального элемента среди этих элементов. Если находится элемент больше текущего максимального элемента, max_index обновляется до его индекса. После нахождения максимального элемента, текущий элемент на позиции i и найденный максимальный элемент меняются местами.\n",
    "Таким образом, на каждом шаге алгоритма максимальный элемент из текущей неотсортированной части массива перемещается на свою правильную позицию, пока весь массив не будет отсортирован."
   ],
   "metadata": {
    "collapsed": false,
    "pycharm": {
     "name": "#%% md\n"
    }
   }
  },
  {
   "cell_type": "code",
   "execution_count": null,
   "metadata": {
    "collapsed": true,
    "pycharm": {
     "name": "#%%\n"
    }
   },
   "outputs": [],
   "source": [
    "def main():\n",
    "\n",
    "    n = int(input().strip())\n",
    "\n",
    "    array = list(map(int, input().strip().split()))\n",
    "\n",
    "    for i in range(n-1, 0, -1):\n",
    "        max_index = i\n",
    "        for j in range(0, i):\n",
    "            if array[j] > array[max_index]:\n",
    "                max_index = j\n",
    "        array[i], array[max_index] = array[max_index], array[i]\n",
    "\n",
    "    print(*array)\n",
    "\n",
    "if __name__ == \"__main__\":\n",
    "    main()"
   ]
  },
  {
   "cell_type": "markdown",
   "source": [
    "Выполненная задача:\n",
    "\n",
    "Требуется отсортировать массив по неубыванию методом \"выбор максимума\".\n",
    "\n",
    "Входные данные\n",
    "В первой строке вводится одно натуральное число, не превосходящее 1000 – размер массива.\n",
    "Во второй строке задаются N чисел – элементы массива (целые числа, не превосходящие по модулю 1000).\n",
    "\n",
    "Выходные данные\n",
    "Вывести получившийся массив."
   ],
   "metadata": {
    "collapsed": false,
    "pycharm": {
     "name": "#%% md\n"
    }
   }
  }
 ],
 "metadata": {
  "kernelspec": {
   "display_name": "Python 3",
   "language": "python",
   "name": "python3"
  },
  "language_info": {
   "codemirror_mode": {
    "name": "ipython",
    "version": 2
   },
   "file_extension": ".py",
   "mimetype": "text/x-python",
   "name": "python",
   "nbconvert_exporter": "python",
   "pygments_lexer": "ipython2",
   "version": "2.7.6"
  }
 },
 "nbformat": 4,
 "nbformat_minor": 0
}