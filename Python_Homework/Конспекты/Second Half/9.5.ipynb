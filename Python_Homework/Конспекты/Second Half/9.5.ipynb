{
 "cells": [
  {
   "cell_type": "markdown",
   "source": [
    "Сортировка методом пузырька работает за счёт последовательного сравнения и обмена соседних элементов массива до тех пор, пока массив не станет полностью отсортированным. Этот процесс повторяется для каждого прохода внешнего цикла, при этом на каждом следующем проходе количество сравнений уменьшается на 1, так как самые отсортированные элементы не требуют дополнительных сравнений."
   ],
   "metadata": {
    "collapsed": false,
    "pycharm": {
     "name": "#%% md\n"
    }
   }
  },
  {
   "cell_type": "code",
   "execution_count": null,
   "metadata": {
    "collapsed": true,
    "pycharm": {
     "name": "#%%\n"
    }
   },
   "outputs": [],
   "source": [
    "def main():\n",
    "\n",
    "    n = int(input().strip())\n",
    "    array = list(map(int, input().strip().split()))\n",
    "\n",
    "    for i in range(n):\n",
    "        for j in range(0, n-i-1):\n",
    "            if array[j] > array[j+1]:\n",
    "                array[j], array[j+1] = array[j+1], array[j]\n",
    "\n",
    "    print(*array)\n",
    "\n",
    "if __name__ == \"__main__\":\n",
    "    main()"
   ]
  },
  {
   "cell_type": "markdown",
   "source": [
    "Выполненная задача:\n",
    "\n",
    "Требуется отсортировать массив по неубыванию методом \"пузырька\".\n",
    "\n",
    "Входные данные\n",
    "В первой строке вводится одно натуральное число, не превосходящее 1000 – размер массива.\n",
    "Во второй строке задаются N чисел – элементы массива (целые числа, не превосходящие по модулю 1000).\n",
    "\n",
    "Выходные данные\n",
    "Вывести получившийся массив."
   ],
   "metadata": {
    "collapsed": false,
    "pycharm": {
     "name": "#%% md\n"
    }
   }
  }
 ],
 "metadata": {
  "kernelspec": {
   "display_name": "Python 3",
   "language": "python",
   "name": "python3"
  },
  "language_info": {
   "codemirror_mode": {
    "name": "ipython",
    "version": 2
   },
   "file_extension": ".py",
   "mimetype": "text/x-python",
   "name": "python",
   "nbconvert_exporter": "python",
   "pygments_lexer": "ipython2",
   "version": "2.7.6"
  }
 },
 "nbformat": 4,
 "nbformat_minor": 0
}