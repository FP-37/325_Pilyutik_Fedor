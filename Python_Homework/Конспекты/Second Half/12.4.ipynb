{
 "cells": [
  {
   "cell_type": "markdown",
   "source": [
    "Функция find_most_stylish_outfit будет находить минимальную разницу между цветами маек и штанов.\n",
    "Среди входящих параметров мы указали sh как количество маек, sh_cl как список цветов маек, tr как количество штанов, tr_cl как список цветов штанов. Функция возвращает значение tuple - пару цветов наиболее стильных майки и штанов.\n",
    "Реализацию поиска наиболее подходящих майки и штанов реализовали через нахождение минимальной разницы между номерами цветов с использованием поиска методом двух указателей."
   ],
   "metadata": {
    "collapsed": false,
    "pycharm": {
     "name": "#%% md\n"
    }
   }
  },
  {
   "cell_type": "code",
   "execution_count": null,
   "metadata": {
    "collapsed": true,
    "pycharm": {
     "name": "#%%\n"
    }
   },
   "outputs": [],
   "source": [
    "def find_most_stylish_outfit(sh, sh_cl, tr, tr_cl):\n",
    "\n",
    "    i, j = 0, 0\n",
    "    min_diff = float('inf')\n",
    "    best_sh, best_tr = 0, 0\n",
    "\n",
    "    while i < sh and j < tr:\n",
    "        diff = abs(sh_cl[i] - tr_cl[j])\n",
    "\n",
    "        if diff < min_diff:\n",
    "            min_diff = diff\n",
    "            best_sh = sh_cl[i]\n",
    "            best_tr = tr_cl[j]\n",
    "\n",
    "        if sh_cl[i] > tr_cl[j]:\n",
    "            j += 1\n",
    "        elif sh_cl[i] < tr_cl[j]:\n",
    "            i += 1\n",
    "        else:\n",
    "            return sh_cl[i], tr_cl[j]\n",
    "\n",
    "    return best_sh, best_tr"
   ]
  },
  {
   "cell_type": "markdown",
   "source": [
    "Введём все необходимые значения, разместим в функции и выведем результат на экран."
   ],
   "metadata": {
    "collapsed": false,
    "pycharm": {
     "name": "#%% md\n"
    }
   }
  },
  {
   "cell_type": "code",
   "execution_count": null,
   "outputs": [],
   "source": [
    "def main():\n",
    "    shirts = int(input().strip())\n",
    "    sh_colors = list(map(int, input().strip().split()))\n",
    "\n",
    "    trousers = int(input().strip())\n",
    "    tr_colors = list(map(int, input().strip().split()))\n",
    "\n",
    "    print(*find_most_stylish_outfit(shirts, sh_colors, trousers, tr_colors))\n",
    "\n",
    "if __name__ == \"__main__\":\n",
    "    main()"
   ],
   "metadata": {
    "collapsed": false,
    "pycharm": {
     "name": "#%%\n"
    }
   }
  },
  {
   "cell_type": "markdown",
   "source": [
    "Выполненная задача:\n",
    "\n",
    "Глеб обожает шоппинг. Как-то раз он загорелся идеей подобрать себе майку и штаны так,\n",
    "чтобы выглядеть в них максимально стильно. В понимании Глеба стильность одежды тем больше,\n",
    "чем меньше разница в цвете элементов его одежды.\n",
    "\n",
    "В наличии имеется N (1≤N≤100000) маек и M (1≤M≤100000) штанов,\n",
    "про каждый элемент известен его цвет (целое число от 1 до 10000000).\n",
    "Помогите Глебу выбрать одну майку и одни штаны так, чтобы разница в их цвете была как можно меньше.\n",
    "\n",
    "Входные данные\n",
    "Сначала вводится информация о майках: в первой строке целое число N (1≤N≤100000)\n",
    "и во второй N целых чисел от 1 до 10000000 — цвета имеющихся в наличии маек.\n",
    "Гарантируется, что номера цветов идут в возрастающем порядке (в частности, цвета никаких двух маек не совпадают).\n",
    "\n",
    "Далее в том же формате идёт описание штанов: их количество M (1≤M≤100000)\n",
    "и в следующей строке M целых чисел от 1 до 10000000 в возрастающем порядке — цвета штанов.\n",
    "\n",
    "Выходные данные\n",
    "Выведите пару неотрицательных чисел — цвет майки и цвет штанов, которые следует выбрать Глебу.\n",
    "Если вариантов выбора несколько, выведите любой из них."
   ],
   "metadata": {
    "collapsed": false,
    "pycharm": {
     "name": "#%% md\n"
    }
   }
  }
 ],
 "metadata": {
  "kernelspec": {
   "display_name": "Python 3",
   "language": "python",
   "name": "python3"
  },
  "language_info": {
   "codemirror_mode": {
    "name": "ipython",
    "version": 2
   },
   "file_extension": ".py",
   "mimetype": "text/x-python",
   "name": "python",
   "nbconvert_exporter": "python",
   "pygments_lexer": "ipython2",
   "version": "2.7.6"
  }
 },
 "nbformat": 4,
 "nbformat_minor": 0
}