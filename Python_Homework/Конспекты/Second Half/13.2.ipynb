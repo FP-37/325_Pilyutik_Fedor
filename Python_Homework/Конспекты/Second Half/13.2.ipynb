{
 "cells": [
  {
   "cell_type": "markdown",
   "source": [
    "Создадим функцию approximate_binary_search, которая будет реализовывать приближенный бинарный поиск. Сначала она выполняет стандартный бинарный поиск: внутри цикла while сужает диапазон поиска left и right, сравнивая средний элемент array[mid] с целевым значением target. Если target найден, функция возвращает его. Если поиск не удался (цикл завершился, и target не найден), функция проверяет крайние случаи: если left указывает за пределы списка, возвращается последний элемент; если left равен 0, возвращается первый элемент. В остальных случаях функция возвращает ближайший к target элемент, сравнивая разницу между target и элементами array[left-1] и array[left]. Таким образом, функция осуществляется нахождение приблизительного значения в случае отсутствия точного."
   ],
   "metadata": {
    "collapsed": false,
    "pycharm": {
     "name": "#%% md\n"
    }
   }
  },
  {
   "cell_type": "code",
   "execution_count": null,
   "metadata": {
    "collapsed": true,
    "pycharm": {
     "name": "#%%\n"
    }
   },
   "outputs": [],
   "source": [
    "def approximate_binary_search(array, target):\n",
    "    left = 0\n",
    "    right = len(array)-1\n",
    "    while left <= right:\n",
    "        mid = left+(right-left)//2\n",
    "        if array[mid] == target:\n",
    "            return array[mid]\n",
    "        elif array[mid] < target:\n",
    "            left = mid+1\n",
    "        else:\n",
    "            right = mid-1\n",
    "\n",
    "    if left > len(array)-1:\n",
    "        return array[-1]\n",
    "    elif left == 0:\n",
    "        return array[0]\n",
    "    elif target - array[left-1] <= array[left]-target:\n",
    "        return array[left-1]\n",
    "    else:\n",
    "        return array[left]"
   ]
  },
  {
   "cell_type": "markdown",
   "source": [
    "Осуществим ввод данных и разместим их внутри нашей функции, выведя результат через цикл для последнего списка данных."
   ],
   "metadata": {
    "collapsed": false,
    "pycharm": {
     "name": "#%% md\n"
    }
   }
  },
  {
   "cell_type": "code",
   "execution_count": null,
   "outputs": [],
   "source": [
    "def main():\n",
    "    n, k = map(int, input().split())\n",
    "    array = list(map(int, input().split()))\n",
    "    queries = list(map(int, input().split()))\n",
    "\n",
    "    for query in queries:\n",
    "        closest_value = approximate_binary_search(array, query)\n",
    "        print(closest_value)\n",
    "\n",
    "if __name__ == \"__main__\":\n",
    "    main()"
   ],
   "metadata": {
    "collapsed": false,
    "pycharm": {
     "name": "#%%\n"
    }
   }
  },
  {
   "cell_type": "markdown",
   "source": [
    "Выполненная задача:\n",
    "\n",
    "Входные данные\n",
    "В первой строке входных данных содержатся числа N и K (0<N,K<100001).\n",
    "Во второй строке задаются N чисел первого массива, отсортированного по неубыванию,\n",
    "а в третьей строке – K чисел второго массива. Каждое число в обоих массивах по модулю не превосходит 2⋅10^9.\n",
    "\n",
    "Выходные данные\n",
    "Для каждого из K чисел выведите в отдельную строку число из первого массива, наиболее близкое к данному.\n",
    "Если таких несколько, выведите меньшее из них."
   ],
   "metadata": {
    "collapsed": false,
    "pycharm": {
     "name": "#%% md\n"
    }
   }
  }
 ],
 "metadata": {
  "kernelspec": {
   "display_name": "Python 3",
   "language": "python",
   "name": "python3"
  },
  "language_info": {
   "codemirror_mode": {
    "name": "ipython",
    "version": 2
   },
   "file_extension": ".py",
   "mimetype": "text/x-python",
   "name": "python",
   "nbconvert_exporter": "python",
   "pygments_lexer": "ipython2",
   "version": "2.7.6"
  }
 },
 "nbformat": 4,
 "nbformat_minor": 0
}