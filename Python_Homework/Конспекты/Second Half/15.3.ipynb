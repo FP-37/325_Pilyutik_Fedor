{
 "cells": [
  {
   "cell_type": "markdown",
   "source": [
    "Импортируем модуль math, содержащий основные математические реализации."
   ],
   "metadata": {
    "collapsed": false,
    "pycharm": {
     "name": "#%% md\n"
    }
   }
  },
  {
   "cell_type": "code",
   "execution_count": null,
   "outputs": [],
   "source": [
    "import math"
   ],
   "metadata": {
    "collapsed": false,
    "pycharm": {
     "name": "#%%\n"
    }
   }
  },
  {
   "cell_type": "markdown",
   "source": [
    "Функция binary_search(a) использует бинарный поиск для нахождения приближенного значения корня, такого что его синус = a, при условии, что |a| ≤ 1. Мы ограничиваем пространство поиска интервалом [-π/2, π/2], так как в этом интервале функция sin() монотонно возрастает и принимает все значения от -1 до 1. Итеративный цикл продолжается до тех пор, пока разница между правой и левой границами (right и left) не станет меньше 1e-6, определяя точность приближения. На каждой итерации мы вычисляем середину интервала mid и сравниваем значение sin(mid) с a. Если sin(mid) < a, значит, искомое значение находится в правой половине интервала, и мы обновляем left как mid; иначе, искомое значение находится в левой половине, и мы обновляем right как mid. После завершения цикла мы возвращаем среднее значение между left и right как приближенное решение, используя бинарный поиск для нахождения значения корня, удовлетворяющего условию синус x ≈ a с заданной точностью."
   ],
   "metadata": {
    "collapsed": false,
    "pycharm": {
     "name": "#%% md\n"
    }
   }
  },
  {
   "cell_type": "code",
   "execution_count": null,
   "metadata": {
    "collapsed": true,
    "pycharm": {
     "name": "#%%\n"
    }
   },
   "outputs": [],
   "source": [
    "def binary_search(a):\n",
    "    if abs(a) > 1:\n",
    "        return None\n",
    "\n",
    "    left = -math.pi / 2\n",
    "    right = math.pi / 2\n",
    "\n",
    "    while right - left > 1e-6:\n",
    "        mid = (left + right) / 2\n",
    "        if math.sin(mid) < a:\n",
    "            left = mid\n",
    "        else:\n",
    "            right = mid\n",
    "\n",
    "    return (left + right) / 2"
   ]
  },
  {
   "cell_type": "markdown",
   "source": [
    "Реализуем ввод вещественного числа с дальнейшим его размещением внутри функции binary_search и выведем результат выполнения функции на экран."
   ],
   "metadata": {
    "collapsed": false,
    "pycharm": {
     "name": "#%% md\n"
    }
   }
  },
  {
   "cell_type": "code",
   "execution_count": null,
   "outputs": [],
   "source": [
    "def main():\n",
    "    a = float(input().strip())\n",
    "    root = binary_search(a)\n",
    "    print(root)\n",
    "\n",
    "if __name__ == \"__main__\":\n",
    "    main()"
   ],
   "metadata": {
    "collapsed": false,
    "pycharm": {
     "name": "#%%\n"
    }
   }
  },
  {
   "cell_type": "markdown",
   "source": [
    "Выполненная задача:\n",
    "\n",
    "Найдите корень уравнения sin(x)=a на отрезке [-π/2,π/2].\n",
    "\n",
    "Входные данные\n",
    "Вводится одно вещественное число а, по модулю не превосходящее 1.\n",
    "\n",
    "Выходные данные\n",
    "Выведите корень уравнения с точностью не менее 5 знаков после запятой."
   ],
   "metadata": {
    "collapsed": false,
    "pycharm": {
     "name": "#%% md\n"
    }
   }
  }
 ],
 "metadata": {
  "kernelspec": {
   "display_name": "Python 3",
   "language": "python",
   "name": "python3"
  },
  "language_info": {
   "codemirror_mode": {
    "name": "ipython",
    "version": 2
   },
   "file_extension": ".py",
   "mimetype": "text/x-python",
   "name": "python",
   "nbconvert_exporter": "python",
   "pygments_lexer": "ipython2",
   "version": "2.7.6"
  }
 },
 "nbformat": 4,
 "nbformat_minor": 0
}