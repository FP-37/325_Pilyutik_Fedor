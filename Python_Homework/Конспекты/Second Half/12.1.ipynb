{
 "cells": [
  {
   "cell_type": "markdown",
   "source": [
    "Метод двух указателей представляет собой способ решения задач путем использования двух указателей, которые перемещаются по элементам набора данных и обрабатывая их. Такой способ позволяет наиболее эффективно обойти структуру с целью найти максимумы и минимумы структуры, удовлетворяющие условиям.\n",
    "В указанной задаче реализуем этот метод в функции merge - зададим указатели i и j, далее отсортируем элементы списков и добавим в новый список C, содержащий все значения A и B, отсортированные по неубыванию."
   ],
   "metadata": {
    "collapsed": false,
    "pycharm": {
     "name": "#%% md\n"
    }
   }
  },
  {
   "cell_type": "code",
   "execution_count": null,
   "metadata": {
    "collapsed": true,
    "pycharm": {
     "name": "#%%\n"
    }
   },
   "outputs": [],
   "source": [
    "def merge(A, B):\n",
    "\n",
    "    C = []\n",
    "    i = 0\n",
    "    j = 0\n",
    "\n",
    "    while i < len(A) and j < len(B):\n",
    "        if A[i] < B[j]:\n",
    "            C.append(A[i])\n",
    "            i += 1\n",
    "        else:\n",
    "            C.append(B[j])\n",
    "            j += 1\n",
    "\n",
    "    C.extend(A[i:])\n",
    "    C.extend(B[j:])\n",
    "\n",
    "    return C"
   ]
  },
  {
   "cell_type": "markdown",
   "source": [
    "В функции main разместим инициализацию и ввод списков A и B, а далее разместим их в функции merge и выведем на экран распакованный результат выполнения функции (отсортированный объединённый список C)."
   ],
   "metadata": {
    "collapsed": false,
    "pycharm": {
     "name": "#%% md\n"
    }
   }
  },
  {
   "cell_type": "code",
   "execution_count": null,
   "outputs": [],
   "source": [
    "def main():\n",
    "    A = list(map(int, input().strip().split()))\n",
    "    B = list(map(int, input().strip().split()))\n",
    "    result = merge(A, B)\n",
    "    print(*result)\n",
    "\n",
    "if __name__ == \"__main__\":\n",
    "    main()"
   ],
   "metadata": {
    "collapsed": false,
    "pycharm": {
     "name": "#%%\n"
    }
   }
  },
  {
   "cell_type": "markdown",
   "source": [
    "Выполненная задача:\n",
    "\n",
    "Даны два списка A и B упорядоченных по неубыванию.\n",
    "Объедините их в один упорядоченный список С (то есть он должен содержать len(A)+len(B) элементов).\n",
    "Решение оформите в виде функции merge(A,B), возвращающей новый список.\n",
    "Алгоритм должен иметь сложность O(len(A)+len(B)).\n",
    "Модифицировать исходные списки запрещается.\n",
    "Использовать функцию sorted и метод sort запрещается.\n",
    "\n",
    "Входные данные\n",
    "Программа получает на вход два неубывающих списка, каждый в отдельной строке.\n",
    "\n",
    "Выходные данные\n",
    "Программа должна вывести последовательность неубывающих чисел, полученных объединением двух данных списков."
   ],
   "metadata": {
    "collapsed": false,
    "pycharm": {
     "name": "#%% md\n"
    }
   }
  }
 ],
 "metadata": {
  "kernelspec": {
   "display_name": "Python 3",
   "language": "python",
   "name": "python3"
  },
  "language_info": {
   "codemirror_mode": {
    "name": "ipython",
    "version": 2
   },
   "file_extension": ".py",
   "mimetype": "text/x-python",
   "name": "python",
   "nbconvert_exporter": "python",
   "pygments_lexer": "ipython2",
   "version": "2.7.6"
  }
 },
 "nbformat": 4,
 "nbformat_minor": 0
}