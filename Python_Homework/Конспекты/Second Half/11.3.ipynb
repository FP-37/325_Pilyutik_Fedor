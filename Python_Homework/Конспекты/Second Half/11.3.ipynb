{
 "cells": [
  {
   "cell_type": "markdown",
   "source": [
    "Можно было бы применить какой-нибудь невстроенный тип сортировки, но сортировка пузырьком, например, не прошла у меня несколько тестов, и я решил применить в задаче функцию sorted(). Далее сравним отсортированные массивы на аналогичность элементов, преобразовав списки в множества - как реализовать аналогичное сравнение без встроенной функции set() можно понять из нашей 11.1. Есть ли у нас ограничения или мы пользуемся всеми преимуществами Python я не понял до конца, т.к. в первых блоках задач все ограничения прописывались. Так что их отсутствие скорее всего предполагает второй вариант."
   ],
   "metadata": {
    "collapsed": false,
    "pycharm": {
     "name": "#%% md\n"
    }
   }
  },
  {
   "cell_type": "code",
   "execution_count": null,
   "metadata": {
    "collapsed": true,
    "pycharm": {
     "name": "#%%\n"
    }
   },
   "outputs": [],
   "source": [
    "def main():\n",
    "\n",
    "    N = int(input().strip())\n",
    "    arr1 = list(map(int, input().strip().split()))\n",
    "    arr1 = sorted(arr1)\n",
    "\n",
    "    M = int(input().strip())\n",
    "    arr2 = list(map(int, input().strip().split()))\n",
    "    arr2 = sorted(arr2)\n",
    "\n",
    "    if set(arr1) == set(arr2):\n",
    "        print(\"YES\")\n",
    "    else:\n",
    "        print(\"NO\")\n",
    "\n",
    "if __name__ == \"__main__\":\n",
    "    main()"
   ]
  },
  {
   "cell_type": "markdown",
   "source": [
    "Выполненная задача:\n",
    "\n",
    "Назовем два массива похожими, если они состоят из одних и тех же элементов (без учета кратности).\n",
    "По двум данным массивам выясните, похожие они или нет.\n",
    "\n",
    "Входные данные\n",
    "В первой строке содержится число N (1 ≤ N ≤ 100000) – размер первого массива.\n",
    "Во второй строке идет N целых чисел, не превосходящих по модулю 10^9 – элементы массива.\n",
    "Далее аналогично задается второй массив.\n",
    "\n",
    "Выходные данные\n",
    "Программа должна вывести слово YES, если массивы похожи, и слово NO в противном случае."
   ],
   "metadata": {
    "collapsed": false,
    "pycharm": {
     "name": "#%% md\n"
    }
   }
  }
 ],
 "metadata": {
  "kernelspec": {
   "display_name": "Python 3",
   "language": "python",
   "name": "python3"
  },
  "language_info": {
   "codemirror_mode": {
    "name": "ipython",
    "version": 2
   },
   "file_extension": ".py",
   "mimetype": "text/x-python",
   "name": "python",
   "nbconvert_exporter": "python",
   "pygments_lexer": "ipython2",
   "version": "2.7.6"
  }
 },
 "nbformat": 4,
 "nbformat_minor": 0
}