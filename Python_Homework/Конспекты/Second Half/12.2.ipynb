{
 "cells": [
  {
   "cell_type": "markdown",
   "source": [
    "Создадим функцию Intersection для реализации поиска совпадений элементов двух списков путём введения двух указателей. Передвигаемся по их элементам и при находжении совпадений добавляем совпадающий элемент в список intersection."
   ],
   "metadata": {
    "collapsed": false,
    "pycharm": {
     "name": "#%% md\n"
    }
   }
  },
  {
   "cell_type": "code",
   "execution_count": null,
   "metadata": {
    "collapsed": true,
    "pycharm": {
     "name": "#%%\n"
    }
   },
   "outputs": [],
   "source": [
    "def Intersection(A, B):\n",
    "\n",
    "    intersection = []\n",
    "    i = 0\n",
    "    j = 0\n",
    "\n",
    "    while i < len(A) and j < len(B):\n",
    "        if A[i] == B[j]:\n",
    "            intersection.append(A[i])\n",
    "            i += 1\n",
    "            j += 1\n",
    "        elif A[i] < B[j]:\n",
    "            i += 1\n",
    "        else:\n",
    "            j += 1\n",
    "\n",
    "    return intersection"
   ]
  },
  {
   "cell_type": "markdown",
   "source": [
    "В функции main реализуем ввод двух массивов, разместим их внутри функции Intersection и возвращаемое из функции значение выведем на экран в распакованном виде."
   ],
   "metadata": {
    "collapsed": false,
    "pycharm": {
     "name": "#%% md\n"
    }
   }
  },
  {
   "cell_type": "code",
   "execution_count": null,
   "outputs": [],
   "source": [
    "def main():\n",
    "    A = list(map(int, input().strip().split()))\n",
    "    B = list(map(int, input().strip().split()))\n",
    "    result = Intersection(A, B)\n",
    "    print(*result)\n",
    "\n",
    "if __name__ == \"__main__\":\n",
    "    main()"
   ],
   "metadata": {
    "collapsed": false,
    "pycharm": {
     "name": "#%%\n"
    }
   }
  },
  {
   "cell_type": "markdown",
   "source": [
    "Решённая задача:\n",
    "\n",
    "Даны два списка, упорядоченных по возрастанию (каждый список состоит из различных элементов).\n",
    "Найдите пересечение множеств элементов этих списков, то есть те числа, которые являются элементами обоих списков.\n",
    "Алгоритм должен иметь сложность O(len(A)+len(B)).\n",
    "\n",
    "Решение оформите в виде функции Intersection(A, B).\n",
    "Функция должна возвращать список пересечения данных списков в порядке возрастания элементов.\n",
    "Модифицировать исходные списки запрещается.\n",
    "\n",
    "Входные данные\n",
    "Программа получает на вход два возрастающих списка, каждый в отдельной строке.\n",
    "\n",
    "Выходные данные\n",
    "Программа должна вывести последовательность возрастающих чисел, являющихся элементами обоих списков."
   ],
   "metadata": {
    "collapsed": false,
    "pycharm": {
     "name": "#%% md\n"
    }
   }
  }
 ],
 "metadata": {
  "kernelspec": {
   "display_name": "Python 3",
   "language": "python",
   "name": "python3"
  },
  "language_info": {
   "codemirror_mode": {
    "name": "ipython",
    "version": 2
   },
   "file_extension": ".py",
   "mimetype": "text/x-python",
   "name": "python",
   "nbconvert_exporter": "python",
   "pygments_lexer": "ipython2",
   "version": "2.7.6"
  }
 },
 "nbformat": 4,
 "nbformat_minor": 0
}