{
 "cells": [
  {
   "cell_type": "markdown",
   "source": [
    "Для начала реализуем функцию merge_sort, которая будет выполнять обязательное условие сортировки слиянием - разделение списка на половины до момента, пока не получатся списки с единственными элементами. Если этого пока что не произошло, то отдаём наш список функции merge."
   ],
   "metadata": {
    "collapsed": false,
    "pycharm": {
     "name": "#%% md\n"
    }
   }
  },
  {
   "cell_type": "code",
   "execution_count": null,
   "metadata": {
    "collapsed": true,
    "pycharm": {
     "name": "#%%\n"
    }
   },
   "outputs": [],
   "source": [
    "def merge_sort(arr):\n",
    "    if len(arr) < 2:\n",
    "        return arr\n",
    "\n",
    "    mid = len(arr) // 2\n",
    "    left = merge_sort(arr[:mid])\n",
    "    right = merge_sort(arr[mid:])\n",
    "\n",
    "    return merge(left, right)"
   ]
  },
  {
   "cell_type": "markdown",
   "source": [
    "Рассмотрим функцию merge. В ней мы пройдём по каждому элементу списков left и right до момента их исчерпания (два счётчика обеспечивают предусмотрение варианта неравенства списка по длине - в случае если один получается нечётным из-за нечётности списка, который мы разделяли в merge_sort). Будем сравнивать элементы этих двух списков и добавлять в список left наименьшие элементы при сравнении, а в right наибольшие, а потом слияем их."
   ],
   "metadata": {
    "collapsed": false,
    "pycharm": {
     "name": "#%% md\n"
    }
   }
  },
  {
   "cell_type": "code",
   "execution_count": null,
   "outputs": [],
   "source": [
    "def merge(left, right):\n",
    "    result = []\n",
    "    i, j = 0, 0\n",
    "\n",
    "    while i < len(left) and j < len(right):\n",
    "        if left[i] < right[j]:\n",
    "            result.append(left[i])\n",
    "            i += 1\n",
    "        else:\n",
    "            result.append(right[j])\n",
    "            j += 1\n",
    "\n",
    "    result += left[i:]\n",
    "    result += right[j:]\n",
    "\n",
    "    return result"
   ],
   "metadata": {
    "collapsed": false,
    "pycharm": {
     "name": "#%%\n"
    }
   }
  },
  {
   "cell_type": "markdown",
   "source": [
    "В функции main реализуем инициализацию и ввод списка и применим функцию merge_sort для сортировки, а потом выведем распакованный полученный список в консоль."
   ],
   "metadata": {
    "collapsed": false,
    "pycharm": {
     "name": "#%% md\n"
    }
   }
  },
  {
   "cell_type": "code",
   "execution_count": null,
   "outputs": [],
   "source": [
    "def main():\n",
    "    N = int(input().strip())\n",
    "    arr = list(map(int, input().strip().split()))\n",
    "    sorted_arr = merge_sort(arr)\n",
    "    print(*sorted_arr)\n",
    "\n",
    "if __name__ == \"__main__\":\n",
    "    main()"
   ],
   "metadata": {
    "collapsed": false,
    "pycharm": {
     "name": "#%%\n"
    }
   }
  },
  {
   "cell_type": "markdown",
   "source": [
    "Выполненная задача:\n",
    "\n",
    "Отсортируйте данный массив, используя сортировку слиянием.\n",
    "\n",
    "Входные данные\n",
    "Первая строка входных данных содержит количество элементов в массиве N, N ≤ 10^5. Далее идет N целых чисел,\n",
    "не превосходящих по абсолютной величине 10^9.\n",
    "\n",
    "Выходные данные\n",
    "Выведите эти числа в порядке неубывания."
   ],
   "metadata": {
    "collapsed": false,
    "pycharm": {
     "name": "#%% md\n"
    }
   }
  }
 ],
 "metadata": {
  "kernelspec": {
   "display_name": "Python 3",
   "language": "python",
   "name": "python3"
  },
  "language_info": {
   "codemirror_mode": {
    "name": "ipython",
    "version": 2
   },
   "file_extension": ".py",
   "mimetype": "text/x-python",
   "name": "python",
   "nbconvert_exporter": "python",
   "pygments_lexer": "ipython2",
   "version": "2.7.6"
  }
 },
 "nbformat": 4,
 "nbformat_minor": 0
}