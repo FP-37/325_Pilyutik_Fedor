{
 "cells": [
  {
   "cell_type": "markdown",
   "source": [
    "Компаратор мы уже использовали, правда я не помнил, что он так называется - для сортировочных функций в Python имеется параметр key, который определяет, по какому принципу мы будем сортировать данные. В указанном случае мы сортируем сначала с учётом чётности, а далее вре оставшиеся (нечётные). Реализуем это через лямбда-функцию, о которой тоже уже писали.\n",
    "Отсортированный список распакуем и выведем на экран."
   ],
   "metadata": {
    "collapsed": false,
    "pycharm": {
     "name": "#%% md\n"
    }
   }
  },
  {
   "cell_type": "code",
   "execution_count": null,
   "metadata": {
    "collapsed": true,
    "pycharm": {
     "name": "#%%\n"
    }
   },
   "outputs": [],
   "source": [
    "def main():\n",
    "    n = int(input().strip())\n",
    "    arr = list(map(int, input().strip().split()))\n",
    "    arr.sort(key=lambda x: (x % 2, x))\n",
    "    print(*arr)\n",
    "\n",
    "if __name__ == \"__main__\":\n",
    "    main()"
   ]
  },
  {
   "cell_type": "markdown",
   "source": [
    "Выполненная задача:\n",
    "\n",
    "Дан массив. Отсортировать его так, чтобы сначала шли четные по неубыванию, потом нечетные по неубыванию.\n",
    "Решите задачу, используя стандартную сортировку с компаратором (в Python - с помощью key).\n",
    "\n",
    "Входные данные\n",
    "\n",
    "В первой строке дано одно натуральное число n (1≤n≤100) — количество элементов массива.\n",
    "Во второй строке через пробел перечислены элементы массива — натуральные числа, не превышающие 10^9.\n",
    "\n",
    "Выходные данные\n",
    "\n",
    "В одной строке выведите массив, отсортированный заданным образом. Числа разделяйте пробелами."
   ],
   "metadata": {
    "collapsed": false,
    "pycharm": {
     "name": "#%% md\n"
    }
   }
  }
 ],
 "metadata": {
  "kernelspec": {
   "display_name": "Python 3",
   "language": "python",
   "name": "python3"
  },
  "language_info": {
   "codemirror_mode": {
    "name": "ipython",
    "version": 2
   },
   "file_extension": ".py",
   "mimetype": "text/x-python",
   "name": "python",
   "nbconvert_exporter": "python",
   "pygments_lexer": "ipython2",
   "version": "2.7.6"
  }
 },
 "nbformat": 4,
 "nbformat_minor": 0
}