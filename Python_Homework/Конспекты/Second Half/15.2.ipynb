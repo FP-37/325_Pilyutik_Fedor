{
 "cells": [
  {
   "cell_type": "markdown",
   "source": [
    "Функция cubic_equation_root(a, b, c, d) использует бинарный поиск для нахождения приближенного корня кубического уравнения вида ax³ + bx² + cx + d = 0. Мы начинаем с инициализации нижней границы low как -100 и верхней границы high как 100, предполагая, что корень находится в этом интервале. Цикл while продолжается до тех пор, пока разница между high и low не станет меньше 0.0001, определяя точность приближения. На каждой итерации мы вычисляем середину интервала mid и значение кубического уравнения в этой точке, используя вспомогательную функцию cubic_equation. Если значение равно 0, мы нашли точный корень и возвращаем mid. Если значение больше 0, мы обновляем high как mid, предполагая, что корень находится в левой половине интервала; иначе, обновляем low как mid, предполагая, что корень находится в правой половине. После завершения цикла мы возвращаем среднее значение между low и high как приближенное значение корня, используя бинарный поиск для эффективного сужения интервала поиска до достижения заданной точности. Но получилось реализовать этот метод только для случая, когда функция cubic_equation монотонна на выбранном интервале, и гарантирует нахождение только одного корня."
   ],
   "metadata": {
    "collapsed": false,
    "pycharm": {
     "name": "#%% md\n"
    }
   }
  },
  {
   "cell_type": "code",
   "execution_count": null,
   "metadata": {
    "collapsed": true,
    "pycharm": {
     "name": "#%%\n"
    }
   },
   "outputs": [],
   "source": [
    "def cubic_equation_root(a, b, c, d):\n",
    "\n",
    "    def cubic_equation(x, a, b, c, d):\n",
    "        return a * (x**3) + b * (x**2) + c * x + d\n",
    "\n",
    "    low = -100\n",
    "    high = 100\n",
    "\n",
    "    while high - low > 0.0001:\n",
    "        mid = (low + high) / 2\n",
    "        value = cubic_equation(mid, a, b, c, d)\n",
    "        if value == 0:\n",
    "            return mid\n",
    "        if value > 0:\n",
    "            high = mid\n",
    "        else:\n",
    "            low = mid\n",
    "\n",
    "    return (low + high) / 2"
   ]
  },
  {
   "cell_type": "markdown",
   "source": [
    "Введём коэффициенты уравнения и реализуем функцию поиска корней, выведя результат на экран."
   ],
   "metadata": {
    "collapsed": false,
    "pycharm": {
     "name": "#%% md\n"
    }
   }
  },
  {
   "cell_type": "code",
   "execution_count": null,
   "outputs": [],
   "source": [
    "def main():\n",
    "    a, b, c, d = map(int, input().strip().split())\n",
    "    root = cubic_equation_root(a, b, c, d)\n",
    "    print(root)\n",
    "\n",
    "if __name__ == \"__main__\":\n",
    "    main()"
   ],
   "metadata": {
    "collapsed": false,
    "pycharm": {
     "name": "#%%\n"
    }
   }
  },
  {
   "cell_type": "markdown",
   "source": [
    "Выполненная задача:\n",
    "\n",
    "Дано кубическое уравнение a(x^3)+b(x^2)+cx+d=0 (a≠0).\n",
    "Известно, что у этого уравнения ровно один корень. Требуется его найти.\n",
    "\n",
    "Входные данные\n",
    "Во входных данных через пробел записаны четыре целых числа: −1000≤a,b,c,d≤1000.\n",
    "\n",
    "Выходные данные\n",
    "Выведите единственный корень уравнения с точностью не менее 4 знаков после десятичной точки."
   ],
   "metadata": {
    "collapsed": false,
    "pycharm": {
     "name": "#%% md\n"
    }
   }
  }
 ],
 "metadata": {
  "kernelspec": {
   "display_name": "Python 3",
   "language": "python",
   "name": "python3"
  },
  "language_info": {
   "codemirror_mode": {
    "name": "ipython",
    "version": 2
   },
   "file_extension": ".py",
   "mimetype": "text/x-python",
   "name": "python",
   "nbconvert_exporter": "python",
   "pygments_lexer": "ipython2",
   "version": "2.7.6"
  }
 },
 "nbformat": 4,
 "nbformat_minor": 0
}