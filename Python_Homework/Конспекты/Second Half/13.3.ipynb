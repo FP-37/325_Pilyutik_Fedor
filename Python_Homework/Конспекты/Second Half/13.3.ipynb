{
 "cells": [
  {
   "cell_type": "markdown",
   "source": [
    "Осуществим бинарный поиск через функцию для данной задачи. Мы начинаем с количества чисел n и счетчика попыток угадывания questions, равного нулю. Пока n больше 1, мы уменьшаем n вдвое, округляя результат вверх ((n+1)//2), и увеличиваем счетчик questions на 1. Этот процесс повторяется до тех пор, пока n не станет меньше или равно 1. В конце мы возвращаем значение questions, представляющее минимальное количество вопросов, необходимых для нахождения числа в диапазоне от 1 до n с помощью стратегии деления пополам."
   ],
   "metadata": {
    "collapsed": false,
    "pycharm": {
     "name": "#%% md\n"
    }
   }
  },
  {
   "cell_type": "code",
   "execution_count": null,
   "metadata": {
    "collapsed": true,
    "pycharm": {
     "name": "#%%\n"
    }
   },
   "outputs": [],
   "source": [
    "def min_guesses(n):\n",
    "    questions = 0\n",
    "    while n > 1:\n",
    "        n = (n + 1) // 2\n",
    "        questions += 1\n",
    "    return questions"
   ]
  },
  {
   "cell_type": "markdown",
   "source": [
    "Введём число для верхнего диапазона угадываемого числа, поместим в нашу функцию и выведем результат на экран."
   ],
   "metadata": {
    "collapsed": false,
    "pycharm": {
     "name": "#%% md\n"
    }
   }
  },
  {
   "cell_type": "code",
   "execution_count": null,
   "outputs": [],
   "source": [
    "def main():\n",
    "    n = int(input().strip())\n",
    "    result = min_guesses(n)\n",
    "    print(result)\n",
    "\n",
    "if __name__ == \"__main__\":\n",
    "    main()"
   ],
   "metadata": {
    "collapsed": false,
    "pycharm": {
     "name": "#%%\n"
    }
   }
  },
  {
   "cell_type": "markdown",
   "source": [
    "Выполненная задача:\n",
    "\n",
    "Вася загадал число от 1 до N. За какое наименьшее количество вопросов (на которые Вася отвечает \"да\" или \"нет\")\n",
    "Петя может угадать Васино число?\n",
    "\n",
    "Входные данные\n",
    "Вводится одно число N\n",
    "\n",
    "Выходные данные\n",
    "Выведите наименьшее количество вопросов, которого гарантированно хватит Пете, чтобы угадать Васино число."
   ],
   "metadata": {
    "collapsed": false,
    "pycharm": {
     "name": "#%% md\n"
    }
   }
  }
 ],
 "metadata": {
  "kernelspec": {
   "display_name": "Python 3",
   "language": "python",
   "name": "python3"
  },
  "language_info": {
   "codemirror_mode": {
    "name": "ipython",
    "version": 2
   },
   "file_extension": ".py",
   "mimetype": "text/x-python",
   "name": "python",
   "nbconvert_exporter": "python",
   "pygments_lexer": "ipython2",
   "version": "2.7.6"
  }
 },
 "nbformat": 4,
 "nbformat_minor": 0
}