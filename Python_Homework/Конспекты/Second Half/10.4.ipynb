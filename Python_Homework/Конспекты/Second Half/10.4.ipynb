{
 "cells": [
  {
   "cell_type": "markdown",
   "source": [
    "Класс Point реализуем аналогично прошлым задачам."
   ],
   "metadata": {
    "collapsed": false,
    "pycharm": {
     "name": "#%% md\n"
    }
   }
  },
  {
   "cell_type": "code",
   "execution_count": null,
   "metadata": {
    "collapsed": true,
    "pycharm": {
     "name": "#%%\n"
    }
   },
   "outputs": [],
   "source": [
    "class Point:\n",
    "    def __init__(self, x, y):\n",
    "        self.x = x\n",
    "        self.y = y\n",
    "\n",
    "    def get_distance_from_origin(self):\n",
    "        return (self.x ** 2 + self.y ** 2) ** 0.5"
   ]
  },
  {
   "cell_type": "markdown",
   "source": [
    "Классу PointSet в этот раз добавим метод sort_points_by_distance, в котором реализуем поиск удалённости точек от начала координат через метод get_distance_from_origin класса Point (т.к. класс PointSet содержит объекты класса Point), а далее отсортируем список точек с помощью функции sorted() по указанному параметру key, содержащему лямбда-функцию, возвращающую значение дистанции до начала координат."
   ],
   "metadata": {
    "collapsed": false,
    "pycharm": {
     "name": "#%% md\n"
    }
   }
  },
  {
   "cell_type": "code",
   "execution_count": null,
   "outputs": [],
   "source": [
    "class PointSet:\n",
    "    def __init__(self, n):\n",
    "        self.points = []\n",
    "        self.n = n\n",
    "        for _ in range(n):\n",
    "            x, y = map(int, input().strip().split())\n",
    "            self.points.append(Point(x, y))\n",
    "\n",
    "    def sort_points_by_distance(self):\n",
    "        distances = []\n",
    "        for point in self.points:\n",
    "            distances.append(point.get_distance_from_origin())\n",
    "        sorted_points = sorted(self.points, key=lambda point: point.get_distance_from_origin())\n",
    "        for point in sorted_points:\n",
    "            print(f\"{point.x} {point.y}\")"
   ],
   "metadata": {
    "collapsed": false,
    "pycharm": {
     "name": "#%%\n"
    }
   }
  },
  {
   "cell_type": "markdown",
   "source": [
    "Единственное отличие функции main от прошлых задач - вывод результата на экран заранее прописан в методе sort_points_by_distance, а значит не требует функции print() в основной подпрограмме."
   ],
   "metadata": {
    "collapsed": false,
    "pycharm": {
     "name": "#%% md\n"
    }
   }
  },
  {
   "cell_type": "code",
   "execution_count": null,
   "outputs": [],
   "source": [
    "def main():\n",
    "    n = int(input().strip())\n",
    "    point_set = PointSet(n)\n",
    "    point_set.sort_points_by_distance()\n",
    "\n",
    "if __name__ == \"__main__\":\n",
    "    main()"
   ],
   "metadata": {
    "collapsed": false,
    "pycharm": {
     "name": "#%%\n"
    }
   }
  },
  {
   "cell_type": "markdown",
   "source": [
    "Выполненная задача:\n",
    "\n",
    "Выведите все исходные точки в порядке возрастания их расстояний от начала координат.\n",
    "\n",
    "Создайте структуру Point и сохраните исходные данные в массиве структур Point.\n",
    "\n",
    "Входные данные\n",
    "Программа получает на вход набор точек на плоскости. Сначала задано количество точек n,\n",
    "затем идет последовательность из n строк, каждая из которых содержит два числа: координаты точки.\n",
    "Величина n не превосходит 100, все исходные координаты – целые числа, не превосходящие 10^3.\n",
    "\n",
    "Выходные данные\n",
    "Необходимо вывести все исходные точки в порядке возрастания их расстояний от начала координат.\n",
    "Программа выводит только координаты точек, их количество выводить не надо."
   ],
   "metadata": {
    "collapsed": false,
    "pycharm": {
     "name": "#%% md\n"
    }
   }
  }
 ],
 "metadata": {
  "kernelspec": {
   "display_name": "Python 3",
   "language": "python",
   "name": "python3"
  },
  "language_info": {
   "codemirror_mode": {
    "name": "ipython",
    "version": 2
   },
   "file_extension": ".py",
   "mimetype": "text/x-python",
   "name": "python",
   "nbconvert_exporter": "python",
   "pygments_lexer": "ipython2",
   "version": "2.7.6"
  }
 },
 "nbformat": 4,
 "nbformat_minor": 0
}