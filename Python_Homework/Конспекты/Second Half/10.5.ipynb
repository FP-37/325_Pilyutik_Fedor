{
 "cells": [
  {
   "cell_type": "markdown",
   "source": [
    "В данной задаче изменим метод класса Point на get_distance_from_other_point - он будет возвращать расстояние между двумя точками - между указанной точкой, для которой применяется метод, и указанной в параметрах."
   ],
   "metadata": {
    "collapsed": false,
    "pycharm": {
     "name": "#%% md\n"
    }
   }
  },
  {
   "cell_type": "code",
   "execution_count": null,
   "metadata": {
    "collapsed": true,
    "pycharm": {
     "name": "#%%\n"
    }
   },
   "outputs": [],
   "source": [
    "class Point:\n",
    "    def __init__(self, x, y):\n",
    "        self.x = x\n",
    "        self.y = y\n",
    "\n",
    "    def get_distance_from_other_point(self, other_point):\n",
    "        return ((self.x - other_point.x) ** 2 + (self.y - other_point.y) ** 2) ** 0.5"
   ]
  },
  {
   "cell_type": "markdown",
   "source": [
    "Создадим класс треугольник, для которого в атрибутах укажем его точки, а также единственный метод get_perimeter, возвращающий периметр треугольника, что мы реализуем через метод get_distance_from_other_point для объектов Point."
   ],
   "metadata": {
    "collapsed": false,
    "pycharm": {
     "name": "#%% md\n"
    }
   }
  },
  {
   "cell_type": "code",
   "execution_count": null,
   "outputs": [],
   "source": [
    "class Triangle:\n",
    "    def __init__(self, p1, p2, p3):\n",
    "        self.p1 = p1\n",
    "        self.p2 = p2\n",
    "        self.p3 = p3\n",
    "\n",
    "    def get_perimeter(self):\n",
    "        a = self.p1.get_distance_from_other_point(self.p2)\n",
    "        b = self.p2.get_distance_from_other_point(self.p3)\n",
    "        c = self.p3.get_distance_from_other_point(self.p1)\n",
    "        return a + b + c"
   ],
   "metadata": {
    "collapsed": false,
    "pycharm": {
     "name": "#%%\n"
    }
   }
  },
  {
   "cell_type": "markdown",
   "source": [
    "Класс PointSet в этот раз будет содержать метод find_max_perimeter_triangle, который через циклы подбирает среди точек треугольник с наибольшим диаметром путём перебора треугольников и сравнения их периметров. Метод не возвращает значений, но выводит на экран максимальный периметр."
   ],
   "metadata": {
    "collapsed": false,
    "pycharm": {
     "name": "#%% md\n"
    }
   }
  },
  {
   "cell_type": "code",
   "execution_count": null,
   "outputs": [],
   "source": [
    "class PointSet:\n",
    "    def __init__(self, n):\n",
    "        self.points = []\n",
    "        self.n = n\n",
    "        for _ in range(n):\n",
    "            x, y = map(int, input().strip().split())\n",
    "            self.points.append(Point(x, y))\n",
    "\n",
    "    def find_max_perimeter_triangle(self):\n",
    "        max_triangle = Triangle(self.points[0], self.points[1], self.points[2])\n",
    "        max_perimeter = max_triangle.get_perimeter()\n",
    "        for i in range(self.n - 2):\n",
    "            for j in range(i + 1, self.n - 1):\n",
    "                for k in range(j + 1, self.n):\n",
    "                    triangle = Triangle(self.points[i], self.points[j], self.points[k])\n",
    "                    perimeter = triangle.get_perimeter()\n",
    "                    if perimeter > max_perimeter:\n",
    "                        max_triangle = triangle\n",
    "                        max_perimeter = perimeter\n",
    "\n",
    "        print(max_perimeter)"
   ],
   "metadata": {
    "collapsed": false,
    "pycharm": {
     "name": "#%%\n"
    }
   }
  },
  {
   "cell_type": "markdown",
   "source": [
    "Функция main по своему принципу аналогична предыдущей задаче."
   ],
   "metadata": {
    "collapsed": false,
    "pycharm": {
     "name": "#%% md\n"
    }
   }
  },
  {
   "cell_type": "code",
   "execution_count": null,
   "outputs": [],
   "source": [
    "def main():\n",
    "    n = int(input().strip())\n",
    "    point_set = PointSet(n)\n",
    "    point_set.find_max_perimeter_triangle()\n",
    "\n",
    "if __name__ == \"__main__\":\n",
    "    main()"
   ],
   "metadata": {
    "collapsed": false,
    "pycharm": {
     "name": "#%%\n"
    }
   }
  },
  {
   "cell_type": "markdown",
   "source": [
    "Выполненная задача:\n",
    "\n",
    "Среди исходных точек найдите три, образующие треугольник с максимальным периметром. Выведите данный периметр.\n",
    "\n",
    "Входные данные\n",
    "Программа получает на вход набор точек на плоскости. Сначала задано количество точек n (2<n<101),\n",
    "затем идет последовательность из n строк, каждая из которых содержит два числа: координаты точки.\n",
    "Все исходные координаты – целые числа, не превосходящие 10^3.\n",
    "\n",
    "Выходные данные\n",
    "Необходимо вывести найденный периметр с точностью в 15 значащих цифр."
   ],
   "metadata": {
    "collapsed": false,
    "pycharm": {
     "name": "#%% md\n"
    }
   }
  }
 ],
 "metadata": {
  "kernelspec": {
   "display_name": "Python 3",
   "language": "python",
   "name": "python3"
  },
  "language_info": {
   "codemirror_mode": {
    "name": "ipython",
    "version": 2
   },
   "file_extension": ".py",
   "mimetype": "text/x-python",
   "name": "python",
   "nbconvert_exporter": "python",
   "pygments_lexer": "ipython2",
   "version": "2.7.6"
  }
 },
 "nbformat": 4,
 "nbformat_minor": 0
}