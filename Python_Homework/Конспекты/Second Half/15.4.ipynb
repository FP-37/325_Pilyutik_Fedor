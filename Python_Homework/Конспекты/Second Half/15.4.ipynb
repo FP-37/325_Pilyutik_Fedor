{
 "cells": [
  {
   "cell_type": "markdown",
   "source": [
    "Импортируем модуль math."
   ],
   "metadata": {
    "collapsed": false,
    "pycharm": {
     "name": "#%% md\n"
    }
   }
  },
  {
   "cell_type": "code",
   "execution_count": null,
   "outputs": [],
   "source": [
    "import math"
   ],
   "metadata": {
    "collapsed": false,
    "pycharm": {
     "name": "#%%\n"
    }
   }
  },
  {
   "cell_type": "markdown",
   "source": [
    "Сначала я не совсем понял, как в данном случае реализовать бинарный поиск, поэтому подсмотрел, что для решения такого уравнения можно использовать метод Ньютона/метод касательных для приближенного решения уравнения x² + √x - C = 0."
   ],
   "metadata": {
    "collapsed": false,
    "pycharm": {
     "name": "#%% md\n"
    }
   }
  },
  {
   "cell_type": "code",
   "execution_count": null,
   "metadata": {
    "collapsed": true,
    "pycharm": {
     "name": "#%%\n"
    }
   },
   "outputs": [],
   "source": [
    "def solve_equation_Newtone(C):\n",
    "    x = max(1, C**0.5)\n",
    "    for _ in range(100):\n",
    "        f_x = x**2 + x**0.5 - C\n",
    "        f_prime_x = 2*x + 0.5*x**(-0.5)\n",
    "        x_new = x - f_x / f_prime_x\n",
    "        if abs(x_new - x) < 1e-7:\n",
    "            return x_new\n",
    "        x = x_new\n",
    "    return None"
   ]
  },
  {
   "cell_type": "markdown",
   "source": [
    "Однако позже всё же удалось реализовать решение через функцию solve_equation. Рассмотрим её подробнее.\n",
    "Функция solve_equation(C) использует бинарный поиск для приближенного решения уравнения x² + √x - C = 0. Сначала проверяется условие C ≥ 0, так как при C < 0 действительных решений нет. Затем устанавливаются нижняя (low) и верхняя (high) границы интервала поиска, где low инициализируется 0.0, а high — как максимум из 1.0 и C. Цикл while продолжается до тех пор, пока разница между high и low не станет меньше 1e-7, определяя точность. На каждой итерации вычисляется среднее значение mid и значение функции в этой точке f_mid = mid**2 + math.sqrt(mid) - C. Если f_mid равно 0, то mid является точным решением, и оно возвращается. Если f_mid меньше 0, то решение находится в правой половине интервала, и low обновляется до mid; иначе, решение находится в левой половине, и high обновляется до mid. После завершения цикла возвращается среднее значение low и high как приближенное решение, найденное с помощью бинарного поиска."
   ],
   "metadata": {
    "collapsed": false,
    "pycharm": {
     "name": "#%% md\n"
    }
   }
  },
  {
   "cell_type": "code",
   "execution_count": null,
   "outputs": [],
   "source": [
    "def solve_equation(C):\n",
    "    if C < 0:\n",
    "        return None\n",
    "\n",
    "    low = 0.0\n",
    "    high = max(1.0, C)\n",
    "\n",
    "    while high - low > 1e-7:\n",
    "        mid = (low + high) / 2\n",
    "        f_mid = mid**2 + math.sqrt(mid) - C\n",
    "\n",
    "        if f_mid == 0:\n",
    "            return mid\n",
    "        elif f_mid < 0:\n",
    "            low = mid\n",
    "        else:\n",
    "            high = mid\n",
    "\n",
    "    return (low + high) / 2"
   ],
   "metadata": {
    "collapsed": false,
    "pycharm": {
     "name": "#%%\n"
    }
   }
  },
  {
   "cell_type": "markdown",
   "source": [
    "Реализуем основную функцию. Из примечательного - впервые в решениях используем конструкцию f\"{solution:.8f}\" - форматированную строку, в которой выведем переменную solution формата .8f - этот спецификатор указывает, что выводимое значение будет указано как число с плавающей точкой с точностью в 8 знаков после запятой."
   ],
   "metadata": {
    "collapsed": false,
    "pycharm": {
     "name": "#%% md\n"
    }
   }
  },
  {
   "cell_type": "code",
   "execution_count": null,
   "outputs": [],
   "source": [
    "def main():\n",
    "    C = float(input())\n",
    "    solution = solve_equation(C)\n",
    "    print(f\"{solution:.8f}\")\n",
    "\n",
    "if __name__ == \"__main__\":\n",
    "    main()"
   ],
   "metadata": {
    "collapsed": false,
    "pycharm": {
     "name": "#%%\n"
    }
   }
  },
  {
   "cell_type": "markdown",
   "source": [
    "Выполненная задача:\n",
    "\n",
    "Найдите такое число x, что x^2+√x=C, с точностью не менее 6 знаков после точки.\n",
    "\n",
    "Входные данные\n",
    "В единственной строке содержится вещественное число 1.0≤C≤1010.\n",
    "\n",
    "Выходные данные\n",
    "Выведите одно число — искомый x."
   ],
   "metadata": {
    "collapsed": false,
    "pycharm": {
     "name": "#%% md\n"
    }
   }
  }
 ],
 "metadata": {
  "kernelspec": {
   "display_name": "Python 3",
   "language": "python",
   "name": "python3"
  },
  "language_info": {
   "codemirror_mode": {
    "name": "ipython",
    "version": 2
   },
   "file_extension": ".py",
   "mimetype": "text/x-python",
   "name": "python",
   "nbconvert_exporter": "python",
   "pygments_lexer": "ipython2",
   "version": "2.7.6"
  }
 },
 "nbformat": 4,
 "nbformat_minor": 0
}