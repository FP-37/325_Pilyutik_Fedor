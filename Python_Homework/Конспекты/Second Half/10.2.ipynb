{
 "cells": [
  {
   "cell_type": "markdown",
   "source": [
    "В данной задаче класс Point представляет точку на плоскости с координатами x и y. Метод __init__ инициализирует эти атрибуты, а метод __str__ позволяет удобно выводить координаты точки в виде строки.\n",
    "Также стоит указать, что мы использовали синтаксис f\"{переменная}\", что позволяет указывать переменные, сразу помещая их в строку."
   ],
   "metadata": {
    "collapsed": false,
    "pycharm": {
     "name": "#%% md\n"
    }
   }
  },
  {
   "cell_type": "code",
   "execution_count": null,
   "metadata": {
    "collapsed": true,
    "pycharm": {
     "name": "#%%\n"
    }
   },
   "outputs": [],
   "source": [
    "class Point:\n",
    "    def __init__(self, x, y):\n",
    "        self.x = x\n",
    "        self.y = y\n",
    "\n",
    "    def __str__(self):\n",
    "        return f\"{self.x} {self.y}\""
   ]
  },
  {
   "cell_type": "markdown",
   "source": [
    "Класс PointSet опять же создаём для хранения набора точек, но теперь создадим метод center_of_gravity под условие задачи - он будет вычислять координаты \"центра тяжести\" множества точек. Реализуем это методом подсчёта суммы количества точек, суммы координат x и y, а далее получим частное этих сумм."
   ],
   "metadata": {
    "collapsed": false,
    "pycharm": {
     "name": "#%% md\n"
    }
   }
  },
  {
   "cell_type": "code",
   "execution_count": null,
   "outputs": [],
   "source": [
    "class PointSet:\n",
    "    def __init__(self, n):\n",
    "        self.points = []\n",
    "        self.n = n\n",
    "        for _ in range(n):\n",
    "            x, y = map(int, input().strip().split())\n",
    "            self.points.append(Point(x, y))\n",
    "\n",
    "    def center_of_gravity(self):\n",
    "\n",
    "        x_sum = 0\n",
    "        y_sum = 0\n",
    "\n",
    "        for point in self.points:\n",
    "            x_sum += point.x\n",
    "            y_sum += point.y\n",
    "\n",
    "        total_mass = self.n\n",
    "        x_gravity = x_sum / total_mass\n",
    "        y_gravity = y_sum / total_mass\n",
    "\n",
    "        return Point(x_gravity, y_gravity)"
   ],
   "metadata": {
    "collapsed": false,
    "pycharm": {
     "name": "#%%\n"
    }
   }
  },
  {
   "cell_type": "markdown",
   "source": [
    "Опять же, вводим количество точек n через клавиатуру, создаём экземпляр класса PointSet, указываем n в параметры объекта, далее после реализации точек в point_set осуществляем поиск \"центра гравитации\" для него и выводим результат на экран."
   ],
   "metadata": {
    "collapsed": false,
    "pycharm": {
     "name": "#%% md\n"
    }
   }
  },
  {
   "cell_type": "code",
   "execution_count": null,
   "outputs": [],
   "source": [
    "def main():\n",
    "    n = int(input().strip())\n",
    "    point_set = PointSet(n)\n",
    "    print(point_set.center_of_gravity())\n",
    "\n",
    "if __name__ == \"__main__\":\n",
    "    main()"
   ],
   "metadata": {
    "collapsed": false,
    "pycharm": {
     "name": "#%%\n"
    }
   }
  },
  {
   "cell_type": "markdown",
   "source": [
    "Выполненная задача:\n",
    "\n",
    "Выведите координаты центра тяжести данного множества точек.\n",
    "\n",
    "Создайте структуру Point и сохраните исходные данные в массиве структур Point.\n",
    "\n",
    "Входные данные\n",
    "Программа получает на вход набор точек на плоскости. Сначала задано количество точек n,\n",
    "затем идет последовательность из n строк, каждая из которых содержит два числа: координаты точки.\n",
    "Величина n не превосходит 100, все исходные координаты – целые числа, не превосходящие 10^3.\n",
    "\n",
    "Выходные данные\n",
    "Выведите  координаты центра тяжести данного множества точек. Ответ необходимо выводить с точностью в 15 значащих цифр."
   ],
   "metadata": {
    "collapsed": false,
    "pycharm": {
     "name": "#%% md\n"
    }
   }
  }
 ],
 "metadata": {
  "kernelspec": {
   "display_name": "Python 3",
   "language": "python",
   "name": "python3"
  },
  "language_info": {
   "codemirror_mode": {
    "name": "ipython",
    "version": 2
   },
   "file_extension": ".py",
   "mimetype": "text/x-python",
   "name": "python",
   "nbconvert_exporter": "python",
   "pygments_lexer": "ipython2",
   "version": "2.7.6"
  }
 },
 "nbformat": 4,
 "nbformat_minor": 0
}