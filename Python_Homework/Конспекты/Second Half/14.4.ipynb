{
 "cells": [
  {
   "cell_type": "markdown",
   "source": [
    "Функция min_board_size(w, h, n) определяет минимальный размер квадратной доски (сторона left), необходимый для размещения n дипломов размером w * h. Она использует бинарный поиск в диапазоне от 1 до n * max(w, h) (максимальный возможный размер доски). В каждой итерации вызывается функция can_fit_diplomas для проверки, можно ли разместить все дипломы на доске заданного размера. Если можно, правая граница поиска уменьшается, иначе левая граница увеличивается. В результате функция возвращает минимальную длину стороны квадратной доски."
   ],
   "metadata": {
    "collapsed": false,
    "pycharm": {
     "name": "#%% md\n"
    }
   }
  },
  {
   "cell_type": "code",
   "execution_count": null,
   "metadata": {
    "collapsed": true,
    "pycharm": {
     "name": "#%%\n"
    }
   },
   "outputs": [],
   "source": [
    "def min_board_size(w, h, n):\n",
    "    left, right = 1, n * max(w, h)\n",
    "\n",
    "    while left <= right:\n",
    "        mid = (left + right) // 2\n",
    "        if can_fit_diplomas(w, h, n, mid):\n",
    "            right = mid - 1\n",
    "        else:\n",
    "            left = mid + 1\n",
    "\n",
    "    return left"
   ]
  },
  {
   "cell_type": "markdown",
   "source": [
    "Функция can_fit_diplomas(w, h, n, side_length) проверяет, достаточно ли доски размера side_length x side_length для размещения n дипломов. Она вычисляет максимальное количество дипломов, которые можно разместить в строке и столбце, и умножает эти значения, чтобы получить общее количество дипломов, которые помещаются на доске. Функция возвращает True, если общее количество дипломов больше или равно n, и False в противном случае."
   ],
   "metadata": {
    "collapsed": false,
    "pycharm": {
     "name": "#%% md\n"
    }
   }
  },
  {
   "cell_type": "code",
   "execution_count": null,
   "outputs": [],
   "source": [
    "def can_fit_diplomas(w, h, n, side_length):\n",
    "    max_diplomas_per_row = side_length // w\n",
    "    max_diplomas_per_col = side_length // h\n",
    "\n",
    "    total_diplomas = max_diplomas_per_row * max_diplomas_per_col\n",
    "\n",
    "    return total_diplomas >= n"
   ],
   "metadata": {
    "collapsed": false,
    "pycharm": {
     "name": "#%%\n"
    }
   }
  },
  {
   "cell_type": "markdown",
   "source": [
    "В функции main ревлизуем ввод данных и вывод результата выполнения функции min_board_size с указанными данными на экран."
   ],
   "metadata": {
    "collapsed": false,
    "pycharm": {
     "name": "#%% md\n"
    }
   }
  },
  {
   "cell_type": "code",
   "execution_count": null,
   "outputs": [],
   "source": [
    "def main():\n",
    "    w, h, n = map(int, input().strip().split())\n",
    "    print(min_board_size(w, h, n))\n",
    "\n",
    "\n",
    "if __name__ == \"__main__\":\n",
    "    main()"
   ],
   "metadata": {
    "collapsed": false,
    "pycharm": {
     "name": "#%%\n"
    }
   }
  },
  {
   "cell_type": "markdown",
   "source": [
    "Выполненная задача:\n",
    "\n",
    "Когда Петя учился в школе, он часто участвовал в олимпиадах по информатике, математике и физике.\n",
    "Так как он был достаточно способным мальчиком и усердно учился, то на многих из этих олимпиад он получал дипломы.\n",
    "К окончанию школы у него накопилось n  дипломов, причём, как оказалось, все они имели одинаковые размеры:\n",
    "w — в ширину и h — в высоту.\n",
    "Сейчас Петя учится в одном из лучших российских университетов и живёт в общежитии со своими одногруппниками.\n",
    "Он решил украсить свою комнату, повесив на одну из стен свои дипломы за школьные олимпиады.\n",
    "Так как к бетонной стене прикрепить дипломы достаточно трудно, то он решил купить специальную доску\n",
    "из пробкового дерева, чтобы прикрепить её к стене, а к ней — дипломы. Для того чтобы эта конструкция выглядела\n",
    "более красиво, Петя хочет, чтобы доска была квадратной и занимала как можно меньше места на стене.\n",
    "Каждый диплом должен быть размещён строго в прямоугольнике размером w на h.\n",
    "Дипломы запрещается поворачивать на 90 градусов. Прямоугольники, соответствующие различным дипломам,\n",
    "не должны иметь общих внутренних точек. Требуется написать программу, которая вычислит минимальный размер стороны доски,\n",
    "которая потребуется Пете для размещения всех своих дипломов.\n",
    "\n",
    "Входные данные\n",
    "Входной файл содержит три целых числа: w, h, n (1≤w,h,n≤10^9).\n",
    "\n",
    "Выходные данные\n",
    "В выходной файл необходимо вывести ответ на поставленную задачу."
   ],
   "metadata": {
    "collapsed": false,
    "pycharm": {
     "name": "#%% md\n"
    }
   }
  }
 ],
 "metadata": {
  "kernelspec": {
   "display_name": "Python 3",
   "language": "python",
   "name": "python3"
  },
  "language_info": {
   "codemirror_mode": {
    "name": "ipython",
    "version": 2
   },
   "file_extension": ".py",
   "mimetype": "text/x-python",
   "name": "python",
   "nbconvert_exporter": "python",
   "pygments_lexer": "ipython2",
   "version": "2.7.6"
  }
 },
 "nbformat": 4,
 "nbformat_minor": 0
}